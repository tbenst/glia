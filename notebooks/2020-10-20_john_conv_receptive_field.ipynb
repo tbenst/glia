{
 "cells": [
  {
   "cell_type": "code",
   "execution_count": 1,
   "metadata": {},
   "outputs": [
    {
     "name": "stderr",
     "output_type": "stream",
     "text": [
      "/home/tyler/.conda/envs/torch/lib/python3.8/site-packages/pkg_resources/__init__.py:1149: DeprecationWarning: Use of .. or absolute path in a resource path is not allowed and will raise exceptions in a future release.\n",
      "  return get_provider(package_or_requirement).get_resource_stream(\n"
     ]
    }
   ],
   "source": [
    "import seaborn as sns\n",
    "\n",
    "# import hdf5plugin, h5py\n",
    "import torch, tables\n",
    "from torch import nn\n",
    "import os\n",
    "import torch.nn.functional as F\n",
    "from torchvision.datasets import MNIST\n",
    "from torch.utils.data import DataLoader, random_split, Dataset\n",
    "from torchvision import transforms\n",
    "from functools import partial\n",
    "from tqdm.auto import tqdm\n",
    "from typing import Any\n",
    "import torchvision\n",
    "import matplotlib.pyplot as plt\n",
    "import pytorch_lightning as pl\n",
    "import numpy as np\n",
    "from dataclasses import dataclass\n",
    "from typing import Callable\n",
    "import cv2, functools, glia\n",
    "import pytorch_lightning as pl\n",
    "from pytorch_lightning.loggers.neptune import NeptuneLogger\n",
    "import neptune\n",
    "import neptunecontrib.monitoring.optuna as optuna_utils\n",
    "from optuna.integration.pytorch_lightning import PyTorchLightningPruningCallback\n",
    "import optuna\n",
    "from datetime import datetime\n",
    "import socket, plotly\n",
    "from pathlib import Path\n",
    "import torch.nn, gc, psycopg2\n",
    "import sys, traceback\n",
    "from glia.reconstructions.lib import resize_3d, gray_3d, ImageData, RetinaData, \\\n",
    "     ConcatDataset, ImageRetina\n",
    "from sqlalchemy import create_engine\n",
    "import pandas as pd\n",
    "\n",
    "# sys.argv = [None, \"/mnt/fs1/tbenst/200623_faces/R1_E3_AMES_200min_200f_14l_rgb.h5\",\n",
    "#             \"/mnt/fs1/tbenst/models/3brain/\", \"9\"]\n",
    "\n",
    "sys.argv = [None, \"/data/uw/200623_faces/R1_E3_AMES_200min_200f_14l_rgb.h5\",\n",
    "           \"/data/uw/models/\", \"0\"]\n",
    "\n",
    "filepath = sys.argv[1]\n",
    "# model_base_dir = \"/storage/models/retina-reconstruction\"\n",
    "model_base_dir = sys.argv[2]\n",
    "gpus = [ int(sys.argv[3]) ]\n",
    "\n",
    "# open file\n",
    "hdf5 = tables.open_file(filepath,'r')\n",
    "h5 = hdf5.root\n",
    "\n",
    "# crop image\n",
    "imgs = h5[\"images\"][0:100]\n",
    "avg_img = np.mean(imgs, axis=(0,3))\n",
    "y,x = np.where(avg_img>5)\n",
    "xleft = min(x)\n",
    "xright = max(x)\n",
    "ytop = min(y)\n",
    "ybot = max(y)"
   ]
  },
  {
   "cell_type": "code",
   "execution_count": 2,
   "metadata": {},
   "outputs": [
    {
     "data": {
      "application/vnd.jupyter.widget-view+json": {
       "model_id": "199f84de9ee241c5b5fe37afc67a6d9f",
       "version_major": 2,
       "version_minor": 0
      },
      "text/plain": [
       "HBox(children=(FloatProgress(value=0.0, max=2800.0), HTML(value='')))"
      ]
     },
     "metadata": {},
     "output_type": "display_data"
    },
    {
     "name": "stdout",
     "output_type": "stream",
     "text": [
      "\n"
     ]
    },
    {
     "data": {
      "text/plain": [
       "(torch.Size([1, 64, 64]), torch.Size([10, 6, 64, 64]))"
      ]
     },
     "execution_count": 2,
     "metadata": {},
     "output_type": "execute_result"
    }
   ],
   "source": [
    "image_dset = ImageData(h5[\"images\"], crop=[ytop,ybot,xleft,xright])\n",
    "# retina_dset = RetinaOnOffData(h5[\"data\"], no_units=False, on_or_off=False)\n",
    "retina_dset = RetinaData(h5[\"data\"], nbins=10)\n",
    "(image_dset[0].shape, retina_dset[0].shape)"
   ]
  },
  {
   "cell_type": "code",
   "execution_count": 3,
   "metadata": {},
   "outputs": [],
   "source": [
    "from glia.reconstructions.models.john_conv import ConvNet"
   ]
  },
  {
   "cell_type": "code",
   "execution_count": 7,
   "metadata": {},
   "outputs": [],
   "source": [
    "modelpath = \"/data/uw/models/2020-09-16T21:23:09.702675-optuna/trial_172/john-conv_epoch=296_val_mse_loss=36.02.ckpt\""
   ]
  },
  {
   "cell_type": "code",
   "execution_count": null,
   "metadata": {},
   "outputs": [],
   "source": [
    "model = ConvNet.load_from_checkpoint(modelpath)\n",
    "model.eval();"
   ]
  },
  {
   "cell_type": "code",
   "execution_count": 19,
   "metadata": {},
   "outputs": [
    {
     "data": {
      "image/png": "[encoded data removed]",
      "text/plain": [
       "<Figure size 432x288 with 2 Axes>"
      ]
     },
     "metadata": {
      "needs_background": "light"
     },
     "output_type": "display_data"
    }
   ],
   "source": [
    "with torch.no_grad():\n",
    "    plt.imshow(model(retina_dset[10][None])[0].numpy(), cmap=\"gray\")\n",
    "    plt.colorbar()"
   ]
  }
 ],
 "metadata": {
  "kernelspec": {
   "display_name": "Python [conda env:torch]",
   "language": "python",
   "name": "conda-env-torch-py"
  },
  "language_info": {
   "codemirror_mode": {
    "name": "ipython",
    "version": 3
   },
   "file_extension": ".py",
   "mimetype": "text/x-python",
   "name": "python",
   "nbconvert_exporter": "python",
   "pygments_lexer": "ipython3",
   "version": "3.8.5"
  }
 },
 "nbformat": 4,
 "nbformat_minor": 4
}
