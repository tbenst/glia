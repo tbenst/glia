{
 "cells": [
  {
   "cell_type": "code",
   "execution_count": 55,
   "metadata": {},
   "outputs": [],
   "source": [
    "import glia, os, numpy as np\n",
    "from functools import partial\n",
    "import sklearn.svm as svm\n",
    "from sklearn.model_selection import GridSearchCV"
   ]
  },
  {
   "cell_type": "code",
   "execution_count": 26,
   "metadata": {},
   "outputs": [],
   "source": [
    "grating_speed_fp = \"/storage/uw/3brain/200805_acuity_tests/R1_E3_AMES_240min_grating_speeds.npz\"\n",
    "checkerboard_contrast_fp = \"/storage/uw/3brain/200805_acuity_tests/R1_E4_AMES_340min_checkerboard_contrast.npz\"\n",
    "grating_contrast_fp = \"/storage/uw/3brain/200805_acuity_tests/R1_E5_AMES_430min_grating_contrast.npz\"\n",
    "letters_fp = \"/storage/uw/3brain/200805_acuity_tests/R1_E6_AMES_540min_letters.npz\""
   ]
  },
  {
   "cell_type": "markdown",
   "metadata": {},
   "source": [
    "## get experimental parameters "
   ]
  },
  {
   "cell_type": "code",
   "execution_count": 33,
   "metadata": {},
   "outputs": [],
   "source": [
    "px_per_deg = 12.524 # darwin to confirm latest value...\n",
    "px_to_cpd = partial(glia.px_to_cpd, px_per_deg=px_per_deg)\n",
    "px_to_logmar = partial(glia.px_to_logmar, px_per_deg=px_per_deg)"
   ]
  },
  {
   "cell_type": "code",
   "execution_count": 37,
   "metadata": {},
   "outputs": [],
   "source": [
    "data_dir = os.path.split(grating_speed_fp)[0]\n",
    "lab_notebook = glia.open_lab_notebook(data_dir + \"/lab notebook.yml\")\n",
    "\n",
    "name = os.path.split(grating_speed_fp)[1][:-4] # drop .npz\n",
    "stimulus_file = os.path.join(data_dir, name + \".stim\")\n",
    "metadata, stimulus_list, method = glia.read_stimulus(stimulus_file)\n",
    "sizes = glia.get_stimulus_parameters(stimulus_list, 'GRATING', \"width\")\n",
    "grating_speed_sizes = list(map(px_to_cpd, sizes))\n",
    "grating_speed_conditions = glia.get_stimulus_parameters(stimulus_list, 'GRATING', 'speed')\n",
    "\n",
    "name = os.path.split(checkerboard_contrast_fp)[1][:-4] # drop .npz\n",
    "stimulus_file = os.path.join(data_dir, name + \".stim\")\n",
    "metadata, stimulus_list, method = glia.read_stimulus(stimulus_file)\n",
    "checkerboard_contrast_sizes = list(map(px_to_cpd, sizes))\n",
    "checkerboard_contrast_conditions = glia.get_checkerboard_contrasts(stimulus_list)\n",
    "\n",
    "name = os.path.split(grating_contrast_fp)[1][:-4] # drop .npz\n",
    "stimulus_file = os.path.join(data_dir, name + \".stim\")\n",
    "metadata, stimulus_list, method = glia.read_stimulus(stimulus_file)\n",
    "grating_speed_sizes = list(map(px_to_cpd, sizes))\n",
    "grating_speed_conditions = glia.get_grating_contrasts(stimulus_list)\n",
    "\n",
    "name = os.path.split(letters_fp)[1][:-4] # drop .npz\n",
    "stimulus_file = os.path.join(data_dir, name + \".stim\")\n",
    "metadata, stimulus_list, method = glia.read_stimulus(stimulus_file)\n",
    "letter_sizes = glia.get_stimulus_parameters(stimulus_list, \"LETTER\", 'size')\n",
    "letter_sizes = px_to_logmar(letter_sizes)"
   ]
  },
  {
   "cell_type": "code",
   "execution_count": 38,
   "metadata": {},
   "outputs": [
    {
     "data": {
      "text/plain": [
       "([0.36835294117647055,\n",
       "  0.2319259259259259,\n",
       "  0.1456279069767442,\n",
       "  0.09208823529411764,\n",
       "  0.0585233644859813,\n",
       "  0.036835294117647056],\n",
       " [0.3990440051725493,\n",
       "  0.5010548441466505,\n",
       "  0.6286924914335388,\n",
       "  0.7957504163913921,\n",
       "  1.0])"
      ]
     },
     "execution_count": 38,
     "metadata": {},
     "output_type": "execute_result"
    }
   ],
   "source": [
    "grating_speed_sizes, grating_speed_conditions"
   ]
  },
  {
   "cell_type": "code",
   "execution_count": 39,
   "metadata": {},
   "outputs": [
    {
     "data": {
      "text/plain": [
       "([0.36835294117647055,\n",
       "  0.2319259259259259,\n",
       "  0.1456279069767442,\n",
       "  0.09208823529411764,\n",
       "  0.0585233644859813,\n",
       "  0.036835294117647056],\n",
       " [0.31519833051120055,\n",
       "  0.3990440051725493,\n",
       "  0.5010548441466505,\n",
       "  0.6286924914335388,\n",
       "  0.7957504163913921,\n",
       "  1.0])"
      ]
     },
     "execution_count": 39,
     "metadata": {},
     "output_type": "execute_result"
    }
   ],
   "source": [
    "checkerboard_contrast_sizes, checkerboard_contrast_conditions"
   ]
  },
  {
   "cell_type": "code",
   "execution_count": 40,
   "metadata": {},
   "outputs": [
    {
     "data": {
      "text/plain": [
       "([0.36835294117647055,\n",
       "  0.2319259259259259,\n",
       "  0.1456279069767442,\n",
       "  0.09208823529411764,\n",
       "  0.0585233644859813,\n",
       "  0.036835294117647056],\n",
       " [0.3990440051725493,\n",
       "  0.5010548441466505,\n",
       "  0.6286924914335388,\n",
       "  0.7957504163913921,\n",
       "  1.0])"
      ]
     },
     "execution_count": 40,
     "metadata": {},
     "output_type": "execute_result"
    }
   ],
   "source": [
    "grating_speed_sizes, grating_speed_conditions"
   ]
  },
  {
   "cell_type": "code",
   "execution_count": 47,
   "metadata": {},
   "outputs": [
    {
     "data": {
      "text/plain": [
       "[2.0783482001108036,\n",
       " 2.379378195774785,\n",
       " 2.680408191438766,\n",
       " 2.9814381871027473,\n",
       " 3.1575294461584282,\n",
       " 3.2824681827667286,\n",
       " 3.379378195774785,\n",
       " 3.4585594418224095]"
      ]
     },
     "execution_count": 47,
     "metadata": {},
     "output_type": "execute_result"
    }
   ],
   "source": [
    "letter_sizes"
   ]
  },
  {
   "cell_type": "markdown",
   "metadata": {},
   "source": [
    "## letter SVM"
   ]
  },
  {
   "cell_type": "code",
   "execution_count": 50,
   "metadata": {},
   "outputs": [],
   "source": [
    "data = np.load(letters_fp)"
   ]
  },
  {
   "cell_type": "code",
   "execution_count": 51,
   "metadata": {},
   "outputs": [],
   "source": [
    "training_100ms = glia.bin_100ms(np.expand_dims(data[\"training_data\"],0))\n",
    "validation_100ms = glia.bin_100ms(np.expand_dims(data[\"validation_data\"],0))"
   ]
  },
  {
   "cell_type": "code",
   "execution_count": 59,
   "metadata": {},
   "outputs": [
    {
     "name": "stdout",
     "output_type": "stream",
     "text": [
      "=== SVC for logmar 2.0783482001108036 ===\n"
     ]
    },
    {
     "name": "stderr",
     "output_type": "stream",
     "text": [
      "/home/tyler/lib/anaconda3/envs/glia/lib/python3.8/site-packages/sklearn/metrics/_classification.py:1221: UndefinedMetricWarning: Precision and F-score are ill-defined and being set to 0.0 in labels with no predicted samples. Use `zero_division` parameter to control this behavior.\n",
      "  _warn_prf(average, modifier, msg_start, len(result))\n"
     ]
    },
    {
     "name": "stdout",
     "output_type": "stream",
     "text": [
      "              precision    recall  f1-score   support\n",
      "\n",
      "           0       0.00      0.00      0.00        10\n",
      "           1       0.33      0.10      0.15        10\n",
      "           2       0.25      0.10      0.14        10\n",
      "           3       0.00      0.00      0.00        10\n",
      "           4       0.05      0.10      0.06        10\n",
      "           5       0.00      0.00      0.00        10\n",
      "           6       0.00      0.00      0.00        10\n",
      "           7       0.15      0.50      0.23        10\n",
      "           8       1.00      0.10      0.18        10\n",
      "           9       0.25      0.10      0.14        10\n",
      "          10       0.10      0.40      0.16        10\n",
      "\n",
      "    accuracy                           0.13       110\n",
      "   macro avg       0.19      0.13      0.10       110\n",
      "weighted avg       0.19      0.13      0.10       110\n",
      "\n",
      "       BLANK  C  D  H  K  N  O  R  S  V  Z\n",
      "BLANK      0  0  0  0  4  0  0  4  0  0  2\n",
      "C          0  1  0  0  0  0  1  3  0  0  5\n",
      "D          0  0  1  0  2  0  0  4  0  0  3\n",
      "H          0  0  0  0  1  0  0  4  0  0  5\n",
      "K          0  0  0  0  1  0  0  5  0  2  2\n",
      "N          0  0  0  0  3  0  0  1  0  0  6\n",
      "O          0  1  1  1  2  0  0  3  0  0  2\n",
      "R          0  0  0  0  3  0  0  5  0  0  2\n",
      "S          0  0  1  0  2  0  0  1  1  0  5\n",
      "V          0  1  1  1  0  0  0  2  0  1  4\n",
      "Z          0  0  0  0  4  0  0  1  0  1  4\n",
      "=== SVC for logmar 2.379378195774785 ===\n",
      "              precision    recall  f1-score   support\n",
      "\n",
      "           0       0.67      0.40      0.50        10\n",
      "           1       0.18      0.20      0.19        10\n",
      "           2       0.08      0.10      0.09        10\n",
      "           3       0.19      0.30      0.23        10\n",
      "           4       0.25      0.20      0.22        10\n",
      "           5       0.00      0.00      0.00        10\n",
      "           6       0.00      0.00      0.00        10\n",
      "           7       0.31      0.50      0.38        10\n",
      "           8       0.00      0.00      0.00        10\n",
      "           9       0.15      0.30      0.20        10\n",
      "          10       0.22      0.20      0.21        10\n",
      "\n",
      "    accuracy                           0.20       110\n",
      "   macro avg       0.19      0.20      0.18       110\n",
      "weighted avg       0.19      0.20      0.18       110\n",
      "\n",
      "       BLANK  C  D  H  K  N  O  R  S  V  Z\n",
      "BLANK      4  1  0  0  0  0  0  0  0  5  0\n",
      "C          0  2  2  2  1  0  0  0  1  2  0\n",
      "D          0  2  1  1  1  0  1  1  0  0  3\n",
      "H          0  2  1  3  0  0  1  1  0  1  1\n",
      "K          0  2  1  0  2  0  0  1  0  4  0\n",
      "N          0  0  2  3  1  0  0  3  0  1  0\n",
      "O          0  0  3  1  0  0  0  3  0  3  0\n",
      "R          0  0  0  1  0  1  0  5  1  0  2\n",
      "S          0  0  0  0  2  3  3  0  0  1  1\n",
      "V          1  2  0  2  1  0  1  0  0  3  0\n",
      "Z          1  0  2  3  0  0  0  2  0  0  2\n",
      "=== SVC for logmar 2.680408191438766 ===\n",
      "              precision    recall  f1-score   support\n",
      "\n",
      "           0       1.00      1.00      1.00        10\n",
      "           1       0.25      0.30      0.27        10\n",
      "           2       0.29      0.20      0.24        10\n",
      "           3       0.67      0.80      0.73        10\n",
      "           4       0.67      0.40      0.50        10\n",
      "           5       0.55      0.60      0.57        10\n",
      "           6       0.29      0.40      0.33        10\n",
      "           7       0.50      0.50      0.50        10\n",
      "           8       0.33      0.30      0.32        10\n",
      "           9       0.73      0.80      0.76        10\n",
      "          10       0.88      0.70      0.78        10\n",
      "\n",
      "    accuracy                           0.55       110\n",
      "   macro avg       0.56      0.55      0.55       110\n",
      "weighted avg       0.56      0.55      0.55       110\n",
      "\n",
      "       BLANK  C  D  H  K  N  O  R  S  V  Z\n",
      "BLANK     10  0  0  0  0  0  0  0  0  0  0\n",
      "C          0  3  2  0  1  0  2  1  0  1  0\n",
      "D          0  2  2  0  0  0  2  0  3  0  1\n",
      "H          0  0  0  8  0  2  0  0  0  0  0\n",
      "K          0  1  0  0  4  2  0  2  0  1  0\n",
      "N          0  0  0  3  0  6  0  0  1  0  0\n",
      "O          0  2  1  0  0  0  4  2  1  0  0\n",
      "R          0  0  0  0  1  1  2  5  1  0  0\n",
      "S          0  3  2  0  0  0  2  0  3  0  0\n",
      "V          0  1  0  1  0  0  0  0  0  8  0\n",
      "Z          0  0  0  0  0  0  2  0  0  1  7\n",
      "=== SVC for logmar 2.9814381871027473 ===\n",
      "              precision    recall  f1-score   support\n",
      "\n",
      "           0       1.00      1.00      1.00        10\n",
      "           1       0.62      0.80      0.70        10\n",
      "           2       0.91      1.00      0.95        10\n",
      "           3       1.00      1.00      1.00        10\n",
      "           4       1.00      1.00      1.00        10\n",
      "           5       1.00      1.00      1.00        10\n",
      "           6       0.71      0.50      0.59        10\n",
      "           7       1.00      1.00      1.00        10\n",
      "           8       1.00      0.90      0.95        10\n",
      "           9       1.00      1.00      1.00        10\n",
      "          10       1.00      1.00      1.00        10\n",
      "\n",
      "    accuracy                           0.93       110\n",
      "   macro avg       0.93      0.93      0.93       110\n",
      "weighted avg       0.93      0.93      0.93       110\n",
      "\n",
      "       BLANK  C   D   H   K   N  O   R  S   V   Z\n",
      "BLANK     10  0   0   0   0   0  0   0  0   0   0\n",
      "C          0  8   0   0   0   0  2   0  0   0   0\n",
      "D          0  0  10   0   0   0  0   0  0   0   0\n",
      "H          0  0   0  10   0   0  0   0  0   0   0\n",
      "K          0  0   0   0  10   0  0   0  0   0   0\n",
      "N          0  0   0   0   0  10  0   0  0   0   0\n",
      "O          0  5   0   0   0   0  5   0  0   0   0\n",
      "R          0  0   0   0   0   0  0  10  0   0   0\n",
      "S          0  0   1   0   0   0  0   0  9   0   0\n",
      "V          0  0   0   0   0   0  0   0  0  10   0\n",
      "Z          0  0   0   0   0   0  0   0  0   0  10\n",
      "=== SVC for logmar 3.1575294461584282 ===\n",
      "              precision    recall  f1-score   support\n",
      "\n",
      "           0       1.00      1.00      1.00        10\n",
      "           1       0.91      1.00      0.95        10\n",
      "           2       1.00      1.00      1.00        10\n",
      "           3       1.00      0.90      0.95        10\n",
      "           4       1.00      1.00      1.00        10\n",
      "           5       0.91      1.00      0.95        10\n",
      "           6       1.00      0.90      0.95        10\n",
      "           7       1.00      1.00      1.00        10\n",
      "           8       1.00      1.00      1.00        10\n",
      "           9       1.00      1.00      1.00        10\n",
      "          10       1.00      1.00      1.00        10\n",
      "\n",
      "    accuracy                           0.98       110\n",
      "   macro avg       0.98      0.98      0.98       110\n",
      "weighted avg       0.98      0.98      0.98       110\n",
      "\n",
      "       BLANK   C   D  H   K   N  O   R   S   V   Z\n",
      "BLANK     10   0   0  0   0   0  0   0   0   0   0\n",
      "C          0  10   0  0   0   0  0   0   0   0   0\n",
      "D          0   0  10  0   0   0  0   0   0   0   0\n",
      "H          0   0   0  9   0   1  0   0   0   0   0\n",
      "K          0   0   0  0  10   0  0   0   0   0   0\n",
      "N          0   0   0  0   0  10  0   0   0   0   0\n",
      "O          0   1   0  0   0   0  9   0   0   0   0\n",
      "R          0   0   0  0   0   0  0  10   0   0   0\n",
      "S          0   0   0  0   0   0  0   0  10   0   0\n",
      "V          0   0   0  0   0   0  0   0   0  10   0\n",
      "Z          0   0   0  0   0   0  0   0   0   0  10\n",
      "=== SVC for logmar 3.2824681827667286 ===\n",
      "              precision    recall  f1-score   support\n",
      "\n",
      "           0       1.00      1.00      1.00        10\n",
      "           1       1.00      1.00      1.00        10\n",
      "           2       1.00      1.00      1.00        10\n",
      "           3       1.00      1.00      1.00        10\n",
      "           4       1.00      1.00      1.00        10\n",
      "           5       1.00      1.00      1.00        10\n",
      "           6       1.00      1.00      1.00        10\n",
      "           7       1.00      1.00      1.00        10\n",
      "           8       1.00      1.00      1.00        10\n",
      "           9       1.00      1.00      1.00        10\n",
      "          10       1.00      1.00      1.00        10\n",
      "\n",
      "    accuracy                           1.00       110\n",
      "   macro avg       1.00      1.00      1.00       110\n",
      "weighted avg       1.00      1.00      1.00       110\n",
      "\n",
      "       BLANK   C   D   H   K   N   O   R   S   V   Z\n",
      "BLANK     10   0   0   0   0   0   0   0   0   0   0\n",
      "C          0  10   0   0   0   0   0   0   0   0   0\n",
      "D          0   0  10   0   0   0   0   0   0   0   0\n",
      "H          0   0   0  10   0   0   0   0   0   0   0\n",
      "K          0   0   0   0  10   0   0   0   0   0   0\n",
      "N          0   0   0   0   0  10   0   0   0   0   0\n",
      "O          0   0   0   0   0   0  10   0   0   0   0\n",
      "R          0   0   0   0   0   0   0  10   0   0   0\n",
      "S          0   0   0   0   0   0   0   0  10   0   0\n",
      "V          0   0   0   0   0   0   0   0   0  10   0\n",
      "Z          0   0   0   0   0   0   0   0   0   0  10\n",
      "=== SVC for logmar 3.379378195774785 ===\n",
      "              precision    recall  f1-score   support\n",
      "\n",
      "           0       1.00      1.00      1.00        10\n",
      "           1       1.00      1.00      1.00        10\n",
      "           2       1.00      1.00      1.00        10\n",
      "           3       1.00      1.00      1.00        10\n",
      "           4       1.00      1.00      1.00        10\n",
      "           5       1.00      1.00      1.00        10\n",
      "           6       1.00      1.00      1.00        10\n",
      "           7       1.00      1.00      1.00        10\n",
      "           8       1.00      1.00      1.00        10\n",
      "           9       1.00      1.00      1.00        10\n",
      "          10       1.00      1.00      1.00        10\n",
      "\n",
      "    accuracy                           1.00       110\n",
      "   macro avg       1.00      1.00      1.00       110\n",
      "weighted avg       1.00      1.00      1.00       110\n",
      "\n",
      "       BLANK   C   D   H   K   N   O   R   S   V   Z\n",
      "BLANK     10   0   0   0   0   0   0   0   0   0   0\n",
      "C          0  10   0   0   0   0   0   0   0   0   0\n",
      "D          0   0  10   0   0   0   0   0   0   0   0\n",
      "H          0   0   0  10   0   0   0   0   0   0   0\n",
      "K          0   0   0   0  10   0   0   0   0   0   0\n",
      "N          0   0   0   0   0  10   0   0   0   0   0\n",
      "O          0   0   0   0   0   0  10   0   0   0   0\n",
      "R          0   0   0   0   0   0   0  10   0   0   0\n",
      "S          0   0   0   0   0   0   0   0  10   0   0\n",
      "V          0   0   0   0   0   0   0   0   0  10   0\n",
      "Z          0   0   0   0   0   0   0   0   0   0  10\n",
      "=== SVC for logmar 3.4585594418224095 ===\n",
      "              precision    recall  f1-score   support\n",
      "\n",
      "           0       1.00      1.00      1.00        10\n",
      "           1       0.82      0.90      0.86        10\n",
      "           2       1.00      1.00      1.00        10\n",
      "           3       1.00      1.00      1.00        10\n",
      "           4       1.00      1.00      1.00        10\n",
      "           5       1.00      1.00      1.00        10\n",
      "           6       0.89      0.80      0.84        10\n",
      "           7       1.00      1.00      1.00        10\n",
      "           8       1.00      1.00      1.00        10\n",
      "           9       1.00      1.00      1.00        10\n",
      "          10       1.00      1.00      1.00        10\n",
      "\n",
      "    accuracy                           0.97       110\n",
      "   macro avg       0.97      0.97      0.97       110\n",
      "weighted avg       0.97      0.97      0.97       110\n",
      "\n",
      "       BLANK  C   D   H   K   N  O   R   S   V   Z\n",
      "BLANK     10  0   0   0   0   0  0   0   0   0   0\n",
      "C          0  9   0   0   0   0  1   0   0   0   0\n",
      "D          0  0  10   0   0   0  0   0   0   0   0\n",
      "H          0  0   0  10   0   0  0   0   0   0   0\n",
      "K          0  0   0   0  10   0  0   0   0   0   0\n",
      "N          0  0   0   0   0  10  0   0   0   0   0\n",
      "O          0  2   0   0   0   0  8   0   0   0   0\n",
      "R          0  0   0   0   0   0  0  10   0   0   0\n",
      "S          0  0   0   0   0   0  0   0  10   0   0\n",
      "V          0  0   0   0   0   0  0   0   0  10   0\n",
      "Z          0  0   0   0   0   0  0   0   0   0  10\n"
     ]
    }
   ],
   "source": [
    "for i, size in enumerate(letter_sizes):\n",
    "    print(f'=== SVC for logmar {size} ===')\n",
    "    # note: no expand dims, hardcoded 1 ncondition\n",
    "    training_target = data[\"training_target\"][i]\n",
    "    validation_target = data[\"validation_target\"][i]\n",
    "    svr = svm.SVC()\n",
    "    parameters = {'C': [1, 10, 100, 1000],\n",
    "                  'gamma': [0.001, 0.0001]},\n",
    "    clf = GridSearchCV(svr, parameters, n_jobs=12)\n",
    "    report, confusion = glia.classifier_helper(clf,\n",
    "        (training_100ms[0,i], training_target),\n",
    "        (validation_100ms[0,i], validation_target))\n",
    "    print(report)\n",
    "    print(confusion)"
   ]
  },
  {
   "cell_type": "code",
   "execution_count": null,
   "metadata": {},
   "outputs": [],
   "source": []
  }
 ],
 "metadata": {
  "kernelspec": {
   "display_name": "glia",
   "language": "python",
   "name": "glia"
  },
  "language_info": {
   "codemirror_mode": {
    "name": "ipython",
    "version": 3
   },
   "file_extension": ".py",
   "mimetype": "text/x-python",
   "name": "python",
   "nbconvert_exporter": "python",
   "pygments_lexer": "ipython3",
   "version": "3.8.5"
  }
 },
 "nbformat": 4,
 "nbformat_minor": 4
}
