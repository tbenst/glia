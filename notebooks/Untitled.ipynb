{
 "cells": [
  {
   "cell_type": "code",
   "execution_count": 2,
   "metadata": {},
   "outputs": [],
   "source": [
    "import numpy as np"
   ]
  },
  {
   "cell_type": "code",
   "execution_count": 15,
   "metadata": {},
   "outputs": [],
   "source": [
    "celltypes = np.random.randint(-1, 10, (64,64,6))\n",
    "retina_dset = np.random.randint(0,100,(28, 10, 64, 64, 6))\n",
    "\n",
    "nCelltypes = len(range(celltypes.min(), celltypes.max()))\n",
    "B, T, H, W, C = retina_dset.shape\n",
    "celltyped_retina_dset = np.zeros((B,T,H,W,nCelltypes))\n",
    "\n",
    "for h in range(64):\n",
    "    for w in range(64):\n",
    "        for u in range(6):\n",
    "            c = celltypes[h,w,u]\n",
    "            celltyped_retina_dset[:,:,h,w,c] = retina_dset[:,:,h,w,u]"
   ]
  },
  {
   "cell_type": "code",
   "execution_count": null,
   "metadata": {},
   "outputs": [],
   "source": []
  }
 ],
 "metadata": {
  "kernelspec": {
   "display_name": "glia",
   "language": "python",
   "name": "glia"
  },
  "language_info": {
   "codemirror_mode": {
    "name": "ipython",
    "version": 3
   },
   "file_extension": ".py",
   "mimetype": "text/x-python",
   "name": "python",
   "nbconvert_exporter": "python",
   "pygments_lexer": "ipython3",
   "version": "3.8.5"
  }
 },
 "nbformat": 4,
 "nbformat_minor": 4
}
