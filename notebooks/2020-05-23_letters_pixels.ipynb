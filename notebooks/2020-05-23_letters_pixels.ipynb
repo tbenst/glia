{
 "cells": [
  {
   "cell_type": "markdown",
   "metadata": {},
   "source": [
    "## imports"
   ]
  },
  {
   "cell_type": "code",
   "execution_count": 1,
   "metadata": {},
   "outputs": [],
   "source": [
    "# https://github.com/tbenst/glia\n",
    "# please install using `python setup.py develop`\n",
    "import glia, os, numpy as np, pandas as pd, av, matplotlib.pyplot as plt\n",
    "from glob import glob\n",
    "from tqdm.notebook import tqdm"
   ]
  },
  {
   "cell_type": "markdown",
   "metadata": {},
   "source": [
    "## Drivers"
   ]
  },
  {
   "cell_type": "code",
   "execution_count": 2,
   "metadata": {},
   "outputs": [],
   "source": [
    "data_directory = \"/home/tyler/Dropbox/temp/180213/\"\n",
    "name = \"R1_E3_AMES_240min_letters\""
   ]
  },
  {
   "cell_type": "markdown",
   "metadata": {},
   "source": [
    "## Script\n",
    "### read in files"
   ]
  },
  {
   "cell_type": "markdown",
   "metadata": {},
   "source": [
    "## EPL program\n",
    "The EyeCandy Programing Language (EPL) is a simple embedded domain-specific programming language that is embedded in JavaScript. EPL programs are used by EyeCandy to generate a sequence of objects that define a declarative rendering for a stimuli.\n",
    "\n",
    "The embedding is shallow and nearly identical to Javascript, and is described in more detail [here](https://github.com/tbenst/eye-candy). The program used for this protocol is below. In brief, we have 10 [ETDRS letters](https://duckduckgo.com/?t=ffab&q=ETDRS+letters&iax=images&ia=images) of one of four sizes presented 100 times each for 0.5 seconds. Each letter stimuli is presented as part of a group of 0.5 seconds of full-screen black (\"SOLID\"), followed by 0.5 seconds of the letter, then 0.5-1 second of black. Groups are organized into cohorts of 10 groups, one for each letter. The order of groups is shuffled, as to reduce bias in acuity from long-timescale changes (e.g. if retinal response degrades over time, later stimuli may be harder to decode).\n",
    "\n",
    "```javascript\n",
    "const metadata = {name: \"letters\", version: \"0.3.0\", inverted: false}\n",
    "let repetitions = 100\n",
    "let sizes = [100,200,250,300]\n",
    "let durations = [0.5]\n",
    "\n",
    "\n",
    "function* measureIntegrity(stimuli,every=5*60) {\n",
    "    // every N seconds, do a flash\n",
    "    let integrityMeta\n",
    "    let elapsedTime = every\n",
    "    for (let s of stimuli) {\n",
    "        if (elapsedTime>=every && s.metadata.block===undefined) {\n",
    "            integrityMeta = {group: r.uuid(), label: \"integrity\"}\n",
    "            yield new Wait(1, integrityMeta)\n",
    "            yield new Solid(0.5, \"white\", integrityMeta)\n",
    "            yield new Wait(2, integrityMeta)\n",
    "            elapsedTime = 0\n",
    "            yield s\n",
    "        } else {\n",
    "            yield s\n",
    "        }\n",
    "        elapsedTime=elapsedTime+s[\"lifespan\"]\n",
    "    }\n",
    "}\n",
    "\n",
    "let letters = [\"C\", \"D\", \"H\", \"K\", \"N\", \"O\", \"R\", \"S\", \"V\", \"Z\"]\n",
    "let x\n",
    "let y\n",
    "let stimuli = []\n",
    "let l\n",
    "let before\n",
    "let after\n",
    "let id\n",
    "let cohort\n",
    "\n",
    "for (let i = 0; i < repetitions; i++) {\n",
    "    for (let size of sizes) {\n",
    "        for (let duration of durations) {\n",
    "            cohort = r.uuid(i)\n",
    "            for (let letter of letters) {\n",
    "                id = r.uuid(i)\n",
    "                // block means \"do not insert a integrity check before me\"\n",
    "                // backgroundColor, letter, x, y, size, color\n",
    "                x = windowWidth/2 - size/2\n",
    "                y = windowHeight/2 + size/2\n",
    "                l = new Letter(duration, \"black\", letter,x,y,size, \n",
    "                    \"white\", {group: id, cohort: cohort, block: true})\n",
    "                before = new Wait(duration, {group: id})\n",
    "                after = new Wait(r.randi(0.5,1), {group: id, block: true})\n",
    "\n",
    "                // before + lit + after = lifespan\n",
    "                // this pads the white flash\n",
    "                stimuli.push([before, l, after])\n",
    "            }\n",
    "        }\n",
    "    }\n",
    "}\n",
    "\n",
    "r.shuffle(stimuli)\n",
    "\n",
    "let stimulusGenerator = measureIntegrity(flatten(stimuli))\n",
    "for (let s of stimulusGenerator) {\n",
    "    yield s\n",
    "}\n",
    "```"
   ]
  },
  {
   "cell_type": "markdown",
   "metadata": {},
   "source": [
    "## Read in files"
   ]
  },
  {
   "cell_type": "code",
   "execution_count": 3,
   "metadata": {},
   "outputs": [],
   "source": [
    "def glob_one_file(path):\n",
    "    results = glob(path)\n",
    "    if len(results) == 1:\n",
    "        return results[0]\n",
    "    else:\n",
    "        print(\"found \" + str(len(results)) + \" files instead of one for \" + path)\n",
    "        return results\n",
    "    \n",
    "stimulus_file = glob_one_file(os.path.join(data_directory, name + \".stim\"))\n",
    "frames_file = glob_one_file(os.path.join(data_directory, \"*.log\"))\n",
    "video_file = glob_one_file(os.path.join(data_directory, \"*.mkv\"))\n",
    "\n",
    "# takes ~30 seconds\n",
    "metadata, stimulus_list, method = glia.read_stimulus(stimulus_file)\n",
    "frame_log = pd.read_csv(frames_file)\n",
    "frame_log = frame_log[:-1] # last frame is not encoded"
   ]
  },
  {
   "cell_type": "code",
   "execution_count": 4,
   "metadata": {},
   "outputs": [],
   "source": [
    "# read in retinal responses (may take a minute)\n",
    "retinal_data_file = glob_one_file(data_directory+\"*.npz\")\n",
    "data = np.load(retinal_data_file)\n",
    "shape = np.shape(data['training_data'])"
   ]
  },
  {
   "cell_type": "code",
   "execution_count": 5,
   "metadata": {},
   "outputs": [
    {
     "data": {
      "text/plain": [
       "['training_data', 'training_target', 'validation_data', 'validation_target']"
      ]
     },
     "execution_count": 5,
     "metadata": {},
     "output_type": "execute_result"
    }
   ],
   "source": [
    "# for uninteresting historical reasons,\n",
    "# this data was split into 60% training, 40% validation 0% test.\n",
    "# Feel free to concatenate & re-split into a more standard train/test\n",
    "# split\n",
    "list(data.keys())"
   ]
  },
  {
   "cell_type": "code",
   "execution_count": 6,
   "metadata": {},
   "outputs": [
    {
     "data": {
      "text/plain": [
       "(4, 660, 500, 8, 8, 10)"
      ]
     },
     "execution_count": 6,
     "metadata": {},
     "output_type": "execute_result"
    }
   ],
   "source": [
    "# num_sizes x num_examples x time(ms) x H x W x C\n",
    "# note that channel here means a spike-sorted unit (purported neuron)\n",
    "# associated with a particular electrode\n",
    "# Many channels are all zero, as no unit was found at that channel\n",
    "# each number is the number of spikes (Action Potentials) in that neuron per ms\n",
    "# theoretically, with perfect spike sorting, this cannot occur more than once\n",
    "# every 2-3 ms, but we encode as int8 in case two units are assigned to one channel\n",
    "data['training_data'].shape"
   ]
  },
  {
   "cell_type": "code",
   "execution_count": 7,
   "metadata": {},
   "outputs": [
    {
     "data": {
      "text/plain": [
       "(4, 660)"
      ]
     },
     "execution_count": 7,
     "metadata": {},
     "output_type": "execute_result"
    }
   ],
   "source": [
    "# num_sizes x num_examples\n",
    "data['training_target'].shape"
   ]
  },
  {
   "cell_type": "code",
   "execution_count": 8,
   "metadata": {},
   "outputs": [
    {
     "name": "stdout",
     "output_type": "stream",
     "text": [
      "[ 0  1  2  3  4  5  6  7  8  9 10]\n"
     ]
    },
    {
     "data": {
      "text/plain": [
       "['BLANK', 'C', 'D', 'H', 'K', 'N', 'O', 'R', 'S', 'V', 'Z']"
      ]
     },
     "execution_count": 8,
     "metadata": {},
     "output_type": "execute_result"
    }
   ],
   "source": [
    "print(np.unique(data['training_target']))\n",
    "glia.letter_classes"
   ]
  },
  {
   "cell_type": "code",
   "execution_count": 9,
   "metadata": {},
   "outputs": [
    {
     "data": {
      "text/plain": [
       "[{'start_time': 8.49776,\n",
       "  'stimulus': {'age': 0,\n",
       "   'backgroundColor': 'black',\n",
       "   'lifespan': 0.5,\n",
       "   'metadata': {'group': '077b07ed-423d-42dc-a252-ac0fb2acb823'},\n",
       "   'stimulusIndex': 3,\n",
       "   'stimulusType': 'WAIT'}},\n",
       " {'start_time': 9.02996,\n",
       "  'stimulus': {'age': 0,\n",
       "   'backgroundColor': 'black',\n",
       "   'color': 'white',\n",
       "   'letter': 'K',\n",
       "   'lifespan': 0.5,\n",
       "   'metadata': {'block': True,\n",
       "    'cohort': '510a24ca-eed7-4c65-b38c-6f8c7b409f2a',\n",
       "    'group': '077b07ed-423d-42dc-a252-ac0fb2acb823'},\n",
       "   'size': 250,\n",
       "   'stimulusIndex': 4,\n",
       "   'stimulusType': 'LETTER',\n",
       "   'x': 515,\n",
       "   'y': 525}},\n",
       " {'start_time': 9.57948,\n",
       "  'stimulus': {'age': 0,\n",
       "   'backgroundColor': 'black',\n",
       "   'lifespan': 0.5,\n",
       "   'metadata': {'block': True,\n",
       "    'group': '077b07ed-423d-42dc-a252-ac0fb2acb823'},\n",
       "   'stimulusIndex': 5,\n",
       "   'stimulusType': 'WAIT'}}]"
      ]
     },
     "execution_count": 9,
     "metadata": {},
     "output_type": "execute_result"
    }
   ],
   "source": [
    "# let's look at three stimuli that includes a letter\n",
    "stimulus_list[3:6]"
   ]
  },
  {
   "cell_type": "code",
   "execution_count": 10,
   "metadata": {},
   "outputs": [
    {
     "data": {
      "text/html": [
       "<div>\n",
       "<style scoped>\n",
       "    .dataframe tbody tr th:only-of-type {\n",
       "        vertical-align: middle;\n",
       "    }\n",
       "\n",
       "    .dataframe tbody tr th {\n",
       "        vertical-align: top;\n",
       "    }\n",
       "\n",
       "    .dataframe thead th {\n",
       "        text-align: right;\n",
       "    }\n",
       "</style>\n",
       "<table border=\"1\" class=\"dataframe\">\n",
       "  <thead>\n",
       "    <tr style=\"text-align: right;\">\n",
       "      <th></th>\n",
       "      <th>framenum</th>\n",
       "      <th>time</th>\n",
       "      <th>stimulusIndex</th>\n",
       "    </tr>\n",
       "  </thead>\n",
       "  <tbody>\n",
       "    <tr>\n",
       "      <th>0</th>\n",
       "      <td>0</td>\n",
       "      <td>10573.710</td>\n",
       "      <td>0</td>\n",
       "    </tr>\n",
       "    <tr>\n",
       "      <th>1</th>\n",
       "      <td>1</td>\n",
       "      <td>10607.083</td>\n",
       "      <td>0</td>\n",
       "    </tr>\n",
       "    <tr>\n",
       "      <th>2</th>\n",
       "      <td>2</td>\n",
       "      <td>10640.455</td>\n",
       "      <td>0</td>\n",
       "    </tr>\n",
       "    <tr>\n",
       "      <th>3</th>\n",
       "      <td>3</td>\n",
       "      <td>10657.141</td>\n",
       "      <td>0</td>\n",
       "    </tr>\n",
       "    <tr>\n",
       "      <th>4</th>\n",
       "      <td>4</td>\n",
       "      <td>10673.826</td>\n",
       "      <td>0</td>\n",
       "    </tr>\n",
       "  </tbody>\n",
       "</table>\n",
       "</div>"
      ],
      "text/plain": [
       "   framenum       time  stimulusIndex\n",
       "0         0  10573.710              0\n",
       "1         1  10607.083              0\n",
       "2         2  10640.455              0\n",
       "3         3  10657.141              0\n",
       "4         4  10673.826              0"
      ]
     },
     "execution_count": 10,
     "metadata": {},
     "output_type": "execute_result"
    }
   ],
   "source": [
    "# WARNING: times (in ms) are incorrect for the frame log--we did not originally save\n",
    "# the video for this recording, so I repeated the program saving the frames\n",
    "# as to get pixel values. The stimulusIndex should be correct, however.\n",
    "frame_log.head()"
   ]
  },
  {
   "cell_type": "markdown",
   "metadata": {},
   "source": [
    "## Extract one frame for each letter stimuli\n",
    "This is rather boring data munging--feel free to skip reading the code"
   ]
  },
  {
   "cell_type": "code",
   "execution_count": 11,
   "metadata": {},
   "outputs": [],
   "source": [
    "# sometimes we drop a frame on the first render of a stimuli, so take the last frame to be conservative\n",
    "# this index in frame-space\n",
    "last_frame_idx_of_stimuli = np.concatenate([\n",
    "    np.where(np.diff(frame_log.stimulusIndex))[0],\n",
    "    [frame_log.stimulusIndex.iloc[-1]]\n",
    "])\n",
    "\n",
    "assert len(stimulus_list) == len(last_frame_idx_of_stimuli)"
   ]
  },
  {
   "cell_type": "code",
   "execution_count": 12,
   "metadata": {},
   "outputs": [],
   "source": [
    "letter_stim = list(filter(\n",
    "    lambda s: s['stimulus']['stimulusType']=='LETTER',\n",
    "    stimulus_list))\n",
    "letter_stim_idx = [s['stimulus']['stimulusIndex']\n",
    "                         for s in letter_stim]\n",
    "\n",
    "# # take last frame of stimulus as letter is static\n",
    "letter_stim_frame_idx = last_frame_idx_of_stimuli[letter_stim_idx]"
   ]
  },
  {
   "cell_type": "code",
   "execution_count": 13,
   "metadata": {},
   "outputs": [],
   "source": [
    "# get first frame from video so we know the size\n",
    "container = av.open(video_file)\n",
    "for frame in container.decode(video=0):\n",
    "    first_frame = frame.to_ndarray(format='bgr24')\n",
    "    break\n",
    "\n",
    "H, W, C = first_frame.shape\n",
    "dtype = first_frame.dtype"
   ]
  },
  {
   "cell_type": "code",
   "execution_count": 14,
   "metadata": {},
   "outputs": [
    {
     "name": "stdout",
     "output_type": "stream",
     "text": [
      "Number of letters: 10\n",
      "Number of sizes: 4\n"
     ]
    }
   ],
   "source": [
    "# extract letters & sizes from the stimulus list\n",
    "\n",
    "letters = sorted(list(set(map(\n",
    "    lambda s: s['stimulus']['letter'],\n",
    "    letter_stim))))\n",
    "n_letters = len(letters)\n",
    "\n",
    "sizes = sorted(set(map(\n",
    "    lambda s: s['stimulus']['size'],\n",
    "    letter_stim)))\n",
    "n_sizes = len(sizes)\n",
    "\n",
    "print(f\"Number of letters: {n_letters}\")\n",
    "print(f\"Number of sizes: {n_sizes}\")\n"
   ]
  },
  {
   "cell_type": "code",
   "execution_count": 15,
   "metadata": {},
   "outputs": [],
   "source": [
    "# grab only one frame of the 100 repetitions\n",
    "# TODO: include BLANK and use \n",
    "# 10 letters plus 1 for BLANK (all black)\n",
    "size_letter_to_frame = np.zeros([n_sizes, n_letters+1, H, W, C], dtype=dtype)\n",
    "\n",
    "size_letter_set = set()\n",
    "\n",
    "# map a frame index to (size, letter) tuple\n",
    "# we use only the first frame index to limit\n",
    "# amount of video we must loop through\n",
    "idx_to_size_letter = {}\n",
    "\n",
    "size_to_idx = {s: i for i,s in enumerate(sizes)}\n",
    "\n",
    "for s in letter_stim_idx:\n",
    "    # note that s is an index in stimulus-space\n",
    "    stim = stimulus_list[s]\n",
    "    size = stim[\"stimulus\"][\"size\"]\n",
    "    letter = stim[\"stimulus\"][\"letter\"]\n",
    "    key = (size, letter)\n",
    "    if not key in size_letter_set:\n",
    "        # add to set so lines below occur on earliest frame idx only \n",
    "        # for this (size, letter)\n",
    "        size_letter_set.add(key)\n",
    "        # we index by the stimulus idx\n",
    "        idx = last_frame_idx_of_stimuli[s]\n",
    "        idx_to_size_letter[idx] = (size_to_idx[size], glia.letter_map[letter])\n",
    "        \n",
    "# ensure all size x letter combinations are present\n",
    "assert len(size_letter_set)==n_sizes*n_letters"
   ]
  },
  {
   "cell_type": "code",
   "execution_count": 16,
   "metadata": {},
   "outputs": [
    {
     "data": {
      "application/vnd.jupyter.widget-view+json": {
       "model_id": "b5008accb0eb417286393a65c7c4d518",
       "version_major": 2,
       "version_minor": 0
      },
      "text/plain": [
       "HBox(children=(IntProgress(value=0, max=16592), HTML(value='')))"
      ]
     },
     "metadata": {},
     "output_type": "display_data"
    }
   ],
   "source": [
    "frame_indices = sorted(list(idx_to_size_letter.keys()))\n",
    "next_frame_idx = frame_indices.pop(0)\n",
    "\n",
    "# iterate through frames, and match to each entry in frame_indices\n",
    "# seeking by time would be faster, but does not map 1:1 with frame index\n",
    "# should take < 1 minute\n",
    "for n,frame in tqdm(enumerate(container.decode(video=0)),total=frame_indices[-1]):\n",
    "    if n==(next_frame_idx):\n",
    "        size, letter = idx_to_size_letter[next_frame_idx]\n",
    "        size_letter_to_frame[size, letter] = frame.to_ndarray(format='bgr24')\n",
    "        if len(frame_indices)!=0:\n",
    "            next_frame_idx = frame_indices.pop(0)\n",
    "        else:\n",
    "            break"
   ]
  },
  {
   "cell_type": "code",
   "execution_count": 17,
   "metadata": {},
   "outputs": [],
   "source": [
    "def get_frame_for_letter(size:float, letter:str, size_letter_to_frame=size_letter_to_frame,\n",
    "                         size_to_idx=size_to_idx):\n",
    "    \"Given the size and the letter, return a H x W x C ndarray.\"\n",
    "    s = size_to_idx[size]\n",
    "    l = glia.letter_classes[letter]\n",
    "    return size_letter_to_frame[s,l]"
   ]
  },
  {
   "cell_type": "code",
   "execution_count": 18,
   "metadata": {},
   "outputs": [
    {
     "data": {
      "image/png": "[encoded data removed]",
      "text/plain": [
       "<Figure size 720x432 with 12 Axes>"
      ]
     },
     "metadata": {},
     "output_type": "display_data"
    }
   ],
   "source": [
    "# visualize the size_letter_to_frame ndarray for first 3 classes\n",
    "\n",
    "fig, axes = plt.subplots(3,4, figsize=(10,6))\n",
    "for s, size in enumerate(sizes):\n",
    "    for l, letter in enumerate(glia.letter_classes[:3]):\n",
    "        ax = axes[l,s]\n",
    "        ax.imshow(size_letter_to_frame[s,l])\n",
    "        ax.set_xticks([])\n",
    "        ax.set_yticks([])\n",
    "        ax.set_title(f\"class: {l}, size: {size}\")"
   ]
  },
  {
   "cell_type": "markdown",
   "metadata": {},
   "source": [
    "## SVM classification"
   ]
  },
  {
   "cell_type": "code",
   "execution_count": 19,
   "metadata": {},
   "outputs": [],
   "source": [
    "from sklearn import svm\n",
    "from sklearn.model_selection import GridSearchCV, train_test_split"
   ]
  },
  {
   "cell_type": "code",
   "execution_count": 20,
   "metadata": {},
   "outputs": [
    {
     "name": "stdout",
     "output_type": "stream",
     "text": [
      "==== SVC for size 100 ====\n"
     ]
    },
    {
     "name": "stderr",
     "output_type": "stream",
     "text": [
      "/home/tyler/.conda/lib/python3.7/site-packages/sklearn/model_selection/_split.py:1978: FutureWarning: The default value of cv will change from 3 to 5 in version 0.22. Specify it explicitly to silence this warning.\n",
      "  warnings.warn(CV_WARNING, FutureWarning)\n"
     ]
    },
    {
     "name": "stdout",
     "output_type": "stream",
     "text": [
      "              precision    recall  f1-score   support\n",
      "\n",
      "           0       1.00      0.97      0.99        40\n",
      "           1       0.35      0.50      0.41        40\n",
      "           2       0.62      0.40      0.48        40\n",
      "           3       0.38      0.30      0.33        40\n",
      "           4       0.65      0.80      0.72        40\n",
      "           5       0.54      0.55      0.54        40\n",
      "           6       0.26      0.40      0.32        40\n",
      "           7       0.54      0.38      0.44        40\n",
      "           8       0.52      0.38      0.43        40\n",
      "           9       0.78      0.78      0.78        40\n",
      "          10       0.63      0.60      0.62        40\n",
      "\n",
      "    accuracy                           0.55       440\n",
      "   macro avg       0.57      0.55      0.55       440\n",
      "weighted avg       0.57      0.55      0.55       440\n",
      "\n",
      "\n",
      "       BLANK   C   D   H   K   N   O   R   S   V   Z\n",
      "BLANK     39   1   0   0   0   0   0   0   0   0   0\n",
      "C          0  20   1   0   0   0  12   1   1   0   5\n",
      "D          0   7  16   1   2   2   3   2   2   0   5\n",
      "H          0   1   0  12   9  11   3   2   0   1   1\n",
      "K          0   3   0   1  32   1   0   2   1   0   0\n",
      "N          0   0   3   9   4  22   0   0   1   1   0\n",
      "O          0  14   0   0   0   2  16   2   3   2   1\n",
      "R          0   3   2   8   2   3   3  15   2   1   1\n",
      "S          0   2   1   0   0   0  14   3  15   4   1\n",
      "V          0   1   1   1   0   0   6   0   0  31   0\n",
      "Z          0   5   2   0   0   0   4   1   4   0  24\n",
      "==== SVC for size 200 ====\n"
     ]
    },
    {
     "name": "stderr",
     "output_type": "stream",
     "text": [
      "/home/tyler/.conda/lib/python3.7/site-packages/sklearn/model_selection/_split.py:1978: FutureWarning: The default value of cv will change from 3 to 5 in version 0.22. Specify it explicitly to silence this warning.\n",
      "  warnings.warn(CV_WARNING, FutureWarning)\n"
     ]
    },
    {
     "name": "stdout",
     "output_type": "stream",
     "text": [
      "              precision    recall  f1-score   support\n",
      "\n",
      "           0       1.00      1.00      1.00        40\n",
      "           1       0.51      0.53      0.52        40\n",
      "           2       0.97      0.70      0.81        40\n",
      "           3       0.90      0.93      0.91        40\n",
      "           4       0.80      0.82      0.81        40\n",
      "           5       0.90      0.93      0.91        40\n",
      "           6       0.45      0.47      0.46        40\n",
      "           7       0.86      0.78      0.82        40\n",
      "           8       0.71      0.88      0.79        40\n",
      "           9       0.97      0.95      0.96        40\n",
      "          10       0.95      0.97      0.96        40\n",
      "\n",
      "    accuracy                           0.81       440\n",
      "   macro avg       0.82      0.81      0.81       440\n",
      "weighted avg       0.82      0.81      0.81       440\n",
      "\n",
      "\n",
      "       BLANK   C   D   H   K   N   O   R   S   V   Z\n",
      "BLANK     40   0   0   0   0   0   0   0   0   0   0\n",
      "C          0  21   1   0   0   0  17   0   1   0   0\n",
      "D          0   1  28   0   1   0   6   0   4   0   0\n",
      "H          0   0   0  37   0   2   0   1   0   0   0\n",
      "K          0   0   0   0  33   0   0   2   3   0   2\n",
      "N          0   0   0   2   0  37   0   0   0   1   0\n",
      "O          0  18   0   0   0   0  19   0   3   0   0\n",
      "R          0   0   0   2   5   0   0  31   2   0   0\n",
      "S          0   1   0   0   2   0   0   2  35   0   0\n",
      "V          0   0   0   0   0   2   0   0   0  38   0\n",
      "Z          0   0   0   0   0   0   0   0   1   0  39\n",
      "==== SVC for size 250 ====\n"
     ]
    },
    {
     "name": "stderr",
     "output_type": "stream",
     "text": [
      "/home/tyler/.conda/lib/python3.7/site-packages/sklearn/model_selection/_split.py:1978: FutureWarning: The default value of cv will change from 3 to 5 in version 0.22. Specify it explicitly to silence this warning.\n",
      "  warnings.warn(CV_WARNING, FutureWarning)\n"
     ]
    },
    {
     "name": "stdout",
     "output_type": "stream",
     "text": [
      "              precision    recall  f1-score   support\n",
      "\n",
      "           0       1.00      1.00      1.00        40\n",
      "           1       0.69      0.95      0.80        40\n",
      "           2       1.00      0.97      0.99        40\n",
      "           3       0.98      1.00      0.99        40\n",
      "           4       0.98      1.00      0.99        40\n",
      "           5       0.95      0.88      0.91        40\n",
      "           6       0.96      0.57      0.72        40\n",
      "           7       0.90      0.95      0.93        40\n",
      "           8       0.93      0.97      0.95        40\n",
      "           9       1.00      0.97      0.99        40\n",
      "          10       0.97      0.97      0.97        40\n",
      "\n",
      "    accuracy                           0.93       440\n",
      "   macro avg       0.94      0.93      0.93       440\n",
      "weighted avg       0.94      0.93      0.93       440\n",
      "\n",
      "\n",
      "       BLANK   C   D   H   K   N   O   R   S   V   Z\n",
      "BLANK     40   0   0   0   0   0   0   0   0   0   0\n",
      "C          0  38   0   0   0   0   1   0   1   0   0\n",
      "D          0   0  39   0   0   0   0   1   0   0   0\n",
      "H          0   0   0  40   0   0   0   0   0   0   0\n",
      "K          0   0   0   0  40   0   0   0   0   0   0\n",
      "N          0   0   0   1   1  35   0   3   0   0   0\n",
      "O          0  17   0   0   0   0  23   0   0   0   0\n",
      "R          0   0   0   0   0   2   0  38   0   0   0\n",
      "S          0   0   0   0   0   0   0   0  39   0   1\n",
      "V          0   0   0   0   0   0   0   0   1  39   0\n",
      "Z          0   0   0   0   0   0   0   0   1   0  39\n",
      "==== SVC for size 300 ====\n"
     ]
    },
    {
     "name": "stderr",
     "output_type": "stream",
     "text": [
      "/home/tyler/.conda/lib/python3.7/site-packages/sklearn/model_selection/_split.py:1978: FutureWarning: The default value of cv will change from 3 to 5 in version 0.22. Specify it explicitly to silence this warning.\n",
      "  warnings.warn(CV_WARNING, FutureWarning)\n"
     ]
    },
    {
     "name": "stdout",
     "output_type": "stream",
     "text": [
      "              precision    recall  f1-score   support\n",
      "\n",
      "           0       1.00      1.00      1.00        40\n",
      "           1       0.95      0.93      0.94        40\n",
      "           2       1.00      1.00      1.00        40\n",
      "           3       0.98      1.00      0.99        40\n",
      "           4       1.00      1.00      1.00        40\n",
      "           5       1.00      0.97      0.99        40\n",
      "           6       0.93      0.95      0.94        40\n",
      "           7       1.00      1.00      1.00        40\n",
      "           8       1.00      1.00      1.00        40\n",
      "           9       1.00      1.00      1.00        40\n",
      "          10       1.00      1.00      1.00        40\n",
      "\n",
      "    accuracy                           0.99       440\n",
      "   macro avg       0.99      0.99      0.99       440\n",
      "weighted avg       0.99      0.99      0.99       440\n",
      "\n",
      "\n",
      "       BLANK   C   D   H   K   N   O   R   S   V   Z\n",
      "BLANK     40   0   0   0   0   0   0   0   0   0   0\n",
      "C          0  37   0   0   0   0   3   0   0   0   0\n",
      "D          0   0  40   0   0   0   0   0   0   0   0\n",
      "H          0   0   0  40   0   0   0   0   0   0   0\n",
      "K          0   0   0   0  40   0   0   0   0   0   0\n",
      "N          0   0   0   1   0  39   0   0   0   0   0\n",
      "O          0   2   0   0   0   0  38   0   0   0   0\n",
      "R          0   0   0   0   0   0   0  40   0   0   0\n",
      "S          0   0   0   0   0   0   0   0  40   0   0\n",
      "V          0   0   0   0   0   0   0   0   0  40   0\n",
      "Z          0   0   0   0   0   0   0   0   0   0  40\n"
     ]
    }
   ],
   "source": [
    "# this may take a few minutes\n",
    "training_100ms = glia.bin_100ms(np.expand_dims(data[\"training_data\"],0))\n",
    "validation_100ms = glia.bin_100ms(np.expand_dims(data[\"validation_data\"],0))\n",
    "for i, size in enumerate(sizes):\n",
    "    print(f'==== SVC for size {size} ====')\n",
    "    # note: no expand dims, hardcoded 1 ncondition\n",
    "    training_target = data[\"training_target\"][i]\n",
    "    validation_target = data[\"validation_target\"][i]\n",
    "    svr = svm.SVC()\n",
    "    parameters = {'C': [1, 10, 100, 1000],\n",
    "                  'gamma': [0.001, 0.0001]},\n",
    "    clf = GridSearchCV(svr, parameters, n_jobs=12)\n",
    "    report, confusion = glia.classifier_helper(clf,\n",
    "        (training_100ms[0,i], training_target),\n",
    "        (validation_100ms[0,i], validation_target))\n",
    "    print(report+'\\n')\n",
    "    print(confusion)\n",
    "    \n",
    "# near perfect precision & recall at size=300 declines to only ~55%\n",
    "# at size=100. Note that chance is 9%"
   ]
  },
  {
   "cell_type": "markdown",
   "metadata": {},
   "source": [
    "## Pixel value inference"
   ]
  },
  {
   "cell_type": "code",
   "execution_count": 21,
   "metadata": {},
   "outputs": [],
   "source": [
    "import torch, cv2\n",
    "from torch import nn, optim, utils\n",
    "from torch.utils.data import DataLoader, Dataset\n",
    "from torchvision import datasets, transforms\n",
    "from torch.nn import functional as F\n",
    "import torchvision.utils\n",
    "from dataclasses import dataclass\n",
    "\n",
    "torch.manual_seed(20200525); # reproducible analysis\n",
    "np.random.seed(seed=20200525)"
   ]
  },
  {
   "cell_type": "markdown",
   "metadata": {},
   "source": [
    "### data munging"
   ]
  },
  {
   "cell_type": "code",
   "execution_count": 22,
   "metadata": {},
   "outputs": [
    {
     "data": {
      "text/plain": [
       "<matplotlib.image.AxesImage at 0x7f9d38343668>"
      ]
     },
     "execution_count": 22,
     "metadata": {},
     "output_type": "execute_result"
    },
    {
     "data": {
      "image/png": "[encoded data removed]",
      "text/plain": [
       "<Figure size 432x288 with 1 Axes>"
      ]
     },
     "metadata": {
      "needs_background": "light"
     },
     "output_type": "display_data"
    }
   ],
   "source": [
    "# choose crop parameters\n",
    "biggest = max(sizes)\n",
    "w1 = int((W - biggest*1.5) / 2)\n",
    "w2 = W - w1\n",
    "h1 = int((H - biggest*1.5) / 2)\n",
    "h2 = H - h1\n",
    "plt.imshow(size_letter_to_frame[-1,3,h1:h2,w1:w2])"
   ]
  },
  {
   "cell_type": "code",
   "execution_count": 23,
   "metadata": {},
   "outputs": [
    {
     "data": {
      "text/plain": [
       "(1, 4, 660, 3200)"
      ]
     },
     "execution_count": 23,
     "metadata": {},
     "output_type": "execute_result"
    }
   ],
   "source": [
    "training_100ms.shape"
   ]
  },
  {
   "cell_type": "code",
   "execution_count": 24,
   "metadata": {},
   "outputs": [
    {
     "name": "stdout",
     "output_type": "stream",
     "text": [
      "(N, T, H, W, C), (N, 2)\n",
      "train shapes:  (3960, 3200) (3960, 2)\n",
      "validation shapes:  (220, 3200) (220, 2)\n",
      "test shapes:  (220, 3200) (220, 2)\n"
     ]
    }
   ],
   "source": [
    "all_data = np.concatenate([training_100ms, validation_100ms], axis=2)[0]\n",
    "all_targets = np.concatenate([data[\"training_target\"], data[\"validation_target\"]], axis=1)\n",
    "\n",
    "# reshape to remove size dimension\n",
    "n_examples = np.product(all_data.shape[:2])\n",
    "X = np.zeros([n_examples, *all_data.shape[2:]])\n",
    "# to avoid blowing up RAM, we store (size, letter)\n",
    "# and will use dataloader to get the frame during training\n",
    "Y = np.zeros([n_examples, 2], dtype=np.uint8)\n",
    "for s,size in enumerate(sizes):\n",
    "    for n,(x,l) in enumerate(zip(all_data[s], all_targets[s])):\n",
    "        i = n * n_sizes + s\n",
    "        X[i] = x # time x H x W x C\n",
    "        Y[i,0] = s # size index\n",
    "        Y[i,1] = l # letter index\n",
    "        \n",
    "# del all_data, all_targets\n",
    "\n",
    "# 90% train, 5% validation, 5% test\n",
    "X_train, X_test, Y_train, Y_test = train_test_split(X, Y, test_size=0.1, random_state=1)\n",
    "\n",
    "X_test, X_val, Y_test, Y_val = train_test_split(X_test, Y_test, test_size=0.5, random_state=1)\n",
    "\n",
    "# del X, Y\n",
    "\n",
    "print(\"(N, T, H, W, C), (N, 2)\")\n",
    "print(\"train shapes: \", X_train.shape, Y_train.shape)\n",
    "print(\"validation shapes: \", X_val.shape, Y_val.shape)\n",
    "print(\"test shapes: \", X_test.shape, Y_test.shape)"
   ]
  },
  {
   "cell_type": "code",
   "execution_count": 25,
   "metadata": {},
   "outputs": [
    {
     "name": "stdout",
     "output_type": "stream",
     "text": [
      "(4, 11, 28, 28)\n"
     ]
    }
   ],
   "source": [
    "@dataclass\n",
    "class LetterData(Dataset):\n",
    "    X: np.ndarray\n",
    "    Y: np.ndarray\n",
    "    size_letter_to_frame: np.ndarray\n",
    "\n",
    "    def __len__(self):\n",
    "        return self.X.shape[0]\n",
    "\n",
    "    def __getitem__(self, i):\n",
    "        size_idx = self.Y[i,0]\n",
    "        letter_idx = self.Y[i,1]\n",
    "        frame = self.size_letter_to_frame[size_idx, letter_idx]\n",
    "        return self.X[i], frame\n",
    "        \n",
    "def resize_4d(images, fx, fy, interpolation=cv2.INTER_LINEAR, out=\"ndarray\",\n",
    "        is_tiff=False):\n",
    "    im = cv2.resize((images[0,0]), None, fx=fx, fy=fy, interpolation=interpolation)\n",
    "    if out==\"ndarray\":\n",
    "        new = np.zeros([images.shape[0],images.shape[1], *im.shape],\n",
    "            dtype = np.float32)\n",
    "    elif out==\"memmap\":\n",
    "        new = np.memmap(\"glia_temp_memmap.mmap\", np.float32, \"w+\",\n",
    "            (images.shape[0],images.shape[1], im.shape[0],im.shape[1]))\n",
    "    for b, vol in enumerate(images):\n",
    "        for z, img in enumerate(vol):\n",
    "            new[b,z] = cv2.resize((img), None, fx=fx, fy=fy,\n",
    "                interpolation=interpolation)\n",
    "    return new\n",
    "\n",
    "# downsample to 0.5x\n",
    "small_size_letter_to_frame = resize_4d(size_letter_to_frame[:,:,h1:h2, w1:w2],1/16,1/16)[...,0]\n",
    "# binarize\n",
    "small_size_letter_to_frame = (small_size_letter_to_frame > 128).astype(np.float32)\n",
    "\n",
    "train_data = LetterData(X_train, Y_train, small_size_letter_to_frame)\n",
    "val_data = LetterData(X_val, Y_val, small_size_letter_to_frame)\n",
    "test_data = LetterData(X_test, Y_test, small_size_letter_to_frame)\n",
    "print(small_size_letter_to_frame.shape)"
   ]
  },
  {
   "cell_type": "code",
   "execution_count": 26,
   "metadata": {},
   "outputs": [
    {
     "data": {
      "image/png": "[encoded data removed]",
      "text/plain": [
       "<Figure size 432x288 with 1 Axes>"
      ]
     },
     "metadata": {
      "needs_background": "light"
     },
     "output_type": "display_data"
    }
   ],
   "source": [
    "# look at smallest letter with downsampling\n",
    "plt.imshow(small_size_letter_to_frame[0,1])\n",
    "small_H, small_W = small_size_letter_to_frame[0,1].shape"
   ]
  },
  {
   "cell_type": "markdown",
   "metadata": {},
   "source": [
    "###  variational autoencoder"
   ]
  },
  {
   "cell_type": "code",
   "execution_count": 27,
   "metadata": {},
   "outputs": [],
   "source": [
    "# whether or not to use cuda\n",
    "device = torch.device(\"cuda\")"
   ]
  },
  {
   "cell_type": "code",
   "execution_count": 28,
   "metadata": {},
   "outputs": [],
   "source": [
    "# Kingma & Welling (2014) style variational autoencoder\n",
    "\n",
    "# subclass PyTorch Module for reverse-mode autodifferentiation \n",
    "# for easy backpropogation of loss gradient\n",
    "class VAE(nn.Module):\n",
    "    \n",
    "    def __init__(self, n_input, n_hidden, n_latent, n_hidden2, n_output,\n",
    "                 nonlinearity=F.sigmoid):\n",
    "        super(VAE, self).__init__()\n",
    "        self.n_input = n_input\n",
    "        self.n_output = n_output\n",
    "        self.n_hidden = n_hidden\n",
    "        self.nonlinearity = F.sigmoid\n",
    "                \n",
    "        # Encoder layers\n",
    "        self.hidden_encoder = nn.Linear(n_input, n_hidden)\n",
    "        # mean encoding layer \n",
    "        self.mean_encoder = nn.Linear(n_hidden, n_latent)\n",
    "        # log variance encoding layer \n",
    "        self.logvar_encoder = nn.Linear(n_hidden, n_latent)\n",
    "        \n",
    "        # Decoder layers\n",
    "        self.hidden_decoder = nn.Linear(n_latent, n_hidden2)\n",
    "        self.reconstruction_decoder = nn.Linear(n_hidden2, n_output)\n",
    "\n",
    "    def encode(self, x):\n",
    "        h1 = self.nonlinearity(self.hidden_encoder(x))\n",
    "        return self.mean_encoder(h1), self.logvar_encoder(h1)\n",
    "\n",
    "    def reparameterize(self, mean, logvar):\n",
    "        \"\"\"Reparameterize out stochastic node so the gradient can propogate \n",
    "           deterministically.\"\"\"\n",
    "\n",
    "        if self.training:\n",
    "            standard_deviation = torch.exp(0.5*logvar)\n",
    "            # sample from unit gaussian with same shape as standard_deviation\n",
    "            epsilon = torch.randn_like(standard_deviation)\n",
    "            return epsilon * standard_deviation + mean\n",
    "        else:\n",
    "            return mean\n",
    "\n",
    "    def decode(self, z):\n",
    "        h3 = self.nonlinearity(self.hidden_decoder(z))\n",
    "        # bound output to (0,1)\n",
    "        return F.sigmoid(self.reconstruction_decoder(h3))\n",
    "\n",
    "    \n",
    "    def forward(self, x):\n",
    "        \"A special method in PyTorch modules that is called by __call__\"\n",
    "        mean, logvar = self.encode(x)\n",
    "        # sample an embedding, z\n",
    "        z = self.reparameterize(mean, logvar)\n",
    "        # return the (sampled) reconstruction, mean, and log variance\n",
    "        return self.decode(z), mean, logvar\n",
    "\n",
    "\n",
    "\n",
    "def loss_function(recon_y, y, mu, logvar, beta=1):\n",
    "    \"Reconstruction + KL divergence losses summed over all elements and batch.\"\n",
    "    BCE = F.binary_cross_entropy(recon_y, y, size_average=False)\n",
    "\n",
    "    # we want KLD = - 0.5 * sum(1 + log(sigma^2) - mu^2 - sigma^2)\n",
    "    # where sigma is standard deviation and mu is mean\n",
    "    # (see Appendix B of https://arxiv.org/abs/1312.6114)\n",
    "    \n",
    "    # see https://openreview.net/forum?id=Sy2fzU9gl for info on choosing Beta\n",
    "    \n",
    "    KLD = -0.5 * torch.sum(1 + logvar - mu.pow(2) - logvar.exp())\n",
    "\n",
    "\n",
    "    return BCE + beta * KLD"
   ]
  },
  {
   "cell_type": "code",
   "execution_count": 29,
   "metadata": {},
   "outputs": [],
   "source": [
    "def train(epoch, model, optimizer, train_loader, beta=1., log_interval=10):\n",
    "    model.train()\n",
    "    train_loss = 0\n",
    "    for batch_idx, data in enumerate(train_loader):\n",
    "        bz = data[0].shape[0]\n",
    "        # flatten batch x height x width x channel into batch x nFeatures\n",
    "        X = data[0].reshape(bz, -1).to(device)\n",
    "        Y = data[1].reshape(bz, -1).to(device) # flatten\n",
    "        optimizer.zero_grad()\n",
    "        Y_pred, mu, logvar = model(X)\n",
    "        loss = loss_function(Y_pred, Y, mu, logvar)\n",
    "        loss.backward()\n",
    "        train_loss += loss.item()\n",
    "        optimizer.step()\n",
    "    if epoch % log_interval == 0:\n",
    "        print('Epoch: {} Average loss: {:.4f}'.format(\n",
    "              epoch, train_loss / len(train_loader.dataset)))\n",
    "\n",
    "\n",
    "def test(epoch, model, test_loader, H, W, beta=1., log_interval=10,\n",
    "         save_image=True, folder=\"results\", name=\"Test\"):\n",
    "    model.eval()\n",
    "    test_loss = 0\n",
    "    with torch.no_grad():\n",
    "        for i, data in enumerate(test_loader):\n",
    "            bz = data[0].shape[0]\n",
    "            \n",
    "            # flatten batch x height x width x channel into batch x nFeatures\n",
    "            X = data[0].reshape(bz, -1).to(device)\n",
    "            Y = data[1].reshape(bz, -1).to(device) # flatten\n",
    "\n",
    "            Y_pred, mu, logvar = model(X)\n",
    "            test_loss += loss_function(Y_pred, Y, mu, logvar).item()\n",
    "            if (i == 0) and save_image:\n",
    "                n = min(X.size(0), 15)\n",
    "                comparison = torch.cat([Y[:n].view(-1,1,H,W),\n",
    "                                   Y_pred[:n].view(-1, 1, H, W)])\n",
    "                torchvision.utils.save_image(comparison.cpu(),\n",
    "                         folder+f'/{name}_reconstruction_' + str(epoch) + '.png', nrow=n)\n",
    "\n",
    "    test_loss /= len(test_loader.dataset)\n",
    "    if epoch % log_interval == 0:\n",
    "        print(f'====> {name} ' + 'set loss: {:.4f}'.format(test_loss))\n",
    "\n"
   ]
  },
  {
   "cell_type": "code",
   "execution_count": 30,
   "metadata": {},
   "outputs": [
    {
     "name": "stdout",
     "output_type": "stream",
     "text": [
      "800800\n"
     ]
    }
   ],
   "source": [
    "train_loader = DataLoader(LetterData(X_train.astype(np.float32),\n",
    "        Y_train, small_size_letter_to_frame),\n",
    "    batch_size=64, shuffle=True, pin_memory=True)\n",
    "val_loader = DataLoader(LetterData(X_val.astype(np.float32),\n",
    "        Y_val, small_size_letter_to_frame),\n",
    "    batch_size=64, shuffle=True, pin_memory=True)\n",
    "test_loader = DataLoader(LetterData(X_test.astype(np.float32),\n",
    "        Y_test, small_size_letter_to_frame),\n",
    "    batch_size=64, shuffle=True, pin_memory=True)\n",
    "\n",
    "nfeatures = 28**2\n",
    "# we use a latent space of dimension 2 as to get an easy-to-visualize manifold\n",
    "# (see mnist/sample_*.png while running next cell)\n",
    "n_input = np.prod(X_train.shape[1:])\n",
    "n_hidden = 200\n",
    "n_latent = 10\n",
    "n_hidden2 = 200\n",
    "beta = 0.9\n",
    "nonlinearity = F.tanh\n",
    "n_output = np.product(small_size_letter_to_frame.shape[2:])\n",
    "est_params = n_input*n_hidden + n_hidden*n_latent + n_latent*n_hidden2 + n_hidden2*n_output\n",
    "print(est_params)"
   ]
  },
  {
   "cell_type": "code",
   "execution_count": 31,
   "metadata": {},
   "outputs": [
    {
     "name": "stderr",
     "output_type": "stream",
     "text": [
      "/home/tyler/.conda/lib/python3.7/site-packages/torch/nn/functional.py:1351: UserWarning: nn.functional.sigmoid is deprecated. Use torch.sigmoid instead.\n",
      "  warnings.warn(\"nn.functional.sigmoid is deprecated. Use torch.sigmoid instead.\")\n",
      "/home/tyler/.conda/lib/python3.7/site-packages/torch/nn/_reduction.py:43: UserWarning: size_average and reduce args will be deprecated, please use reduction='sum' instead.\n",
      "  warnings.warn(warning.format(ret))\n"
     ]
    },
    {
     "name": "stdout",
     "output_type": "stream",
     "text": [
      "Epoch: 10 Average loss: 80.0460\n",
      "====> Validation set loss: 75.9959\n",
      "Epoch: 20 Average loss: 54.2076\n",
      "====> Validation set loss: 52.2593\n",
      "Epoch: 30 Average loss: 36.7934\n",
      "====> Validation set loss: 37.7081\n",
      "Epoch: 40 Average loss: 28.1926\n",
      "====> Validation set loss: 30.9886\n",
      "Epoch: 50 Average loss: 23.3606\n",
      "====> Validation set loss: 26.8491\n",
      "Epoch: 60 Average loss: 20.1948\n",
      "====> Validation set loss: 24.6021\n",
      "Epoch: 70 Average loss: 17.9687\n",
      "====> Validation set loss: 23.1866\n",
      "Epoch: 80 Average loss: 16.6226\n",
      "====> Validation set loss: 22.7005\n",
      "Epoch: 90 Average loss: 15.3188\n",
      "====> Validation set loss: 21.8530\n",
      "Epoch: 100 Average loss: 14.5636\n",
      "====> Validation set loss: 21.1226\n"
     ]
    }
   ],
   "source": [
    "model = VAE(n_input, n_hidden, n_latent, n_hidden2, n_output,\n",
    "            nonlinearity=nonlinearity).to(device)\n",
    "optimizer = optim.Adam(model.parameters(), lr=9e-4)\n",
    "!mkdir -p letters_viz && rm letters_viz/*\n",
    "\n",
    "# this will take two minutes to run or so\n",
    "# As it does, check out the letters_viz folder!\n",
    "# each epoch, reconstruction examples are saved (original on top) \n",
    "# select files on right, then refresh, and double click image\n",
    "# click bottom right corner of image to resize\n",
    "\n",
    "nepochs = 100\n",
    "\n",
    "# make grid of z1 x z2 where z1,z2 \\elem (-3.5,-2.5, ..., 3.5)\n",
    "nrow = 25\n",
    "latents = torch.zeros(nrow,nrow,n_latent)\n",
    "z1_tick = np.linspace(-3.5,3.5,nrow)\n",
    "z2_tick = np.linspace(-3.5,3.5,nrow)\n",
    "for i, z1 in enumerate(z1_tick):\n",
    "    for j, z2 in enumerate(z2_tick):\n",
    "        latents[i,j,[0,1]] = torch.tensor([z1,z2])\n",
    "latents = latents.to(device)\n",
    "\n",
    "for epoch in range(1, nepochs + 1):\n",
    "    if epoch % 10 == 0:\n",
    "        save_image = True\n",
    "    else:\n",
    "        save_image = False\n",
    "    train(epoch, model, optimizer, train_loader, beta=beta)\n",
    "    test(epoch, model, val_loader, small_H, small_W, beta=beta,\n",
    "         save_image=save_image, folder='letters_viz', name=\"Validation\")\n",
    "    if save_image:\n",
    "        with torch.no_grad():\n",
    "            latent_space = model.decode(latents.view(-1,n_latent)).cpu()\n",
    "            torchvision.utils.save_image(latent_space.view(-1, 1, small_H, small_W),\n",
    "                       'letters_viz/sample_' + str(epoch) + '.png',nrow=nrow)"
   ]
  },
  {
   "cell_type": "code",
   "execution_count": 32,
   "metadata": {},
   "outputs": [
    {
     "name": "stdout",
     "output_type": "stream",
     "text": [
      "====> Test set loss: 23.3024\n"
     ]
    }
   ],
   "source": [
    "test(epoch, model, test_loader, small_H, small_W, beta=beta,\n",
    "         save_image=save_image, folder='letters_viz', name=\"Test\")"
   ]
  },
  {
   "cell_type": "code",
   "execution_count": null,
   "metadata": {},
   "outputs": [],
   "source": []
  }
 ],
 "metadata": {
  "kernelspec": {
   "display_name": "Python 3",
   "language": "python",
   "name": "python3"
  },
  "language_info": {
   "codemirror_mode": {
    "name": "ipython",
    "version": 3
   },
   "file_extension": ".py",
   "mimetype": "text/x-python",
   "name": "python",
   "nbconvert_exporter": "python",
   "pygments_lexer": "ipython3",
   "version": "3.7.3"
  }
 },
 "nbformat": 4,
 "nbformat_minor": 4
}
