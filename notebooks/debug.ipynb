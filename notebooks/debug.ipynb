{
 "cells": [
  {
   "cell_type": "code",
   "execution_count": null,
   "metadata": {},
   "outputs": [],
   "source": []
  },
  {
   "cell_type": "code",
   "execution_count": 4,
   "metadata": {},
   "outputs": [
    {
     "data": {
      "application/vnd.jupyter.widget-view+json": {
       "model_id": "d88d2dda470645c8b318dedde1a5e097",
       "version_major": 2,
       "version_minor": 0
      },
      "text/plain": [
       "HBox(children=(FloatProgress(value=0.0, max=2800.0), HTML(value='')))"
      ]
     },
     "metadata": {},
     "output_type": "display_data"
    },
    {
     "name": "stdout",
     "output_type": "stream",
     "text": [
      "\n"
     ]
    },
    {
     "data": {
      "text/plain": [
       "(torch.Size([1, 64, 64]), torch.Size([10, 6, 64, 64]))"
      ]
     },
     "execution_count": 4,
     "metadata": {},
     "output_type": "execute_result"
    }
   ],
   "source": [
    "# import hdf5plugin, h5py\n",
    "import torch, tables\n",
    "from torch import nn\n",
    "import os\n",
    "import torch.nn.functional as F\n",
    "from torchvision.datasets import MNIST\n",
    "from torch.utils.data import DataLoader, random_split, Dataset\n",
    "from torchvision import transforms\n",
    "from functools import partial\n",
    "from tqdm.auto import tqdm\n",
    "from typing import Any\n",
    "import torchvision\n",
    "import matplotlib.pyplot as plt\n",
    "import pytorch_lightning as pl\n",
    "import numpy as np\n",
    "from dataclasses import dataclass\n",
    "from typing import Callable\n",
    "import cv2, functools, glia\n",
    "import pytorch_lightning as pl\n",
    "from pytorch_lightning.loggers.neptune import NeptuneLogger\n",
    "import neptune\n",
    "import neptunecontrib.monitoring.optuna as optuna_utils\n",
    "from optuna.integration.pytorch_lightning import PyTorchLightningPruningCallback\n",
    "import optuna\n",
    "from datetime import datetime\n",
    "import socket, plotly\n",
    "from pathlib import Path\n",
    "import torch.nn, gc, psycopg2\n",
    "import sys, traceback\n",
    "from glia.reconstructions.lib import resize_3d, gray_3d, ImageData, RetinaData, \\\n",
    "     ConcatDataset, ImageRetina\n",
    "from sqlalchemy import create_engine\n",
    "\n",
    "sys.argv = [None, \"/mnt/fs1/tbenst/200623_faces/R1_E3_AMES_200min_200f_14l_rgb.h5\",\n",
    "            \"/mnt/fs1/tbenst/models/3brain/\", \"9\"]\n",
    "\n",
    "filepath = sys.argv[1]\n",
    "# model_base_dir = \"/storage/models/retina-reconstruction\"\n",
    "model_base_dir = sys.argv[2]\n",
    "gpus = [ int(sys.argv[3]) ]\n",
    "\n",
    "pw = os.environ[\"POSTGRES_OPTUNA_PASSWORD\"]\n",
    "server = os.environ[\"POSTGRES_SERVER\"]\n",
    "port = os.environ[\"POSTGRES_PORT\"]\n",
    "user = os.environ[\"POSTGRES_OPTUNA_USER\"]\n",
    "# validate password\n",
    "\n",
    "engine = create_engine(f'postgresql://{user}:{pw}@{server}:{port}/optuna')\n",
    "with engine.connect() as connection:\n",
    "    result = connection.execute(\"select * from trials limit 1;\")\n",
    "\n",
    "\n",
    "# open file\n",
    "hdf5 = tables.open_file(filepath,'r')\n",
    "h5 = hdf5.root\n",
    "\n",
    "# crop image\n",
    "imgs = h5[\"images\"][0:100]\n",
    "avg_img = np.mean(imgs, axis=(0,3))\n",
    "y,x = np.where(avg_img>5)\n",
    "xleft = min(x)\n",
    "xright = max(x)\n",
    "ytop = min(y)\n",
    "ybot = max(y)\n",
    "\n",
    "image_dset = ImageData(h5[\"images\"], crop=[ytop,ybot,xleft,xright])\n",
    "retina_dset = RetinaData(h5[\"data\"], no_units=False)\n",
    "(image_dset[0].shape, retina_dset[0].shape)"
   ]
  },
  {
   "cell_type": "code",
   "execution_count": 9,
   "metadata": {},
   "outputs": [],
   "source": [
    "import torch, tables\n",
    "from torch import nn\n",
    "import os\n",
    "import torch.nn.functional as F\n",
    "from torchvision.datasets import MNIST\n",
    "from torch.utils.data import DataLoader, random_split, Dataset\n",
    "from torchvision import transforms\n",
    "from functools import partial\n",
    "from tqdm.auto import tqdm\n",
    "from typing import Any\n",
    "import torchvision\n",
    "import matplotlib.pyplot as plt\n",
    "import pytorch_lightning as pl\n",
    "import numpy as np\n",
    "from dataclasses import dataclass\n",
    "from typing import Callable\n",
    "import cv2, functools, glia\n",
    "from pytorch_lightning.loggers.neptune import NeptuneLogger\n",
    "import neptune\n",
    "import neptunecontrib.monitoring.optuna as optuna_utils\n",
    "from optuna.integration.pytorch_lightning import PyTorchLightningPruningCallback\n",
    "import optuna\n",
    "from datetime import datetime\n",
    "import socket, plotly\n",
    "from pathlib import Path\n",
    "import torch.nn, gc, psycopg2\n",
    "import sys, traceback\n",
    "\n",
    "# Kingma & Welling (2014) style variational autoencoder\n",
    "\n",
    "# subclass PyTorch Module for reverse-mode autodifferentiation \n",
    "# for easy backpropogation of loss gradient\n",
    "\n",
    "def sample_model(trial, datamodule, save_dir):\n",
    "    retina_dset = datamodule.retina_dset\n",
    "    nTimeSteps, nUnitChannels, meaH, meaW = retina_dset[0].shape\n",
    "    image_dset = datamodule.images_dset\n",
    "    imageChannels, H, W = image_dset[0].shape\n",
    "\n",
    "    nCelltypes = trial.suggest_int(\"nCelltypes\", 1, 32)\n",
    "    kernel1 = trial.suggest_int(\"kernel1\", 1, 16)*2-1 # must be odd\n",
    "    kernel2 = trial.suggest_int(\"kernel2\", 1, 16)*2-1 # must be odd\n",
    "    nLayers = trial.suggest_int(\"nLayers\", 1, 8)\n",
    "    nBlockChannels = trial.suggest_int(\"nBlockChannels\", 1, 64)\n",
    "    nonlinearity = trial.suggest_categorical(\"nonlinearity\",\n",
    "        [\"relu\", \"celu\", \"sigmoid\", \"tanh\", \"leaky_relu\", \"gelu\", \"hardswish\"])\n",
    "    # batch_size =  trial.suggest_categorical(\"batch_size\",\n",
    "    #     [1,4,8,16,32,64,128,256,512])\n",
    "    batch_size = 64\n",
    "    weight_decay = trial.suggest_loguniform(\"weight_decay\", 1e-4,1.)\n",
    "\n",
    "    # lr = trial.suggest_loguniform(\"lr\", 1e-8,1.)\n",
    "    # beta = trial.suggest_loguniform(\"beta\", 1e-6,1e3)\n",
    "    beta = 0\n",
    "    \n",
    "    hostname = socket.gethostname()\n",
    "\n",
    "    model = ResnetDecoder(H=H, W=W, imageChannels=imageChannels,\n",
    "        nTimeSteps=nTimeSteps, \n",
    "        nCelltypes=nCelltypes,\n",
    "        kernel1=kernel1, kernel2=kernel2, nLayers=nLayers,\n",
    "        nBlockChannels=nBlockChannels,\n",
    "        nUnitChannels=nUnitChannels, meaH=meaH, meaW=meaW,\n",
    "        nonlinearity=nonlinearity,beta=beta, weight_decay=weight_decay,\n",
    "        example_input_array=retina_dset[0][None],\n",
    "        # lr=lr, \n",
    "        save_dir=save_dir, hostname=hostname, batch_size=batch_size)\n",
    "    datamodule.batch_size = batch_size\n",
    "    return model, datamodule\n",
    "\n",
    "def convLayer(in_chan, out_chan, kernel=9):\n",
    "    return nn.Conv2d(in_chan, out_chan, kernel_size=kernel,\n",
    "                     padding=kernel//2, bias=False)\n",
    "\n",
    "\n",
    "class BasicBlock(nn.Module):\n",
    "\n",
    "    def __init__(self, in_chan, out_chan, nonlinearity=F.relu):\n",
    "        super(BasicBlock, self).__init__()\n",
    "        self.conv1 = convLayer(in_chan, out_chan)\n",
    "        self.bn1 = nn.BatchNorm2d(out_chan)\n",
    "        self.nonlinearity = nonlinearity\n",
    "        self.conv2 = convLayer(out_chan, out_chan)\n",
    "        self.bn2 = nn.BatchNorm2d(out_chan)\n",
    "\n",
    "    def forward(self, x):\n",
    "        residual = x\n",
    "\n",
    "        out = self.conv1(x)\n",
    "        out = self.bn1(out)\n",
    "        out = self.nonlinearity(out)\n",
    "\n",
    "        out = self.conv2(out)\n",
    "        out = self.bn2(out)\n",
    "\n",
    "        out += residual\n",
    "        out = self.nonlinearity(out)\n",
    "\n",
    "        return out\n",
    "\n",
    "\n",
    "@dataclass(unsafe_hash=True)\n",
    "class ResnetDecoder(pl.LightningModule):\n",
    "    \"Given retina firing rates, reconstruct image\"\n",
    "        \n",
    "    def __init__(self, hostname:str, save_dir:str, example_input_array,\n",
    "            imageChannels:int = 3,\n",
    "            nUnitChannels:int = 6, nBlockChannels:int = 16,\n",
    "            meaH:int = 64, meaW:int = 64, H:int = 64, nLayers:int = 4,\n",
    "            W:int = 64, nTimeSteps:int = 10, nCelltypes:int = 8,\n",
    "            kernel1:int = 15, kernel2:int = 15, lr:float = 1e-3,\n",
    "            batch_size:int = 64, weight_decay: float = 1e-3, beta:float = 1,\n",
    "            nonlinearity:Callable = F.sigmoid):\n",
    "        super().__init__()\n",
    "        self.hostname = hostname\n",
    "        self.save_dir = save_dir\n",
    "        self.imageChannels = imageChannels\n",
    "        self.nUnitChannels = nUnitChannels\n",
    "        self.nBlockChannels = nBlockChannels\n",
    "        self.meaH = meaH\n",
    "        self.meaW = meaW\n",
    "        self.H = H\n",
    "        self.W = W\n",
    "        self.nTimeSteps = nTimeSteps\n",
    "        self.nCelltypes = nCelltypes\n",
    "        self.kernel1 = kernel1\n",
    "        self.kernel2 = kernel2\n",
    "        self.nLayers = nLayers\n",
    "        self.lr = lr\n",
    "        self.batch_size = batch_size\n",
    "        self.weight_decay = weight_decay\n",
    "        self.beta = beta\n",
    "        self.nonlinearity = nonlinearity\n",
    "        self.example_input_array = example_input_array\n",
    "\n",
    "        # all init args saved as hyperparam\n",
    "        self.save_hyperparameters()\n",
    "\n",
    "        if self.nonlinearity==\"relu\":\n",
    "            self.nonlinearity = F.relu\n",
    "        elif self.nonlinearity==\"celu\":\n",
    "            self.nonlinearity = F.celu\n",
    "        elif self.nonlinearity==\"sigmoid\":\n",
    "            self.nonlinearity = F.sigmoid\n",
    "        elif self.nonlinearity==\"tanh\":\n",
    "            self.nonlinearity = F.tanh\n",
    "        elif self.nonlinearity==\"leaky_relu\":\n",
    "            self.nonlinearity = F.leaky_relu\n",
    "        elif self.nonlinearity==\"gelu\":\n",
    "            self.nonlinearity = F.gelu\n",
    "        elif self.nonlinearity==\"hardswish\":\n",
    "            self.nonlinearity = F.hardswish\n",
    "        \n",
    "        # TODO: loss of 1 - l2 norm on weights to encourage winner-takes-all\n",
    "        cl = torch.FloatTensor(\n",
    "            self.nCelltypes, self.nUnitChannels, self.meaH, self.meaW).fill_(\n",
    "            1/self.nCelltypes)\n",
    "        self.celltype_likelihood = nn.Parameter(cl) # uniform prior\n",
    "        \n",
    "        self.conv1 = nn.Conv2d(in_channels=self.nCelltypes*self.nTimeSteps,\n",
    "            out_channels=self.nBlockChannels, kernel_size=self.kernel1,\n",
    "            padding=self.kernel1//2)\n",
    "        self.bn1 = nn.BatchNorm2d(self.nBlockChannels)\n",
    "\n",
    "        layers = [BasicBlock(self.nBlockChannels, self.nBlockChannels, self.nonlinearity)\n",
    "                  for i in range(self.nLayers)]\n",
    "        conv2 = nn.Conv2d(in_channels=self.nBlockChannels,\n",
    "            out_channels=self.imageChannels, kernel_size=self.kernel2,\n",
    "            padding=self.kernel2//2)\n",
    "        layers.append(conv2)\n",
    "        self.layers = nn.Sequential(*layers)\n",
    "  \n",
    "        self.save_hyperparameters()\n",
    "    \n",
    "    def forward(self,x):\n",
    "        \"Retina -> Image response\"\n",
    "        # map each unit to canonical celltype\n",
    "#         prob = F.softmax(self.celltype_likelihood, dim=0)\n",
    "        print(\"SHAPES\", x.shape, self.celltype_likelihood.shape)\n",
    "        if self.training:\n",
    "            x = torch.poisson(x)\n",
    "        x = torch.einsum(\"btchw,nchw->btnhw\", x, self.celltype_likelihood)\n",
    "        # combine time and unit dimensions\n",
    "        x = x.view(-1,self.nTimeSteps*self.nCelltypes, self.meaH, self.meaW)\n",
    "        x = self.conv1(x)\n",
    "        x = self.nonlinearity(self.bn1(x))\n",
    "        x = self.layers(x)\n",
    "        x = self.nonlinearity(x)\n",
    "        return x\n",
    "        \n",
    "    def calc_loss(self, batch, batch_idx):\n",
    "        images, retina = batch\n",
    "        im_pred = self(retina)\n",
    "        recon_loss = F.mse_loss(im_pred, images, reduction='sum') / images.shape[0]\n",
    "        celltype_loss = (1 - self.celltype_likelihood.norm(dim=0)).mean()\n",
    "        # TODO: WARN: beta is not used!\n",
    "#         loss = self.beta * celltype_loss + recon_loss\n",
    "        loss = recon_loss\n",
    "        return {\"loss\": loss, \"recon_loss\": recon_loss, \"celltype_loss\": celltype_loss,\n",
    "                \"im_pred\": im_pred}\n",
    "\n",
    "    def training_step(self, batch, batch_idx):\n",
    "        loss_dict = self.calc_loss(batch, batch_idx)\n",
    "        loss, recon_loss, celltype_loss = loss_dict[\"loss\"], \\\n",
    "            loss_dict[\"recon_loss\"], loss_dict[\"celltype_loss\"]\n",
    "        result = pl.TrainResult(loss)\n",
    "        result.log('train_loss', loss, prog_bar=True)\n",
    "        result.log('reconstruction_loss', recon_loss, prog_bar=True)\n",
    "        result.log('celltype_loss', celltype_loss, prog_bar=True)\n",
    "        return result\n",
    "        \n",
    "    def validation_step(self, batch, batch_idx):\n",
    "        loss_dict = self.calc_loss(batch, batch_idx)\n",
    "        loss, recon_loss, celltype_loss, Y_pred = loss_dict[\"loss\"], \\\n",
    "            loss_dict[\"recon_loss\"], loss_dict[\"celltype_loss\"], loss_dict[\"im_pred\"]\n",
    "        result = pl.EvalResult(checkpoint_on=loss)\n",
    "        result.log('val_loss', loss, on_epoch=True)\n",
    "        result.log('val_mse_loss', recon_loss, on_epoch=True)\n",
    "        result.log('val_celltype_loss', celltype_loss, on_epoch=True)\n",
    "        return result\n",
    "\n",
    "    def test_step(self, batch, batch_idx):\n",
    "        loss_dict = self.calc_loss(batch, batch_idx)\n",
    "        return result\n",
    "\n",
    "    def configure_optimizers(self):\n",
    "        optimizer = torch.optim.AdamW(self.parameters(), lr=self.lr,\n",
    "            weight_decay=self.weight_decay)\n",
    "        return optimizer"
   ]
  },
  {
   "cell_type": "code",
   "execution_count": null,
   "metadata": {},
   "outputs": [
    {
     "name": "stderr",
     "output_type": "stream",
     "text": [
      "[I 2020-09-14 21:34:55,496] Using an existing study with name '2020-09-14_FEI_resnet-eigsum' instead of creating a new one.\n"
     ]
    },
    {
     "name": "stdout",
     "output_type": "stream",
     "text": [
      "https://ui.neptune.ai/tbenst/retina/e/RET-679\n"
     ]
    },
    {
     "name": "stderr",
     "output_type": "stream",
     "text": [
      "NeptuneLogger will work in online mode\n",
      "GPU available: True, used: True\n",
      "TPU available: False, using: 0 TPU cores\n",
      "CUDA_VISIBLE_DEVICES: [9]\n"
     ]
    },
    {
     "name": "stdout",
     "output_type": "stream",
     "text": [
      "SHAPES torch.Size([1, 10, 6, 64, 64]) torch.Size([26, 6, 64, 64])\n"
     ]
    },
    {
     "name": "stderr",
     "output_type": "stream",
     "text": [
      "\n",
      "  | Name   | Type        | Params | In sizes         | Out sizes     \n",
      "---------------------------------------------------------------------------\n",
      "0 | conv1  | Conv2d      | 188 K  | [1, 260, 64, 64] | [1, 6, 64, 64]\n",
      "1 | bn1    | BatchNorm2d | 12     | [1, 6, 64, 64]   | [1, 6, 64, 64]\n",
      "2 | layers | Sequential  | 31 K   | [1, 6, 64, 64]   | [1, 1, 64, 64]\n"
     ]
    },
    {
     "name": "stdout",
     "output_type": "stream",
     "text": [
      "SHAPES torch.Size([64, 10, 6, 64, 64]) torch.Size([26, 6, 64, 64])\n"
     ]
    },
    {
     "data": {
      "application/vnd.jupyter.widget-view+json": {
       "model_id": "7947460877ac40bdb8df4a79c6ff773b",
       "version_major": 2,
       "version_minor": 0
      },
      "text/plain": [
       "HBox(children=(FloatProgress(value=0.0, description='Finding best initial lr', style=ProgressStyle(description…"
      ]
     },
     "metadata": {},
     "output_type": "display_data"
    },
    {
     "name": "stdout",
     "output_type": "stream",
     "text": [
      "SHAPES torch.Size([64, 10, 6, 64, 64]) torch.Size([26, 6, 64, 64])\n",
      "SHAPES torch.Size([64, 10, 6, 64, 64]) torch.Size([26, 6, 64, 64])\n",
      "SHAPES torch.Size([64, 10, 6, 64, 64]) torch.Size([26, 6, 64, 64])\n",
      "SHAPES torch.Size([64, 10, 6, 64, 64]) torch.Size([26, 6, 64, 64])\n",
      "SHAPES torch.Size([64, 10, 6, 64, 64]) torch.Size([26, 6, 64, 64])\n",
      "SHAPES torch.Size([64, 10, 6, 64, 64]) torch.Size([26, 6, 64, 64])\n",
      "SHAPES torch.Size([64, 10, 6, 64, 64]) torch.Size([26, 6, 64, 64])\n",
      "SHAPES torch.Size([64, 10, 6, 64, 64]) torch.Size([26, 6, 64, 64])\n",
      "SHAPES torch.Size([64, 10, 6, 64, 64]) torch.Size([26, 6, 64, 64])\n",
      "SHAPES torch.Size([64, 10, 6, 64, 64]) torch.Size([26, 6, 64, 64])\n",
      "SHAPES torch.Size([64, 10, 6, 64, 64]) torch.Size([26, 6, 64, 64])\n",
      "SHAPES torch.Size([64, 10, 6, 64, 64]) torch.Size([26, 6, 64, 64])\n",
      "SHAPES torch.Size([64, 10, 6, 64, 64]) torch.Size([26, 6, 64, 64])\n",
      "SHAPES torch.Size([64, 10, 6, 64, 64]) torch.Size([26, 6, 64, 64])\n",
      "SHAPES torch.Size([64, 10, 6, 64, 64]) torch.Size([26, 6, 64, 64])\n",
      "SHAPES torch.Size([64, 10, 6, 64, 64]) torch.Size([26, 6, 64, 64])\n",
      "SHAPES torch.Size([64, 10, 6, 64, 64]) torch.Size([26, 6, 64, 64])\n",
      "SHAPES torch.Size([64, 10, 6, 64, 64]) torch.Size([26, 6, 64, 64])\n"
     ]
    },
    {
     "name": "stderr",
     "output_type": "stream",
     "text": [
      "Saving latest checkpoint..\n",
      "LR finder stopped early due to diverging loss.\n",
      "Learning rate set to 1.5848931924611133e-07\n"
     ]
    },
    {
     "name": "stdout",
     "output_type": "stream",
     "text": [
      "SHAPES torch.Size([1, 10, 6, 64, 64]) torch.Size([26, 6, 64, 64])\n"
     ]
    },
    {
     "name": "stderr",
     "output_type": "stream",
     "text": [
      "\n",
      "  | Name   | Type        | Params | In sizes         | Out sizes     \n",
      "---------------------------------------------------------------------------\n",
      "0 | conv1  | Conv2d      | 188 K  | [1, 260, 64, 64] | [1, 6, 64, 64]\n",
      "1 | bn1    | BatchNorm2d | 12     | [1, 6, 64, 64]   | [1, 6, 64, 64]\n",
      "2 | layers | Sequential  | 31 K   | [1, 6, 64, 64]   | [1, 1, 64, 64]\n"
     ]
    },
    {
     "data": {
      "application/vnd.jupyter.widget-view+json": {
       "model_id": "",
       "version_major": 2,
       "version_minor": 0
      },
      "text/plain": [
       "HBox(children=(FloatProgress(value=1.0, bar_style='info', description='Validation sanity check', layout=Layout…"
      ]
     },
     "metadata": {},
     "output_type": "display_data"
    },
    {
     "name": "stdout",
     "output_type": "stream",
     "text": [
      "SHAPES torch.Size([64, 10, 6, 64, 64]) torch.Size([26, 6, 64, 64])\n"
     ]
    },
    {
     "data": {
      "application/vnd.jupyter.widget-view+json": {
       "model_id": "e5df920b13ed4d328341f6b03b4bce30",
       "version_major": 2,
       "version_minor": 0
      },
      "text/plain": [
       "HBox(children=(FloatProgress(value=1.0, bar_style='info', description='Training', layout=Layout(flex='2'), max…"
      ]
     },
     "metadata": {},
     "output_type": "display_data"
    },
    {
     "name": "stdout",
     "output_type": "stream",
     "text": [
      "\n",
      "SHAPES torch.Size([64, 10, 6, 64, 64]) torch.Size([26, 6, 64, 64])\n",
      "SHAPES torch.Size([64, 10, 6, 64, 64]) torch.Size([26, 6, 64, 64])\n",
      "SHAPES torch.Size([64, 10, 6, 64, 64]) torch.Size([26, 6, 64, 64])\n",
      "SHAPES torch.Size([64, 10, 6, 64, 64]) torch.Size([26, 6, 64, 64])\n",
      "SHAPES torch.Size([64, 10, 6, 64, 64]) torch.Size([26, 6, 64, 64])\n",
      "SHAPES torch.Size([64, 10, 6, 64, 64]) torch.Size([26, 6, 64, 64])\n",
      "\n",
      "SHAPES torch.Size([64, 10, 6, 64, 64]) torch.Size([26, 6, 64, 64])\n",
      "SHAPES torch.Size([64, 10, 6, 64, 64]) torch.Size([26, 6, 64, 64])\n",
      "SHAPES torch.Size([64, 10, 6, 64, 64]) torch.Size([26, 6, 64, 64])\n",
      "SHAPES torch.Size([64, 10, 6, 64, 64]) torch.Size([26, 6, 64, 64])\n",
      "SHAPES torch.Size([64, 10, 6, 64, 64]) torch.Size([26, 6, 64, 64])\n",
      "SHAPES torch.Size([64, 10, 6, 64, 64]) torch.Size([26, 6, 64, 64])\n",
      "SHAPES torch.Size([64, 10, 6, 64, 64]) torch.Size([26, 6, 64, 64])\n",
      "SHAPES torch.Size([64, 10, 6, 64, 64]) torch.Size([26, 6, 64, 64])\n",
      "SHAPES torch.Size([64, 10, 6, 64, 64]) torch.Size([26, 6, 64, 64])\n",
      "SHAPES torch.Size([64, 10, 6, 64, 64]) torch.Size([26, 6, 64, 64])\n",
      "SHAPES torch.Size([64, 10, 6, 64, 64]) torch.Size([26, 6, 64, 64])\n",
      "SHAPES torch.Size([64, 10, 6, 64, 64]) torch.Size([26, 6, 64, 64])\n",
      "SHAPES torch.Size([64, 10, 6, 64, 64]) torch.Size([26, 6, 64, 64])\n",
      "SHAPES torch.Size([64, 10, 6, 64, 64]) torch.Size([26, 6, 64, 64])\n",
      "SHAPES torch.Size([64, 10, 6, 64, 64]) torch.Size([26, 6, 64, 64])\n",
      "SHAPES torch.Size([64, 10, 6, 64, 64]) torch.Size([26, 6, 64, 64])\n",
      "SHAPES torch.Size([64, 10, 6, 64, 64]) torch.Size([26, 6, 64, 64])\n",
      "SHAPES torch.Size([64, 10, 6, 64, 64]) torch.Size([26, 6, 64, 64])\n",
      "SHAPES torch.Size([64, 10, 6, 64, 64]) torch.Size([26, 6, 64, 64])\n",
      "SHAPES torch.Size([64, 10, 6, 64, 64]) torch.Size([26, 6, 64, 64])\n",
      "SHAPES torch.Size([64, 10, 6, 64, 64]) torch.Size([26, 6, 64, 64])\n",
      "SHAPES torch.Size([64, 10, 6, 64, 64]) torch.Size([26, 6, 64, 64])\n",
      "SHAPES torch.Size([64, 10, 6, 64, 64]) torch.Size([26, 6, 64, 64])\n",
      "SHAPES torch.Size([64, 10, 6, 64, 64]) torch.Size([26, 6, 64, 64])\n",
      "SHAPES torch.Size([64, 10, 6, 64, 64]) torch.Size([26, 6, 64, 64])\n",
      "SHAPES torch.Size([64, 10, 6, 64, 64]) torch.Size([26, 6, 64, 64])\n",
      "SHAPES torch.Size([64, 10, 6, 64, 64]) torch.Size([26, 6, 64, 64])\n",
      "SHAPES torch.Size([64, 10, 6, 64, 64]) torch.Size([26, 6, 64, 64])\n",
      "SHAPES torch.Size([64, 10, 6, 64, 64]) torch.Size([26, 6, 64, 64])\n"
     ]
    },
    {
     "data": {
      "application/vnd.jupyter.widget-view+json": {
       "model_id": "",
       "version_major": 2,
       "version_minor": 0
      },
      "text/plain": [
       "HBox(children=(FloatProgress(value=1.0, bar_style='info', description='Validating', layout=Layout(flex='2'), m…"
      ]
     },
     "metadata": {},
     "output_type": "display_data"
    },
    {
     "name": "stdout",
     "output_type": "stream",
     "text": [
      "\n",
      "\n",
      "\n",
      "\n",
      "\n",
      "\n",
      "SHAPES torch.Size([64, 10, 6, 64, 64]) torch.Size([26, 6, 64, 64])\n",
      "SHAPES torch.Size([64, 10, 6, 64, 64]) torch.Size([26, 6, 64, 64])\n",
      "SHAPES torch.Size([64, 10, 6, 64, 64]) torch.Size([26, 6, 64, 64])\n",
      "SHAPES torch.Size([64, 10, 6, 64, 64]) torch.Size([26, 6, 64, 64])\n",
      "SHAPES torch.Size([24, 10, 6, 64, 64]) torch.Size([26, 6, 64, 64])\n",
      "SHAPES torch.Size([64, 10, 6, 64, 64]) torch.Size([26, 6, 64, 64])\n",
      "SHAPES torch.Size([64, 10, 6, 64, 64]) torch.Size([26, 6, 64, 64])\n",
      "SHAPES torch.Size([64, 10, 6, 64, 64]) torch.Size([26, 6, 64, 64])\n",
      "SHAPES torch.Size([64, 10, 6, 64, 64]) torch.Size([26, 6, 64, 64])\n",
      "SHAPES torch.Size([64, 10, 6, 64, 64]) torch.Size([26, 6, 64, 64])\n",
      "SHAPES torch.Size([64, 10, 6, 64, 64]) torch.Size([26, 6, 64, 64])\n",
      "SHAPES torch.Size([64, 10, 6, 64, 64]) torch.Size([26, 6, 64, 64])\n",
      "SHAPES torch.Size([64, 10, 6, 64, 64]) torch.Size([26, 6, 64, 64])\n",
      "SHAPES torch.Size([64, 10, 6, 64, 64]) torch.Size([26, 6, 64, 64])\n",
      "SHAPES torch.Size([64, 10, 6, 64, 64]) torch.Size([26, 6, 64, 64])\n",
      "SHAPES torch.Size([64, 10, 6, 64, 64]) torch.Size([26, 6, 64, 64])\n",
      "SHAPES torch.Size([64, 10, 6, 64, 64]) torch.Size([26, 6, 64, 64])\n",
      "SHAPES torch.Size([64, 10, 6, 64, 64]) torch.Size([26, 6, 64, 64])\n",
      "SHAPES torch.Size([64, 10, 6, 64, 64]) torch.Size([26, 6, 64, 64])\n",
      "SHAPES torch.Size([64, 10, 6, 64, 64]) torch.Size([26, 6, 64, 64])\n",
      "SHAPES torch.Size([64, 10, 6, 64, 64]) torch.Size([26, 6, 64, 64])\n",
      "SHAPES torch.Size([64, 10, 6, 64, 64]) torch.Size([26, 6, 64, 64])\n",
      "SHAPES torch.Size([64, 10, 6, 64, 64]) torch.Size([26, 6, 64, 64])\n",
      "SHAPES torch.Size([64, 10, 6, 64, 64]) torch.Size([26, 6, 64, 64])\n",
      "SHAPES torch.Size([64, 10, 6, 64, 64]) torch.Size([26, 6, 64, 64])\n",
      "SHAPES torch.Size([64, 10, 6, 64, 64]) torch.Size([26, 6, 64, 64])\n",
      "SHAPES torch.Size([64, 10, 6, 64, 64]) torch.Size([26, 6, 64, 64])\n",
      "SHAPES torch.Size([64, 10, 6, 64, 64]) torch.Size([26, 6, 64, 64])\n",
      "SHAPES torch.Size([64, 10, 6, 64, 64]) torch.Size([26, 6, 64, 64])\n",
      "SHAPES torch.Size([64, 10, 6, 64, 64]) torch.Size([26, 6, 64, 64])\n",
      "SHAPES torch.Size([64, 10, 6, 64, 64]) torch.Size([26, 6, 64, 64])\n",
      "SHAPES torch.Size([64, 10, 6, 64, 64]) torch.Size([26, 6, 64, 64])\n",
      "SHAPES torch.Size([64, 10, 6, 64, 64]) torch.Size([26, 6, 64, 64])\n",
      "SHAPES torch.Size([64, 10, 6, 64, 64]) torch.Size([26, 6, 64, 64])\n",
      "SHAPES torch.Size([64, 10, 6, 64, 64]) torch.Size([26, 6, 64, 64])\n",
      "SHAPES torch.Size([64, 10, 6, 64, 64]) torch.Size([26, 6, 64, 64])\n",
      "SHAPES torch.Size([64, 10, 6, 64, 64]) torch.Size([26, 6, 64, 64])\n",
      "SHAPES torch.Size([64, 10, 6, 64, 64]) torch.Size([26, 6, 64, 64])\n",
      "SHAPES torch.Size([64, 10, 6, 64, 64]) torch.Size([26, 6, 64, 64])\n",
      "SHAPES torch.Size([64, 10, 6, 64, 64]) torch.Size([26, 6, 64, 64])\n"
     ]
    },
    {
     "data": {
      "application/vnd.jupyter.widget-view+json": {
       "model_id": "",
       "version_major": 2,
       "version_minor": 0
      },
      "text/plain": [
       "HBox(children=(FloatProgress(value=1.0, bar_style='info', description='Validating', layout=Layout(flex='2'), m…"
      ]
     },
     "metadata": {},
     "output_type": "display_data"
    },
    {
     "name": "stdout",
     "output_type": "stream",
     "text": [
      "SHAPES torch.Size([64, 10, 6, 64, 64]) torch.Size([26, 6, 64, 64])\n",
      "SHAPES torch.Size([64, 10, 6, 64, 64]) torch.Size([26, 6, 64, 64])\n",
      "SHAPES torch.Size([64, 10, 6, 64, 64]) torch.Size([26, 6, 64, 64])\n",
      "SHAPES torch.Size([64, 10, 6, 64, 64]) torch.Size([26, 6, 64, 64])\n",
      "SHAPES torch.Size([24, 10, 6, 64, 64]) torch.Size([26, 6, 64, 64])\n",
      "SHAPES torch.Size([64, 10, 6, 64, 64]) torch.Size([26, 6, 64, 64])\n",
      "SHAPES torch.Size([64, 10, 6, 64, 64]) torch.Size([26, 6, 64, 64])\n",
      "SHAPES torch.Size([64, 10, 6, 64, 64]) torch.Size([26, 6, 64, 64])\n",
      "SHAPES torch.Size([64, 10, 6, 64, 64]) torch.Size([26, 6, 64, 64])\n",
      "SHAPES torch.Size([64, 10, 6, 64, 64]) torch.Size([26, 6, 64, 64])\n",
      "SHAPES torch.Size([64, 10, 6, 64, 64]) torch.Size([26, 6, 64, 64])\n",
      "SHAPES torch.Size([64, 10, 6, 64, 64]) torch.Size([26, 6, 64, 64])\n",
      "SHAPES torch.Size([64, 10, 6, 64, 64]) torch.Size([26, 6, 64, 64])\n",
      "SHAPES torch.Size([64, 10, 6, 64, 64]) torch.Size([26, 6, 64, 64])\n",
      "SHAPES torch.Size([64, 10, 6, 64, 64]) torch.Size([26, 6, 64, 64])\n",
      "SHAPES torch.Size([64, 10, 6, 64, 64]) torch.Size([26, 6, 64, 64])\n",
      "SHAPES torch.Size([64, 10, 6, 64, 64]) torch.Size([26, 6, 64, 64])\n",
      "SHAPES torch.Size([64, 10, 6, 64, 64]) torch.Size([26, 6, 64, 64])\n",
      "SHAPES torch.Size([64, 10, 6, 64, 64]) torch.Size([26, 6, 64, 64])\n",
      "SHAPES torch.Size([64, 10, 6, 64, 64]) torch.Size([26, 6, 64, 64])\n",
      "SHAPES torch.Size([64, 10, 6, 64, 64]) torch.Size([26, 6, 64, 64])\n",
      "SHAPES torch.Size([64, 10, 6, 64, 64]) torch.Size([26, 6, 64, 64])\n",
      "SHAPES torch.Size([64, 10, 6, 64, 64]) torch.Size([26, 6, 64, 64])\n",
      "SHAPES torch.Size([64, 10, 6, 64, 64]) torch.Size([26, 6, 64, 64])\n",
      "SHAPES torch.Size([64, 10, 6, 64, 64]) torch.Size([26, 6, 64, 64])\n",
      "SHAPES torch.Size([64, 10, 6, 64, 64]) torch.Size([26, 6, 64, 64])\n",
      "SHAPES torch.Size([64, 10, 6, 64, 64]) torch.Size([26, 6, 64, 64])\n",
      "SHAPES torch.Size([64, 10, 6, 64, 64]) torch.Size([26, 6, 64, 64])\n",
      "SHAPES torch.Size([64, 10, 6, 64, 64]) torch.Size([26, 6, 64, 64])\n",
      "SHAPES torch.Size([64, 10, 6, 64, 64]) torch.Size([26, 6, 64, 64])\n",
      "SHAPES torch.Size([64, 10, 6, 64, 64]) torch.Size([26, 6, 64, 64])\n",
      "SHAPES torch.Size([64, 10, 6, 64, 64]) torch.Size([26, 6, 64, 64])\n",
      "SHAPES torch.Size([64, 10, 6, 64, 64]) torch.Size([26, 6, 64, 64])\n",
      "SHAPES torch.Size([64, 10, 6, 64, 64]) torch.Size([26, 6, 64, 64])\n",
      "SHAPES torch.Size([64, 10, 6, 64, 64]) torch.Size([26, 6, 64, 64])\n",
      "SHAPES torch.Size([64, 10, 6, 64, 64]) torch.Size([26, 6, 64, 64])\n",
      "SHAPES torch.Size([64, 10, 6, 64, 64]) torch.Size([26, 6, 64, 64])\n",
      "SHAPES torch.Size([64, 10, 6, 64, 64]) torch.Size([26, 6, 64, 64])\n",
      "SHAPES torch.Size([64, 10, 6, 64, 64]) torch.Size([26, 6, 64, 64])\n",
      "SHAPES torch.Size([64, 10, 6, 64, 64]) torch.Size([26, 6, 64, 64])\n"
     ]
    },
    {
     "data": {
      "application/vnd.jupyter.widget-view+json": {
       "model_id": "",
       "version_major": 2,
       "version_minor": 0
      },
      "text/plain": [
       "HBox(children=(FloatProgress(value=1.0, bar_style='info', description='Validating', layout=Layout(flex='2'), m…"
      ]
     },
     "metadata": {},
     "output_type": "display_data"
    },
    {
     "name": "stdout",
     "output_type": "stream",
     "text": [
      "SHAPES torch.Size([64, 10, 6, 64, 64]) torch.Size([26, 6, 64, 64])\n",
      "SHAPES torch.Size([64, 10, 6, 64, 64]) torch.Size([26, 6, 64, 64])\n",
      "SHAPES torch.Size([64, 10, 6, 64, 64]) torch.Size([26, 6, 64, 64])\n",
      "SHAPES torch.Size([64, 10, 6, 64, 64]) torch.Size([26, 6, 64, 64])\n",
      "SHAPES torch.Size([24, 10, 6, 64, 64]) torch.Size([26, 6, 64, 64])\n",
      "SHAPES torch.Size([64, 10, 6, 64, 64]) torch.Size([26, 6, 64, 64])\n",
      "SHAPES torch.Size([64, 10, 6, 64, 64]) torch.Size([26, 6, 64, 64])\n",
      "SHAPES torch.Size([64, 10, 6, 64, 64]) torch.Size([26, 6, 64, 64])\n",
      "SHAPES torch.Size([64, 10, 6, 64, 64]) torch.Size([26, 6, 64, 64])\n",
      "SHAPES torch.Size([64, 10, 6, 64, 64]) torch.Size([26, 6, 64, 64])\n",
      "SHAPES torch.Size([64, 10, 6, 64, 64]) torch.Size([26, 6, 64, 64])\n",
      "SHAPES torch.Size([64, 10, 6, 64, 64]) torch.Size([26, 6, 64, 64])\n",
      "SHAPES torch.Size([64, 10, 6, 64, 64]) torch.Size([26, 6, 64, 64])\n",
      "SHAPES torch.Size([64, 10, 6, 64, 64]) torch.Size([26, 6, 64, 64])\n",
      "SHAPES torch.Size([64, 10, 6, 64, 64]) torch.Size([26, 6, 64, 64])\n",
      "SHAPES torch.Size([64, 10, 6, 64, 64]) torch.Size([26, 6, 64, 64])\n",
      "SHAPES torch.Size([64, 10, 6, 64, 64]) torch.Size([26, 6, 64, 64])\n",
      "SHAPES torch.Size([64, 10, 6, 64, 64]) torch.Size([26, 6, 64, 64])\n",
      "SHAPES torch.Size([64, 10, 6, 64, 64]) torch.Size([26, 6, 64, 64])\n",
      "SHAPES torch.Size([64, 10, 6, 64, 64]) torch.Size([26, 6, 64, 64])\n",
      "SHAPES torch.Size([64, 10, 6, 64, 64]) torch.Size([26, 6, 64, 64])\n",
      "SHAPES torch.Size([64, 10, 6, 64, 64]) torch.Size([26, 6, 64, 64])\n",
      "SHAPES torch.Size([64, 10, 6, 64, 64]) torch.Size([26, 6, 64, 64])\n",
      "SHAPES torch.Size([64, 10, 6, 64, 64]) torch.Size([26, 6, 64, 64])\n",
      "SHAPES torch.Size([64, 10, 6, 64, 64]) torch.Size([26, 6, 64, 64])\n",
      "SHAPES torch.Size([64, 10, 6, 64, 64]) torch.Size([26, 6, 64, 64])\n",
      "SHAPES torch.Size([64, 10, 6, 64, 64]) torch.Size([26, 6, 64, 64])\n",
      "SHAPES torch.Size([64, 10, 6, 64, 64]) torch.Size([26, 6, 64, 64])\n",
      "SHAPES torch.Size([64, 10, 6, 64, 64]) torch.Size([26, 6, 64, 64])\n",
      "SHAPES torch.Size([64, 10, 6, 64, 64]) torch.Size([26, 6, 64, 64])\n",
      "SHAPES torch.Size([64, 10, 6, 64, 64]) torch.Size([26, 6, 64, 64])\n",
      "SHAPES torch.Size([64, 10, 6, 64, 64]) torch.Size([26, 6, 64, 64])\n",
      "SHAPES torch.Size([64, 10, 6, 64, 64]) torch.Size([26, 6, 64, 64])\n",
      "SHAPES torch.Size([64, 10, 6, 64, 64]) torch.Size([26, 6, 64, 64])\n",
      "SHAPES torch.Size([64, 10, 6, 64, 64]) torch.Size([26, 6, 64, 64])\n",
      "SHAPES torch.Size([64, 10, 6, 64, 64]) torch.Size([26, 6, 64, 64])\n",
      "SHAPES torch.Size([64, 10, 6, 64, 64]) torch.Size([26, 6, 64, 64])\n",
      "SHAPES torch.Size([64, 10, 6, 64, 64]) torch.Size([26, 6, 64, 64])\n",
      "SHAPES torch.Size([64, 10, 6, 64, 64]) torch.Size([26, 6, 64, 64])\n",
      "SHAPES torch.Size([64, 10, 6, 64, 64]) torch.Size([26, 6, 64, 64])\n"
     ]
    },
    {
     "data": {
      "application/vnd.jupyter.widget-view+json": {
       "model_id": "",
       "version_major": 2,
       "version_minor": 0
      },
      "text/plain": [
       "HBox(children=(FloatProgress(value=1.0, bar_style='info', description='Validating', layout=Layout(flex='2'), m…"
      ]
     },
     "metadata": {},
     "output_type": "display_data"
    },
    {
     "name": "stdout",
     "output_type": "stream",
     "text": [
      "SHAPES torch.Size([64, 10, 6, 64, 64]) torch.Size([26, 6, 64, 64])\n",
      "SHAPES torch.Size([64, 10, 6, 64, 64]) torch.Size([26, 6, 64, 64])\n",
      "SHAPES torch.Size([64, 10, 6, 64, 64]) torch.Size([26, 6, 64, 64])\n",
      "SHAPES torch.Size([64, 10, 6, 64, 64]) torch.Size([26, 6, 64, 64])\n",
      "SHAPES torch.Size([24, 10, 6, 64, 64]) torch.Size([26, 6, 64, 64])\n",
      "SHAPES torch.Size([64, 10, 6, 64, 64]) torch.Size([26, 6, 64, 64])\n",
      "SHAPES torch.Size([64, 10, 6, 64, 64]) torch.Size([26, 6, 64, 64])\n",
      "SHAPES torch.Size([64, 10, 6, 64, 64]) torch.Size([26, 6, 64, 64])\n",
      "SHAPES torch.Size([64, 10, 6, 64, 64]) torch.Size([26, 6, 64, 64])\n",
      "SHAPES torch.Size([64, 10, 6, 64, 64]) torch.Size([26, 6, 64, 64])\n",
      "SHAPES torch.Size([64, 10, 6, 64, 64]) torch.Size([26, 6, 64, 64])\n",
      "SHAPES torch.Size([64, 10, 6, 64, 64]) torch.Size([26, 6, 64, 64])\n",
      "SHAPES torch.Size([64, 10, 6, 64, 64]) torch.Size([26, 6, 64, 64])\n",
      "SHAPES torch.Size([64, 10, 6, 64, 64]) torch.Size([26, 6, 64, 64])\n",
      "SHAPES torch.Size([64, 10, 6, 64, 64]) torch.Size([26, 6, 64, 64])\n",
      "SHAPES torch.Size([64, 10, 6, 64, 64]) torch.Size([26, 6, 64, 64])\n",
      "SHAPES torch.Size([64, 10, 6, 64, 64]) torch.Size([26, 6, 64, 64])\n",
      "SHAPES torch.Size([64, 10, 6, 64, 64]) torch.Size([26, 6, 64, 64])\n",
      "SHAPES torch.Size([64, 10, 6, 64, 64]) torch.Size([26, 6, 64, 64])\n",
      "SHAPES torch.Size([64, 10, 6, 64, 64]) torch.Size([26, 6, 64, 64])\n",
      "SHAPES torch.Size([64, 10, 6, 64, 64]) torch.Size([26, 6, 64, 64])\n",
      "SHAPES torch.Size([64, 10, 6, 64, 64]) torch.Size([26, 6, 64, 64])\n",
      "SHAPES torch.Size([64, 10, 6, 64, 64]) torch.Size([26, 6, 64, 64])\n",
      "SHAPES torch.Size([64, 10, 6, 64, 64]) torch.Size([26, 6, 64, 64])\n",
      "SHAPES torch.Size([64, 10, 6, 64, 64]) torch.Size([26, 6, 64, 64])\n",
      "SHAPES torch.Size([64, 10, 6, 64, 64]) torch.Size([26, 6, 64, 64])\n",
      "SHAPES torch.Size([64, 10, 6, 64, 64]) torch.Size([26, 6, 64, 64])\n",
      "SHAPES torch.Size([64, 10, 6, 64, 64]) torch.Size([26, 6, 64, 64])\n",
      "SHAPES torch.Size([64, 10, 6, 64, 64]) torch.Size([26, 6, 64, 64])\n",
      "SHAPES torch.Size([64, 10, 6, 64, 64]) torch.Size([26, 6, 64, 64])\n",
      "SHAPES torch.Size([64, 10, 6, 64, 64]) torch.Size([26, 6, 64, 64])\n",
      "SHAPES torch.Size([64, 10, 6, 64, 64]) torch.Size([26, 6, 64, 64])\n",
      "SHAPES torch.Size([64, 10, 6, 64, 64]) torch.Size([26, 6, 64, 64])\n",
      "SHAPES torch.Size([64, 10, 6, 64, 64]) torch.Size([26, 6, 64, 64])\n",
      "SHAPES torch.Size([64, 10, 6, 64, 64]) torch.Size([26, 6, 64, 64])\n",
      "SHAPES torch.Size([64, 10, 6, 64, 64]) torch.Size([26, 6, 64, 64])\n",
      "SHAPES torch.Size([64, 10, 6, 64, 64]) torch.Size([26, 6, 64, 64])\n",
      "SHAPES torch.Size([64, 10, 6, 64, 64]) torch.Size([26, 6, 64, 64])\n",
      "SHAPES torch.Size([64, 10, 6, 64, 64]) torch.Size([26, 6, 64, 64])\n",
      "SHAPES torch.Size([64, 10, 6, 64, 64]) torch.Size([26, 6, 64, 64])\n"
     ]
    },
    {
     "data": {
      "application/vnd.jupyter.widget-view+json": {
       "model_id": "",
       "version_major": 2,
       "version_minor": 0
      },
      "text/plain": [
       "HBox(children=(FloatProgress(value=1.0, bar_style='info', description='Validating', layout=Layout(flex='2'), m…"
      ]
     },
     "metadata": {},
     "output_type": "display_data"
    },
    {
     "name": "stdout",
     "output_type": "stream",
     "text": [
      "SHAPES torch.Size([64, 10, 6, 64, 64]) torch.Size([26, 6, 64, 64])\n",
      "SHAPES torch.Size([64, 10, 6, 64, 64]) torch.Size([26, 6, 64, 64])\n",
      "SHAPES torch.Size([64, 10, 6, 64, 64]) torch.Size([26, 6, 64, 64])\n",
      "SHAPES torch.Size([64, 10, 6, 64, 64]) torch.Size([26, 6, 64, 64])\n",
      "SHAPES torch.Size([24, 10, 6, 64, 64]) torch.Size([26, 6, 64, 64])\n",
      "SHAPES torch.Size([64, 10, 6, 64, 64]) torch.Size([26, 6, 64, 64])\n",
      "SHAPES torch.Size([64, 10, 6, 64, 64]) torch.Size([26, 6, 64, 64])\n",
      "SHAPES torch.Size([64, 10, 6, 64, 64]) torch.Size([26, 6, 64, 64])\n",
      "SHAPES torch.Size([64, 10, 6, 64, 64]) torch.Size([26, 6, 64, 64])\n",
      "SHAPES torch.Size([64, 10, 6, 64, 64]) torch.Size([26, 6, 64, 64])\n",
      "SHAPES torch.Size([64, 10, 6, 64, 64]) torch.Size([26, 6, 64, 64])\n",
      "SHAPES torch.Size([64, 10, 6, 64, 64]) torch.Size([26, 6, 64, 64])\n",
      "SHAPES torch.Size([64, 10, 6, 64, 64]) torch.Size([26, 6, 64, 64])\n",
      "SHAPES torch.Size([64, 10, 6, 64, 64]) torch.Size([26, 6, 64, 64])\n",
      "SHAPES torch.Size([64, 10, 6, 64, 64]) torch.Size([26, 6, 64, 64])\n",
      "SHAPES torch.Size([64, 10, 6, 64, 64]) torch.Size([26, 6, 64, 64])\n",
      "SHAPES torch.Size([64, 10, 6, 64, 64]) torch.Size([26, 6, 64, 64])\n",
      "SHAPES torch.Size([64, 10, 6, 64, 64]) torch.Size([26, 6, 64, 64])\n",
      "SHAPES torch.Size([64, 10, 6, 64, 64]) torch.Size([26, 6, 64, 64])\n",
      "SHAPES torch.Size([64, 10, 6, 64, 64]) torch.Size([26, 6, 64, 64])\n",
      "SHAPES torch.Size([64, 10, 6, 64, 64]) torch.Size([26, 6, 64, 64])\n",
      "SHAPES torch.Size([64, 10, 6, 64, 64]) torch.Size([26, 6, 64, 64])\n",
      "SHAPES torch.Size([64, 10, 6, 64, 64]) torch.Size([26, 6, 64, 64])\n",
      "SHAPES torch.Size([64, 10, 6, 64, 64]) torch.Size([26, 6, 64, 64])\n",
      "SHAPES torch.Size([64, 10, 6, 64, 64]) torch.Size([26, 6, 64, 64])\n",
      "SHAPES torch.Size([64, 10, 6, 64, 64]) torch.Size([26, 6, 64, 64])\n",
      "SHAPES torch.Size([64, 10, 6, 64, 64]) torch.Size([26, 6, 64, 64])\n",
      "SHAPES torch.Size([64, 10, 6, 64, 64]) torch.Size([26, 6, 64, 64])\n",
      "SHAPES torch.Size([64, 10, 6, 64, 64]) torch.Size([26, 6, 64, 64])\n",
      "SHAPES torch.Size([64, 10, 6, 64, 64]) torch.Size([26, 6, 64, 64])\n",
      "SHAPES torch.Size([64, 10, 6, 64, 64]) torch.Size([26, 6, 64, 64])\n",
      "SHAPES torch.Size([64, 10, 6, 64, 64]) torch.Size([26, 6, 64, 64])\n",
      "SHAPES torch.Size([64, 10, 6, 64, 64]) torch.Size([26, 6, 64, 64])\n",
      "SHAPES torch.Size([64, 10, 6, 64, 64]) torch.Size([26, 6, 64, 64])\n",
      "SHAPES torch.Size([64, 10, 6, 64, 64]) torch.Size([26, 6, 64, 64])\n",
      "SHAPES torch.Size([64, 10, 6, 64, 64]) torch.Size([26, 6, 64, 64])\n",
      "SHAPES torch.Size([64, 10, 6, 64, 64]) torch.Size([26, 6, 64, 64])\n",
      "SHAPES torch.Size([64, 10, 6, 64, 64]) torch.Size([26, 6, 64, 64])\n",
      "SHAPES torch.Size([64, 10, 6, 64, 64]) torch.Size([26, 6, 64, 64])\n",
      "SHAPES torch.Size([64, 10, 6, 64, 64]) torch.Size([26, 6, 64, 64])\n"
     ]
    },
    {
     "data": {
      "application/vnd.jupyter.widget-view+json": {
       "model_id": "",
       "version_major": 2,
       "version_minor": 0
      },
      "text/plain": [
       "HBox(children=(FloatProgress(value=1.0, bar_style='info', description='Validating', layout=Layout(flex='2'), m…"
      ]
     },
     "metadata": {},
     "output_type": "display_data"
    },
    {
     "name": "stdout",
     "output_type": "stream",
     "text": [
      "SHAPES torch.Size([64, 10, 6, 64, 64]) torch.Size([26, 6, 64, 64])\n",
      "SHAPES torch.Size([64, 10, 6, 64, 64]) torch.Size([26, 6, 64, 64])\n",
      "SHAPES torch.Size([64, 10, 6, 64, 64]) torch.Size([26, 6, 64, 64])\n",
      "SHAPES torch.Size([64, 10, 6, 64, 64]) torch.Size([26, 6, 64, 64])\n",
      "SHAPES torch.Size([24, 10, 6, 64, 64]) torch.Size([26, 6, 64, 64])\n",
      "SHAPES torch.Size([64, 10, 6, 64, 64]) torch.Size([26, 6, 64, 64])\n",
      "SHAPES torch.Size([64, 10, 6, 64, 64]) torch.Size([26, 6, 64, 64])\n",
      "SHAPES torch.Size([64, 10, 6, 64, 64]) torch.Size([26, 6, 64, 64])\n",
      "SHAPES torch.Size([64, 10, 6, 64, 64]) torch.Size([26, 6, 64, 64])\n",
      "SHAPES torch.Size([64, 10, 6, 64, 64]) torch.Size([26, 6, 64, 64])\n",
      "SHAPES torch.Size([64, 10, 6, 64, 64]) torch.Size([26, 6, 64, 64])\n",
      "SHAPES torch.Size([64, 10, 6, 64, 64]) torch.Size([26, 6, 64, 64])\n",
      "SHAPES torch.Size([64, 10, 6, 64, 64]) torch.Size([26, 6, 64, 64])\n",
      "SHAPES torch.Size([64, 10, 6, 64, 64]) torch.Size([26, 6, 64, 64])\n",
      "SHAPES torch.Size([64, 10, 6, 64, 64]) torch.Size([26, 6, 64, 64])\n",
      "SHAPES torch.Size([64, 10, 6, 64, 64]) torch.Size([26, 6, 64, 64])\n",
      "SHAPES torch.Size([64, 10, 6, 64, 64]) torch.Size([26, 6, 64, 64])\n",
      "SHAPES torch.Size([64, 10, 6, 64, 64]) torch.Size([26, 6, 64, 64])\n",
      "SHAPES torch.Size([64, 10, 6, 64, 64]) torch.Size([26, 6, 64, 64])\n",
      "SHAPES torch.Size([64, 10, 6, 64, 64]) torch.Size([26, 6, 64, 64])\n",
      "SHAPES torch.Size([64, 10, 6, 64, 64]) torch.Size([26, 6, 64, 64])\n",
      "SHAPES torch.Size([64, 10, 6, 64, 64]) torch.Size([26, 6, 64, 64])\n",
      "SHAPES torch.Size([64, 10, 6, 64, 64]) torch.Size([26, 6, 64, 64])\n",
      "SHAPES torch.Size([64, 10, 6, 64, 64]) torch.Size([26, 6, 64, 64])\n",
      "SHAPES torch.Size([64, 10, 6, 64, 64]) torch.Size([26, 6, 64, 64])\n",
      "SHAPES torch.Size([64, 10, 6, 64, 64]) torch.Size([26, 6, 64, 64])\n",
      "SHAPES torch.Size([64, 10, 6, 64, 64]) torch.Size([26, 6, 64, 64])\n",
      "SHAPES torch.Size([64, 10, 6, 64, 64]) torch.Size([26, 6, 64, 64])\n",
      "SHAPES torch.Size([64, 10, 6, 64, 64]) torch.Size([26, 6, 64, 64])\n",
      "SHAPES torch.Size([64, 10, 6, 64, 64]) torch.Size([26, 6, 64, 64])\n",
      "SHAPES torch.Size([64, 10, 6, 64, 64]) torch.Size([26, 6, 64, 64])\n",
      "SHAPES torch.Size([64, 10, 6, 64, 64]) torch.Size([26, 6, 64, 64])\n",
      "SHAPES torch.Size([64, 10, 6, 64, 64]) torch.Size([26, 6, 64, 64])\n",
      "SHAPES torch.Size([64, 10, 6, 64, 64]) torch.Size([26, 6, 64, 64])\n",
      "SHAPES torch.Size([64, 10, 6, 64, 64]) torch.Size([26, 6, 64, 64])\n",
      "SHAPES torch.Size([64, 10, 6, 64, 64]) torch.Size([26, 6, 64, 64])\n",
      "SHAPES torch.Size([64, 10, 6, 64, 64]) torch.Size([26, 6, 64, 64])\n",
      "SHAPES torch.Size([64, 10, 6, 64, 64]) torch.Size([26, 6, 64, 64])\n",
      "SHAPES torch.Size([64, 10, 6, 64, 64]) torch.Size([26, 6, 64, 64])\n",
      "SHAPES torch.Size([64, 10, 6, 64, 64]) torch.Size([26, 6, 64, 64])\n"
     ]
    },
    {
     "data": {
      "application/vnd.jupyter.widget-view+json": {
       "model_id": "",
       "version_major": 2,
       "version_minor": 0
      },
      "text/plain": [
       "HBox(children=(FloatProgress(value=1.0, bar_style='info', description='Validating', layout=Layout(flex='2'), m…"
      ]
     },
     "metadata": {},
     "output_type": "display_data"
    },
    {
     "name": "stdout",
     "output_type": "stream",
     "text": [
      "SHAPES torch.Size([64, 10, 6, 64, 64]) torch.Size([26, 6, 64, 64])\n",
      "SHAPES torch.Size([64, 10, 6, 64, 64]) torch.Size([26, 6, 64, 64])\n",
      "SHAPES torch.Size([64, 10, 6, 64, 64]) torch.Size([26, 6, 64, 64])\n",
      "SHAPES torch.Size([64, 10, 6, 64, 64]) torch.Size([26, 6, 64, 64])\n",
      "SHAPES torch.Size([24, 10, 6, 64, 64]) torch.Size([26, 6, 64, 64])\n",
      "SHAPES torch.Size([64, 10, 6, 64, 64]) torch.Size([26, 6, 64, 64])\n",
      "SHAPES torch.Size([64, 10, 6, 64, 64]) torch.Size([26, 6, 64, 64])\n",
      "SHAPES torch.Size([64, 10, 6, 64, 64]) torch.Size([26, 6, 64, 64])\n",
      "SHAPES torch.Size([64, 10, 6, 64, 64]) torch.Size([26, 6, 64, 64])\n",
      "SHAPES torch.Size([64, 10, 6, 64, 64]) torch.Size([26, 6, 64, 64])\n",
      "SHAPES torch.Size([64, 10, 6, 64, 64]) torch.Size([26, 6, 64, 64])\n",
      "SHAPES torch.Size([64, 10, 6, 64, 64]) torch.Size([26, 6, 64, 64])\n",
      "SHAPES torch.Size([64, 10, 6, 64, 64]) torch.Size([26, 6, 64, 64])\n",
      "SHAPES torch.Size([64, 10, 6, 64, 64]) torch.Size([26, 6, 64, 64])\n",
      "SHAPES torch.Size([64, 10, 6, 64, 64]) torch.Size([26, 6, 64, 64])\n",
      "SHAPES torch.Size([64, 10, 6, 64, 64]) torch.Size([26, 6, 64, 64])\n",
      "SHAPES torch.Size([64, 10, 6, 64, 64]) torch.Size([26, 6, 64, 64])\n",
      "SHAPES torch.Size([64, 10, 6, 64, 64]) torch.Size([26, 6, 64, 64])\n",
      "SHAPES torch.Size([64, 10, 6, 64, 64]) torch.Size([26, 6, 64, 64])\n",
      "SHAPES torch.Size([64, 10, 6, 64, 64]) torch.Size([26, 6, 64, 64])\n",
      "SHAPES torch.Size([64, 10, 6, 64, 64]) torch.Size([26, 6, 64, 64])\n",
      "SHAPES torch.Size([64, 10, 6, 64, 64]) torch.Size([26, 6, 64, 64])\n",
      "SHAPES torch.Size([64, 10, 6, 64, 64]) torch.Size([26, 6, 64, 64])\n",
      "SHAPES torch.Size([64, 10, 6, 64, 64]) torch.Size([26, 6, 64, 64])\n",
      "SHAPES torch.Size([64, 10, 6, 64, 64]) torch.Size([26, 6, 64, 64])\n",
      "SHAPES torch.Size([64, 10, 6, 64, 64]) torch.Size([26, 6, 64, 64])\n",
      "SHAPES torch.Size([64, 10, 6, 64, 64]) torch.Size([26, 6, 64, 64])\n",
      "SHAPES torch.Size([64, 10, 6, 64, 64]) torch.Size([26, 6, 64, 64])\n",
      "SHAPES torch.Size([64, 10, 6, 64, 64]) torch.Size([26, 6, 64, 64])\n",
      "SHAPES torch.Size([64, 10, 6, 64, 64]) torch.Size([26, 6, 64, 64])\n",
      "SHAPES torch.Size([64, 10, 6, 64, 64]) torch.Size([26, 6, 64, 64])\n",
      "SHAPES torch.Size([64, 10, 6, 64, 64]) torch.Size([26, 6, 64, 64])\n",
      "SHAPES torch.Size([64, 10, 6, 64, 64]) torch.Size([26, 6, 64, 64])\n",
      "SHAPES torch.Size([64, 10, 6, 64, 64]) torch.Size([26, 6, 64, 64])\n",
      "SHAPES torch.Size([64, 10, 6, 64, 64]) torch.Size([26, 6, 64, 64])\n",
      "SHAPES torch.Size([64, 10, 6, 64, 64]) torch.Size([26, 6, 64, 64])\n",
      "SHAPES torch.Size([64, 10, 6, 64, 64]) torch.Size([26, 6, 64, 64])\n",
      "SHAPES torch.Size([64, 10, 6, 64, 64]) torch.Size([26, 6, 64, 64])\n",
      "SHAPES torch.Size([64, 10, 6, 64, 64]) torch.Size([26, 6, 64, 64])\n",
      "SHAPES torch.Size([64, 10, 6, 64, 64]) torch.Size([26, 6, 64, 64])\n"
     ]
    },
    {
     "data": {
      "application/vnd.jupyter.widget-view+json": {
       "model_id": "",
       "version_major": 2,
       "version_minor": 0
      },
      "text/plain": [
       "HBox(children=(FloatProgress(value=1.0, bar_style='info', description='Validating', layout=Layout(flex='2'), m…"
      ]
     },
     "metadata": {},
     "output_type": "display_data"
    },
    {
     "name": "stdout",
     "output_type": "stream",
     "text": [
      "SHAPES torch.Size([64, 10, 6, 64, 64]) torch.Size([26, 6, 64, 64])\n",
      "SHAPES torch.Size([64, 10, 6, 64, 64]) torch.Size([26, 6, 64, 64])\n",
      "SHAPES torch.Size([64, 10, 6, 64, 64]) torch.Size([26, 6, 64, 64])\n",
      "SHAPES torch.Size([64, 10, 6, 64, 64]) torch.Size([26, 6, 64, 64])\n",
      "SHAPES torch.Size([24, 10, 6, 64, 64]) torch.Size([26, 6, 64, 64])\n",
      "SHAPES torch.Size([64, 10, 6, 64, 64]) torch.Size([26, 6, 64, 64])\n",
      "SHAPES torch.Size([64, 10, 6, 64, 64]) torch.Size([26, 6, 64, 64])\n",
      "SHAPES torch.Size([64, 10, 6, 64, 64]) torch.Size([26, 6, 64, 64])\n",
      "SHAPES torch.Size([64, 10, 6, 64, 64]) torch.Size([26, 6, 64, 64])\n",
      "SHAPES torch.Size([64, 10, 6, 64, 64]) torch.Size([26, 6, 64, 64])\n",
      "SHAPES torch.Size([64, 10, 6, 64, 64]) torch.Size([26, 6, 64, 64])\n",
      "SHAPES torch.Size([64, 10, 6, 64, 64]) torch.Size([26, 6, 64, 64])\n",
      "SHAPES torch.Size([64, 10, 6, 64, 64]) torch.Size([26, 6, 64, 64])\n",
      "SHAPES torch.Size([64, 10, 6, 64, 64]) torch.Size([26, 6, 64, 64])\n",
      "SHAPES torch.Size([64, 10, 6, 64, 64]) torch.Size([26, 6, 64, 64])\n",
      "SHAPES torch.Size([64, 10, 6, 64, 64]) torch.Size([26, 6, 64, 64])\n",
      "SHAPES torch.Size([64, 10, 6, 64, 64]) torch.Size([26, 6, 64, 64])\n",
      "SHAPES torch.Size([64, 10, 6, 64, 64]) torch.Size([26, 6, 64, 64])\n",
      "SHAPES torch.Size([64, 10, 6, 64, 64]) torch.Size([26, 6, 64, 64])\n",
      "SHAPES torch.Size([64, 10, 6, 64, 64]) torch.Size([26, 6, 64, 64])\n",
      "SHAPES torch.Size([64, 10, 6, 64, 64]) torch.Size([26, 6, 64, 64])\n",
      "SHAPES torch.Size([64, 10, 6, 64, 64]) torch.Size([26, 6, 64, 64])\n",
      "SHAPES torch.Size([64, 10, 6, 64, 64]) torch.Size([26, 6, 64, 64])\n",
      "SHAPES torch.Size([64, 10, 6, 64, 64]) torch.Size([26, 6, 64, 64])\n",
      "SHAPES torch.Size([64, 10, 6, 64, 64]) torch.Size([26, 6, 64, 64])\n",
      "SHAPES torch.Size([64, 10, 6, 64, 64]) torch.Size([26, 6, 64, 64])\n",
      "SHAPES torch.Size([64, 10, 6, 64, 64]) torch.Size([26, 6, 64, 64])\n",
      "SHAPES torch.Size([64, 10, 6, 64, 64]) torch.Size([26, 6, 64, 64])\n",
      "SHAPES torch.Size([64, 10, 6, 64, 64]) torch.Size([26, 6, 64, 64])\n",
      "SHAPES torch.Size([64, 10, 6, 64, 64]) torch.Size([26, 6, 64, 64])\n",
      "SHAPES torch.Size([64, 10, 6, 64, 64]) torch.Size([26, 6, 64, 64])\n",
      "SHAPES torch.Size([64, 10, 6, 64, 64]) torch.Size([26, 6, 64, 64])\n",
      "SHAPES torch.Size([64, 10, 6, 64, 64]) torch.Size([26, 6, 64, 64])\n",
      "SHAPES torch.Size([64, 10, 6, 64, 64]) torch.Size([26, 6, 64, 64])\n",
      "SHAPES torch.Size([64, 10, 6, 64, 64]) torch.Size([26, 6, 64, 64])\n",
      "SHAPES torch.Size([64, 10, 6, 64, 64]) torch.Size([26, 6, 64, 64])\n",
      "SHAPES torch.Size([64, 10, 6, 64, 64]) torch.Size([26, 6, 64, 64])\n",
      "SHAPES torch.Size([64, 10, 6, 64, 64]) torch.Size([26, 6, 64, 64])\n",
      "SHAPES torch.Size([64, 10, 6, 64, 64]) torch.Size([26, 6, 64, 64])\n",
      "SHAPES torch.Size([64, 10, 6, 64, 64]) torch.Size([26, 6, 64, 64])\n"
     ]
    },
    {
     "data": {
      "application/vnd.jupyter.widget-view+json": {
       "model_id": "",
       "version_major": 2,
       "version_minor": 0
      },
      "text/plain": [
       "HBox(children=(FloatProgress(value=1.0, bar_style='info', description='Validating', layout=Layout(flex='2'), m…"
      ]
     },
     "metadata": {},
     "output_type": "display_data"
    },
    {
     "name": "stdout",
     "output_type": "stream",
     "text": [
      "SHAPES torch.Size([64, 10, 6, 64, 64]) torch.Size([26, 6, 64, 64])\n",
      "SHAPES torch.Size([64, 10, 6, 64, 64]) torch.Size([26, 6, 64, 64])\n",
      "SHAPES torch.Size([64, 10, 6, 64, 64]) torch.Size([26, 6, 64, 64])\n",
      "SHAPES torch.Size([64, 10, 6, 64, 64]) torch.Size([26, 6, 64, 64])\n",
      "SHAPES torch.Size([24, 10, 6, 64, 64]) torch.Size([26, 6, 64, 64])\n",
      "SHAPES torch.Size([64, 10, 6, 64, 64]) torch.Size([26, 6, 64, 64])\n",
      "SHAPES torch.Size([64, 10, 6, 64, 64]) torch.Size([26, 6, 64, 64])\n",
      "SHAPES torch.Size([64, 10, 6, 64, 64]) torch.Size([26, 6, 64, 64])\n",
      "SHAPES torch.Size([64, 10, 6, 64, 64]) torch.Size([26, 6, 64, 64])\n",
      "SHAPES torch.Size([64, 10, 6, 64, 64]) torch.Size([26, 6, 64, 64])\n",
      "SHAPES torch.Size([64, 10, 6, 64, 64]) torch.Size([26, 6, 64, 64])\n",
      "SHAPES torch.Size([64, 10, 6, 64, 64]) torch.Size([26, 6, 64, 64])\n",
      "SHAPES torch.Size([64, 10, 6, 64, 64]) torch.Size([26, 6, 64, 64])\n",
      "SHAPES torch.Size([64, 10, 6, 64, 64]) torch.Size([26, 6, 64, 64])\n",
      "SHAPES torch.Size([64, 10, 6, 64, 64]) torch.Size([26, 6, 64, 64])\n",
      "SHAPES torch.Size([64, 10, 6, 64, 64]) torch.Size([26, 6, 64, 64])\n",
      "SHAPES torch.Size([64, 10, 6, 64, 64]) torch.Size([26, 6, 64, 64])\n",
      "SHAPES torch.Size([64, 10, 6, 64, 64]) torch.Size([26, 6, 64, 64])\n",
      "SHAPES torch.Size([64, 10, 6, 64, 64]) torch.Size([26, 6, 64, 64])\n",
      "SHAPES torch.Size([64, 10, 6, 64, 64]) torch.Size([26, 6, 64, 64])\n",
      "SHAPES torch.Size([64, 10, 6, 64, 64]) torch.Size([26, 6, 64, 64])\n",
      "SHAPES torch.Size([64, 10, 6, 64, 64]) torch.Size([26, 6, 64, 64])\n",
      "SHAPES torch.Size([64, 10, 6, 64, 64]) torch.Size([26, 6, 64, 64])\n",
      "SHAPES torch.Size([64, 10, 6, 64, 64]) torch.Size([26, 6, 64, 64])\n",
      "SHAPES torch.Size([64, 10, 6, 64, 64]) torch.Size([26, 6, 64, 64])\n",
      "SHAPES torch.Size([64, 10, 6, 64, 64]) torch.Size([26, 6, 64, 64])\n",
      "SHAPES torch.Size([64, 10, 6, 64, 64]) torch.Size([26, 6, 64, 64])\n",
      "SHAPES torch.Size([64, 10, 6, 64, 64]) torch.Size([26, 6, 64, 64])\n",
      "SHAPES torch.Size([64, 10, 6, 64, 64]) torch.Size([26, 6, 64, 64])\n",
      "SHAPES torch.Size([64, 10, 6, 64, 64]) torch.Size([26, 6, 64, 64])\n",
      "SHAPES torch.Size([64, 10, 6, 64, 64]) torch.Size([26, 6, 64, 64])\n",
      "SHAPES torch.Size([64, 10, 6, 64, 64]) torch.Size([26, 6, 64, 64])\n",
      "SHAPES torch.Size([64, 10, 6, 64, 64]) torch.Size([26, 6, 64, 64])\n",
      "SHAPES torch.Size([64, 10, 6, 64, 64]) torch.Size([26, 6, 64, 64])\n",
      "SHAPES torch.Size([64, 10, 6, 64, 64]) torch.Size([26, 6, 64, 64])\n",
      "SHAPES torch.Size([64, 10, 6, 64, 64]) torch.Size([26, 6, 64, 64])\n",
      "SHAPES torch.Size([64, 10, 6, 64, 64]) torch.Size([26, 6, 64, 64])\n",
      "SHAPES torch.Size([64, 10, 6, 64, 64]) torch.Size([26, 6, 64, 64])\n",
      "SHAPES torch.Size([64, 10, 6, 64, 64]) torch.Size([26, 6, 64, 64])\n",
      "SHAPES torch.Size([64, 10, 6, 64, 64]) torch.Size([26, 6, 64, 64])\n"
     ]
    },
    {
     "data": {
      "application/vnd.jupyter.widget-view+json": {
       "model_id": "",
       "version_major": 2,
       "version_minor": 0
      },
      "text/plain": [
       "HBox(children=(FloatProgress(value=1.0, bar_style='info', description='Validating', layout=Layout(flex='2'), m…"
      ]
     },
     "metadata": {},
     "output_type": "display_data"
    },
    {
     "name": "stdout",
     "output_type": "stream",
     "text": [
      "SHAPES torch.Size([64, 10, 6, 64, 64]) torch.Size([26, 6, 64, 64])\n",
      "SHAPES torch.Size([64, 10, 6, 64, 64]) torch.Size([26, 6, 64, 64])\n",
      "SHAPES torch.Size([64, 10, 6, 64, 64]) torch.Size([26, 6, 64, 64])\n",
      "SHAPES torch.Size([64, 10, 6, 64, 64]) torch.Size([26, 6, 64, 64])\n",
      "SHAPES torch.Size([24, 10, 6, 64, 64]) torch.Size([26, 6, 64, 64])\n",
      "SHAPES torch.Size([64, 10, 6, 64, 64]) torch.Size([26, 6, 64, 64])\n",
      "SHAPES torch.Size([64, 10, 6, 64, 64]) torch.Size([26, 6, 64, 64])\n",
      "SHAPES torch.Size([64, 10, 6, 64, 64]) torch.Size([26, 6, 64, 64])\n",
      "SHAPES torch.Size([64, 10, 6, 64, 64]) torch.Size([26, 6, 64, 64])\n",
      "SHAPES torch.Size([64, 10, 6, 64, 64]) torch.Size([26, 6, 64, 64])\n",
      "SHAPES torch.Size([64, 10, 6, 64, 64]) torch.Size([26, 6, 64, 64])\n",
      "SHAPES torch.Size([64, 10, 6, 64, 64]) torch.Size([26, 6, 64, 64])\n",
      "SHAPES torch.Size([64, 10, 6, 64, 64]) torch.Size([26, 6, 64, 64])\n",
      "SHAPES torch.Size([64, 10, 6, 64, 64]) torch.Size([26, 6, 64, 64])\n",
      "SHAPES torch.Size([64, 10, 6, 64, 64]) torch.Size([26, 6, 64, 64])\n",
      "SHAPES torch.Size([64, 10, 6, 64, 64]) torch.Size([26, 6, 64, 64])\n",
      "SHAPES torch.Size([64, 10, 6, 64, 64]) torch.Size([26, 6, 64, 64])\n",
      "SHAPES torch.Size([64, 10, 6, 64, 64]) torch.Size([26, 6, 64, 64])\n",
      "SHAPES torch.Size([64, 10, 6, 64, 64]) torch.Size([26, 6, 64, 64])\n",
      "SHAPES torch.Size([64, 10, 6, 64, 64]) torch.Size([26, 6, 64, 64])\n",
      "SHAPES torch.Size([64, 10, 6, 64, 64]) torch.Size([26, 6, 64, 64])\n",
      "SHAPES torch.Size([64, 10, 6, 64, 64]) torch.Size([26, 6, 64, 64])\n",
      "SHAPES torch.Size([64, 10, 6, 64, 64]) torch.Size([26, 6, 64, 64])\n",
      "SHAPES torch.Size([64, 10, 6, 64, 64]) torch.Size([26, 6, 64, 64])\n",
      "SHAPES torch.Size([64, 10, 6, 64, 64]) torch.Size([26, 6, 64, 64])\n",
      "SHAPES torch.Size([64, 10, 6, 64, 64]) torch.Size([26, 6, 64, 64])\n",
      "SHAPES torch.Size([64, 10, 6, 64, 64]) torch.Size([26, 6, 64, 64])\n",
      "SHAPES torch.Size([64, 10, 6, 64, 64]) torch.Size([26, 6, 64, 64])\n",
      "SHAPES torch.Size([64, 10, 6, 64, 64]) torch.Size([26, 6, 64, 64])\n",
      "SHAPES torch.Size([64, 10, 6, 64, 64]) torch.Size([26, 6, 64, 64])\n",
      "SHAPES torch.Size([64, 10, 6, 64, 64]) torch.Size([26, 6, 64, 64])\n",
      "SHAPES torch.Size([64, 10, 6, 64, 64]) torch.Size([26, 6, 64, 64])\n",
      "SHAPES torch.Size([64, 10, 6, 64, 64]) torch.Size([26, 6, 64, 64])\n",
      "SHAPES torch.Size([64, 10, 6, 64, 64]) torch.Size([26, 6, 64, 64])\n",
      "SHAPES torch.Size([64, 10, 6, 64, 64]) torch.Size([26, 6, 64, 64])\n",
      "SHAPES torch.Size([64, 10, 6, 64, 64]) torch.Size([26, 6, 64, 64])\n",
      "SHAPES torch.Size([64, 10, 6, 64, 64]) torch.Size([26, 6, 64, 64])\n",
      "SHAPES torch.Size([64, 10, 6, 64, 64]) torch.Size([26, 6, 64, 64])\n",
      "SHAPES torch.Size([64, 10, 6, 64, 64]) torch.Size([26, 6, 64, 64])\n",
      "SHAPES torch.Size([64, 10, 6, 64, 64]) torch.Size([26, 6, 64, 64])\n"
     ]
    },
    {
     "data": {
      "application/vnd.jupyter.widget-view+json": {
       "model_id": "",
       "version_major": 2,
       "version_minor": 0
      },
      "text/plain": [
       "HBox(children=(FloatProgress(value=1.0, bar_style='info', description='Validating', layout=Layout(flex='2'), m…"
      ]
     },
     "metadata": {},
     "output_type": "display_data"
    },
    {
     "name": "stdout",
     "output_type": "stream",
     "text": [
      "SHAPES torch.Size([64, 10, 6, 64, 64]) torch.Size([26, 6, 64, 64])\n",
      "SHAPES torch.Size([64, 10, 6, 64, 64]) torch.Size([26, 6, 64, 64])\n",
      "SHAPES torch.Size([64, 10, 6, 64, 64]) torch.Size([26, 6, 64, 64])\n",
      "SHAPES torch.Size([64, 10, 6, 64, 64]) torch.Size([26, 6, 64, 64])\n",
      "SHAPES torch.Size([24, 10, 6, 64, 64]) torch.Size([26, 6, 64, 64])\n",
      "SHAPES torch.Size([64, 10, 6, 64, 64]) torch.Size([26, 6, 64, 64])\n",
      "SHAPES torch.Size([64, 10, 6, 64, 64]) torch.Size([26, 6, 64, 64])\n",
      "SHAPES torch.Size([64, 10, 6, 64, 64]) torch.Size([26, 6, 64, 64])\n",
      "SHAPES torch.Size([64, 10, 6, 64, 64]) torch.Size([26, 6, 64, 64])\n",
      "SHAPES torch.Size([64, 10, 6, 64, 64]) torch.Size([26, 6, 64, 64])\n",
      "SHAPES torch.Size([64, 10, 6, 64, 64]) torch.Size([26, 6, 64, 64])\n",
      "SHAPES torch.Size([64, 10, 6, 64, 64]) torch.Size([26, 6, 64, 64])\n",
      "SHAPES torch.Size([64, 10, 6, 64, 64]) torch.Size([26, 6, 64, 64])\n",
      "SHAPES torch.Size([64, 10, 6, 64, 64]) torch.Size([26, 6, 64, 64])\n",
      "SHAPES torch.Size([64, 10, 6, 64, 64]) torch.Size([26, 6, 64, 64])\n",
      "SHAPES torch.Size([64, 10, 6, 64, 64]) torch.Size([26, 6, 64, 64])\n",
      "SHAPES torch.Size([64, 10, 6, 64, 64]) torch.Size([26, 6, 64, 64])\n",
      "SHAPES torch.Size([64, 10, 6, 64, 64]) torch.Size([26, 6, 64, 64])\n",
      "SHAPES torch.Size([64, 10, 6, 64, 64]) torch.Size([26, 6, 64, 64])\n",
      "SHAPES torch.Size([64, 10, 6, 64, 64]) torch.Size([26, 6, 64, 64])\n",
      "SHAPES torch.Size([64, 10, 6, 64, 64]) torch.Size([26, 6, 64, 64])\n",
      "SHAPES torch.Size([64, 10, 6, 64, 64]) torch.Size([26, 6, 64, 64])\n",
      "SHAPES torch.Size([64, 10, 6, 64, 64]) torch.Size([26, 6, 64, 64])\n",
      "SHAPES torch.Size([64, 10, 6, 64, 64]) torch.Size([26, 6, 64, 64])\n",
      "SHAPES torch.Size([64, 10, 6, 64, 64]) torch.Size([26, 6, 64, 64])\n",
      "SHAPES torch.Size([64, 10, 6, 64, 64]) torch.Size([26, 6, 64, 64])\n",
      "SHAPES torch.Size([64, 10, 6, 64, 64]) torch.Size([26, 6, 64, 64])\n",
      "SHAPES torch.Size([64, 10, 6, 64, 64]) torch.Size([26, 6, 64, 64])\n",
      "SHAPES torch.Size([64, 10, 6, 64, 64]) torch.Size([26, 6, 64, 64])\n",
      "SHAPES torch.Size([64, 10, 6, 64, 64]) torch.Size([26, 6, 64, 64])\n",
      "SHAPES torch.Size([64, 10, 6, 64, 64]) torch.Size([26, 6, 64, 64])\n",
      "SHAPES torch.Size([64, 10, 6, 64, 64]) torch.Size([26, 6, 64, 64])\n",
      "SHAPES torch.Size([64, 10, 6, 64, 64]) torch.Size([26, 6, 64, 64])\n",
      "SHAPES torch.Size([64, 10, 6, 64, 64]) torch.Size([26, 6, 64, 64])\n",
      "SHAPES torch.Size([64, 10, 6, 64, 64]) torch.Size([26, 6, 64, 64])\n",
      "SHAPES torch.Size([64, 10, 6, 64, 64]) torch.Size([26, 6, 64, 64])\n",
      "SHAPES torch.Size([64, 10, 6, 64, 64]) torch.Size([26, 6, 64, 64])\n",
      "SHAPES torch.Size([64, 10, 6, 64, 64]) torch.Size([26, 6, 64, 64])\n",
      "SHAPES torch.Size([64, 10, 6, 64, 64]) torch.Size([26, 6, 64, 64])\n",
      "SHAPES torch.Size([64, 10, 6, 64, 64]) torch.Size([26, 6, 64, 64])\n"
     ]
    },
    {
     "data": {
      "application/vnd.jupyter.widget-view+json": {
       "model_id": "",
       "version_major": 2,
       "version_minor": 0
      },
      "text/plain": [
       "HBox(children=(FloatProgress(value=1.0, bar_style='info', description='Validating', layout=Layout(flex='2'), m…"
      ]
     },
     "metadata": {},
     "output_type": "display_data"
    },
    {
     "name": "stdout",
     "output_type": "stream",
     "text": [
      "SHAPES torch.Size([64, 10, 6, 64, 64]) torch.Size([26, 6, 64, 64])\n",
      "SHAPES torch.Size([64, 10, 6, 64, 64]) torch.Size([26, 6, 64, 64])\n",
      "SHAPES torch.Size([64, 10, 6, 64, 64]) torch.Size([26, 6, 64, 64])\n",
      "SHAPES torch.Size([64, 10, 6, 64, 64]) torch.Size([26, 6, 64, 64])\n",
      "SHAPES torch.Size([24, 10, 6, 64, 64]) torch.Size([26, 6, 64, 64])\n",
      "SHAPES torch.Size([64, 10, 6, 64, 64]) torch.Size([26, 6, 64, 64])\n",
      "SHAPES torch.Size([64, 10, 6, 64, 64]) torch.Size([26, 6, 64, 64])\n",
      "SHAPES torch.Size([64, 10, 6, 64, 64]) torch.Size([26, 6, 64, 64])\n",
      "SHAPES torch.Size([64, 10, 6, 64, 64]) torch.Size([26, 6, 64, 64])\n",
      "SHAPES torch.Size([64, 10, 6, 64, 64]) torch.Size([26, 6, 64, 64])\n",
      "SHAPES torch.Size([64, 10, 6, 64, 64]) torch.Size([26, 6, 64, 64])\n",
      "SHAPES torch.Size([64, 10, 6, 64, 64]) torch.Size([26, 6, 64, 64])\n",
      "SHAPES torch.Size([64, 10, 6, 64, 64]) torch.Size([26, 6, 64, 64])\n",
      "SHAPES torch.Size([64, 10, 6, 64, 64]) torch.Size([26, 6, 64, 64])\n",
      "SHAPES torch.Size([64, 10, 6, 64, 64]) torch.Size([26, 6, 64, 64])\n",
      "SHAPES torch.Size([64, 10, 6, 64, 64]) torch.Size([26, 6, 64, 64])\n",
      "SHAPES torch.Size([64, 10, 6, 64, 64]) torch.Size([26, 6, 64, 64])\n",
      "SHAPES torch.Size([64, 10, 6, 64, 64]) torch.Size([26, 6, 64, 64])\n",
      "SHAPES torch.Size([64, 10, 6, 64, 64]) torch.Size([26, 6, 64, 64])\n",
      "SHAPES torch.Size([64, 10, 6, 64, 64]) torch.Size([26, 6, 64, 64])\n",
      "SHAPES torch.Size([64, 10, 6, 64, 64]) torch.Size([26, 6, 64, 64])\n",
      "SHAPES torch.Size([64, 10, 6, 64, 64]) torch.Size([26, 6, 64, 64])\n",
      "SHAPES torch.Size([64, 10, 6, 64, 64]) torch.Size([26, 6, 64, 64])\n",
      "SHAPES torch.Size([64, 10, 6, 64, 64]) torch.Size([26, 6, 64, 64])\n",
      "SHAPES torch.Size([64, 10, 6, 64, 64]) torch.Size([26, 6, 64, 64])\n",
      "SHAPES torch.Size([64, 10, 6, 64, 64]) torch.Size([26, 6, 64, 64])\n",
      "SHAPES torch.Size([64, 10, 6, 64, 64]) torch.Size([26, 6, 64, 64])\n",
      "SHAPES torch.Size([64, 10, 6, 64, 64]) torch.Size([26, 6, 64, 64])\n",
      "SHAPES torch.Size([64, 10, 6, 64, 64]) torch.Size([26, 6, 64, 64])\n",
      "SHAPES torch.Size([64, 10, 6, 64, 64]) torch.Size([26, 6, 64, 64])\n",
      "SHAPES torch.Size([64, 10, 6, 64, 64]) torch.Size([26, 6, 64, 64])\n",
      "SHAPES torch.Size([64, 10, 6, 64, 64]) torch.Size([26, 6, 64, 64])\n",
      "SHAPES torch.Size([64, 10, 6, 64, 64]) torch.Size([26, 6, 64, 64])\n",
      "SHAPES torch.Size([64, 10, 6, 64, 64]) torch.Size([26, 6, 64, 64])\n",
      "SHAPES torch.Size([64, 10, 6, 64, 64]) torch.Size([26, 6, 64, 64])\n",
      "SHAPES torch.Size([64, 10, 6, 64, 64]) torch.Size([26, 6, 64, 64])\n",
      "SHAPES torch.Size([64, 10, 6, 64, 64]) torch.Size([26, 6, 64, 64])\n",
      "SHAPES torch.Size([64, 10, 6, 64, 64]) torch.Size([26, 6, 64, 64])\n",
      "SHAPES torch.Size([64, 10, 6, 64, 64]) torch.Size([26, 6, 64, 64])\n",
      "SHAPES torch.Size([64, 10, 6, 64, 64]) torch.Size([26, 6, 64, 64])\n"
     ]
    },
    {
     "data": {
      "application/vnd.jupyter.widget-view+json": {
       "model_id": "",
       "version_major": 2,
       "version_minor": 0
      },
      "text/plain": [
       "HBox(children=(FloatProgress(value=1.0, bar_style='info', description='Validating', layout=Layout(flex='2'), m…"
      ]
     },
     "metadata": {},
     "output_type": "display_data"
    },
    {
     "name": "stdout",
     "output_type": "stream",
     "text": [
      "SHAPES torch.Size([64, 10, 6, 64, 64]) torch.Size([26, 6, 64, 64])\n",
      "SHAPES torch.Size([64, 10, 6, 64, 64]) torch.Size([26, 6, 64, 64])\n",
      "SHAPES torch.Size([64, 10, 6, 64, 64]) torch.Size([26, 6, 64, 64])\n",
      "SHAPES torch.Size([64, 10, 6, 64, 64]) torch.Size([26, 6, 64, 64])\n",
      "SHAPES torch.Size([24, 10, 6, 64, 64]) torch.Size([26, 6, 64, 64])\n",
      "SHAPES torch.Size([64, 10, 6, 64, 64]) torch.Size([26, 6, 64, 64])\n",
      "SHAPES torch.Size([64, 10, 6, 64, 64]) torch.Size([26, 6, 64, 64])\n",
      "SHAPES torch.Size([64, 10, 6, 64, 64]) torch.Size([26, 6, 64, 64])\n",
      "SHAPES torch.Size([64, 10, 6, 64, 64]) torch.Size([26, 6, 64, 64])\n",
      "SHAPES torch.Size([64, 10, 6, 64, 64]) torch.Size([26, 6, 64, 64])\n",
      "SHAPES torch.Size([64, 10, 6, 64, 64]) torch.Size([26, 6, 64, 64])\n",
      "SHAPES torch.Size([64, 10, 6, 64, 64]) torch.Size([26, 6, 64, 64])\n",
      "SHAPES torch.Size([64, 10, 6, 64, 64]) torch.Size([26, 6, 64, 64])\n",
      "SHAPES torch.Size([64, 10, 6, 64, 64]) torch.Size([26, 6, 64, 64])\n",
      "SHAPES torch.Size([64, 10, 6, 64, 64]) torch.Size([26, 6, 64, 64])\n",
      "SHAPES torch.Size([64, 10, 6, 64, 64]) torch.Size([26, 6, 64, 64])\n",
      "SHAPES torch.Size([64, 10, 6, 64, 64]) torch.Size([26, 6, 64, 64])\n",
      "SHAPES torch.Size([64, 10, 6, 64, 64]) torch.Size([26, 6, 64, 64])\n",
      "SHAPES torch.Size([64, 10, 6, 64, 64]) torch.Size([26, 6, 64, 64])\n",
      "SHAPES torch.Size([64, 10, 6, 64, 64]) torch.Size([26, 6, 64, 64])\n",
      "SHAPES torch.Size([64, 10, 6, 64, 64]) torch.Size([26, 6, 64, 64])\n",
      "SHAPES torch.Size([64, 10, 6, 64, 64]) torch.Size([26, 6, 64, 64])\n",
      "SHAPES torch.Size([64, 10, 6, 64, 64]) torch.Size([26, 6, 64, 64])\n",
      "SHAPES torch.Size([64, 10, 6, 64, 64]) torch.Size([26, 6, 64, 64])\n",
      "SHAPES torch.Size([64, 10, 6, 64, 64]) torch.Size([26, 6, 64, 64])\n",
      "SHAPES torch.Size([64, 10, 6, 64, 64]) torch.Size([26, 6, 64, 64])\n",
      "SHAPES torch.Size([64, 10, 6, 64, 64]) torch.Size([26, 6, 64, 64])\n",
      "SHAPES torch.Size([64, 10, 6, 64, 64]) torch.Size([26, 6, 64, 64])\n",
      "SHAPES torch.Size([64, 10, 6, 64, 64]) torch.Size([26, 6, 64, 64])\n",
      "SHAPES torch.Size([64, 10, 6, 64, 64]) torch.Size([26, 6, 64, 64])\n",
      "SHAPES torch.Size([64, 10, 6, 64, 64]) torch.Size([26, 6, 64, 64])\n",
      "SHAPES torch.Size([64, 10, 6, 64, 64]) torch.Size([26, 6, 64, 64])\n",
      "SHAPES torch.Size([64, 10, 6, 64, 64]) torch.Size([26, 6, 64, 64])\n",
      "SHAPES torch.Size([64, 10, 6, 64, 64]) torch.Size([26, 6, 64, 64])\n",
      "SHAPES torch.Size([64, 10, 6, 64, 64]) torch.Size([26, 6, 64, 64])\n",
      "SHAPES torch.Size([64, 10, 6, 64, 64]) torch.Size([26, 6, 64, 64])\n",
      "SHAPES torch.Size([64, 10, 6, 64, 64]) torch.Size([26, 6, 64, 64])\n",
      "SHAPES torch.Size([64, 10, 6, 64, 64]) torch.Size([26, 6, 64, 64])\n",
      "SHAPES torch.Size([64, 10, 6, 64, 64]) torch.Size([26, 6, 64, 64])\n",
      "SHAPES torch.Size([64, 10, 6, 64, 64]) torch.Size([26, 6, 64, 64])\n"
     ]
    },
    {
     "data": {
      "application/vnd.jupyter.widget-view+json": {
       "model_id": "",
       "version_major": 2,
       "version_minor": 0
      },
      "text/plain": [
       "HBox(children=(FloatProgress(value=1.0, bar_style='info', description='Validating', layout=Layout(flex='2'), m…"
      ]
     },
     "metadata": {},
     "output_type": "display_data"
    },
    {
     "name": "stdout",
     "output_type": "stream",
     "text": [
      "SHAPES torch.Size([64, 10, 6, 64, 64]) torch.Size([26, 6, 64, 64])\n",
      "SHAPES torch.Size([64, 10, 6, 64, 64]) torch.Size([26, 6, 64, 64])\n",
      "SHAPES torch.Size([64, 10, 6, 64, 64]) torch.Size([26, 6, 64, 64])\n",
      "SHAPES torch.Size([64, 10, 6, 64, 64]) torch.Size([26, 6, 64, 64])\n",
      "SHAPES torch.Size([24, 10, 6, 64, 64]) torch.Size([26, 6, 64, 64])\n",
      "SHAPES torch.Size([64, 10, 6, 64, 64]) torch.Size([26, 6, 64, 64])\n",
      "SHAPES torch.Size([64, 10, 6, 64, 64]) torch.Size([26, 6, 64, 64])\n",
      "SHAPES torch.Size([64, 10, 6, 64, 64]) torch.Size([26, 6, 64, 64])\n",
      "SHAPES torch.Size([64, 10, 6, 64, 64]) torch.Size([26, 6, 64, 64])\n",
      "SHAPES torch.Size([64, 10, 6, 64, 64]) torch.Size([26, 6, 64, 64])\n",
      "SHAPES torch.Size([64, 10, 6, 64, 64]) torch.Size([26, 6, 64, 64])\n",
      "SHAPES torch.Size([64, 10, 6, 64, 64]) torch.Size([26, 6, 64, 64])\n",
      "SHAPES torch.Size([64, 10, 6, 64, 64]) torch.Size([26, 6, 64, 64])\n",
      "SHAPES torch.Size([64, 10, 6, 64, 64]) torch.Size([26, 6, 64, 64])\n",
      "SHAPES torch.Size([64, 10, 6, 64, 64]) torch.Size([26, 6, 64, 64])\n",
      "SHAPES torch.Size([64, 10, 6, 64, 64]) torch.Size([26, 6, 64, 64])\n",
      "SHAPES torch.Size([64, 10, 6, 64, 64]) torch.Size([26, 6, 64, 64])\n",
      "SHAPES torch.Size([64, 10, 6, 64, 64]) torch.Size([26, 6, 64, 64])\n",
      "SHAPES torch.Size([64, 10, 6, 64, 64]) torch.Size([26, 6, 64, 64])\n",
      "SHAPES torch.Size([64, 10, 6, 64, 64]) torch.Size([26, 6, 64, 64])\n",
      "SHAPES torch.Size([64, 10, 6, 64, 64]) torch.Size([26, 6, 64, 64])\n",
      "SHAPES torch.Size([64, 10, 6, 64, 64]) torch.Size([26, 6, 64, 64])\n",
      "SHAPES torch.Size([64, 10, 6, 64, 64]) torch.Size([26, 6, 64, 64])\n",
      "SHAPES torch.Size([64, 10, 6, 64, 64]) torch.Size([26, 6, 64, 64])\n",
      "SHAPES torch.Size([64, 10, 6, 64, 64]) torch.Size([26, 6, 64, 64])\n",
      "SHAPES torch.Size([64, 10, 6, 64, 64]) torch.Size([26, 6, 64, 64])\n",
      "SHAPES torch.Size([64, 10, 6, 64, 64]) torch.Size([26, 6, 64, 64])\n",
      "SHAPES torch.Size([64, 10, 6, 64, 64]) torch.Size([26, 6, 64, 64])\n",
      "SHAPES torch.Size([64, 10, 6, 64, 64]) torch.Size([26, 6, 64, 64])\n",
      "SHAPES torch.Size([64, 10, 6, 64, 64]) torch.Size([26, 6, 64, 64])\n",
      "SHAPES torch.Size([64, 10, 6, 64, 64]) torch.Size([26, 6, 64, 64])\n",
      "SHAPES torch.Size([64, 10, 6, 64, 64]) torch.Size([26, 6, 64, 64])\n",
      "SHAPES torch.Size([64, 10, 6, 64, 64]) torch.Size([26, 6, 64, 64])\n",
      "SHAPES torch.Size([64, 10, 6, 64, 64]) torch.Size([26, 6, 64, 64])\n",
      "SHAPES torch.Size([64, 10, 6, 64, 64]) torch.Size([26, 6, 64, 64])\n",
      "SHAPES torch.Size([64, 10, 6, 64, 64]) torch.Size([26, 6, 64, 64])\n",
      "SHAPES torch.Size([64, 10, 6, 64, 64]) torch.Size([26, 6, 64, 64])\n",
      "SHAPES torch.Size([64, 10, 6, 64, 64]) torch.Size([26, 6, 64, 64])\n",
      "SHAPES torch.Size([64, 10, 6, 64, 64]) torch.Size([26, 6, 64, 64])\n",
      "SHAPES torch.Size([64, 10, 6, 64, 64]) torch.Size([26, 6, 64, 64])\n"
     ]
    },
    {
     "data": {
      "application/vnd.jupyter.widget-view+json": {
       "model_id": "",
       "version_major": 2,
       "version_minor": 0
      },
      "text/plain": [
       "HBox(children=(FloatProgress(value=1.0, bar_style='info', description='Validating', layout=Layout(flex='2'), m…"
      ]
     },
     "metadata": {},
     "output_type": "display_data"
    },
    {
     "name": "stdout",
     "output_type": "stream",
     "text": [
      "SHAPES torch.Size([64, 10, 6, 64, 64]) torch.Size([26, 6, 64, 64])\n",
      "SHAPES torch.Size([64, 10, 6, 64, 64]) torch.Size([26, 6, 64, 64])\n",
      "SHAPES torch.Size([64, 10, 6, 64, 64]) torch.Size([26, 6, 64, 64])\n",
      "SHAPES torch.Size([64, 10, 6, 64, 64]) torch.Size([26, 6, 64, 64])\n",
      "SHAPES torch.Size([24, 10, 6, 64, 64]) torch.Size([26, 6, 64, 64])\n",
      "SHAPES torch.Size([64, 10, 6, 64, 64]) torch.Size([26, 6, 64, 64])\n",
      "SHAPES torch.Size([64, 10, 6, 64, 64]) torch.Size([26, 6, 64, 64])\n",
      "SHAPES torch.Size([64, 10, 6, 64, 64]) torch.Size([26, 6, 64, 64])\n",
      "SHAPES torch.Size([64, 10, 6, 64, 64]) torch.Size([26, 6, 64, 64])\n",
      "SHAPES torch.Size([64, 10, 6, 64, 64]) torch.Size([26, 6, 64, 64])\n",
      "SHAPES torch.Size([64, 10, 6, 64, 64]) torch.Size([26, 6, 64, 64])\n",
      "SHAPES torch.Size([64, 10, 6, 64, 64]) torch.Size([26, 6, 64, 64])\n",
      "SHAPES torch.Size([64, 10, 6, 64, 64]) torch.Size([26, 6, 64, 64])\n",
      "SHAPES torch.Size([64, 10, 6, 64, 64]) torch.Size([26, 6, 64, 64])\n",
      "SHAPES torch.Size([64, 10, 6, 64, 64]) torch.Size([26, 6, 64, 64])\n",
      "SHAPES torch.Size([64, 10, 6, 64, 64]) torch.Size([26, 6, 64, 64])\n",
      "SHAPES torch.Size([64, 10, 6, 64, 64]) torch.Size([26, 6, 64, 64])\n",
      "SHAPES torch.Size([64, 10, 6, 64, 64]) torch.Size([26, 6, 64, 64])\n",
      "SHAPES torch.Size([64, 10, 6, 64, 64]) torch.Size([26, 6, 64, 64])\n",
      "SHAPES torch.Size([64, 10, 6, 64, 64]) torch.Size([26, 6, 64, 64])\n",
      "SHAPES torch.Size([64, 10, 6, 64, 64]) torch.Size([26, 6, 64, 64])\n",
      "SHAPES torch.Size([64, 10, 6, 64, 64]) torch.Size([26, 6, 64, 64])\n",
      "SHAPES torch.Size([64, 10, 6, 64, 64]) torch.Size([26, 6, 64, 64])\n",
      "SHAPES torch.Size([64, 10, 6, 64, 64]) torch.Size([26, 6, 64, 64])\n",
      "SHAPES torch.Size([64, 10, 6, 64, 64]) torch.Size([26, 6, 64, 64])\n",
      "SHAPES torch.Size([64, 10, 6, 64, 64]) torch.Size([26, 6, 64, 64])\n",
      "SHAPES torch.Size([64, 10, 6, 64, 64]) torch.Size([26, 6, 64, 64])\n",
      "SHAPES torch.Size([64, 10, 6, 64, 64]) torch.Size([26, 6, 64, 64])\n",
      "SHAPES torch.Size([64, 10, 6, 64, 64]) torch.Size([26, 6, 64, 64])\n",
      "SHAPES torch.Size([64, 10, 6, 64, 64]) torch.Size([26, 6, 64, 64])\n",
      "SHAPES torch.Size([64, 10, 6, 64, 64]) torch.Size([26, 6, 64, 64])\n",
      "SHAPES torch.Size([64, 10, 6, 64, 64]) torch.Size([26, 6, 64, 64])\n",
      "SHAPES torch.Size([64, 10, 6, 64, 64]) torch.Size([26, 6, 64, 64])\n",
      "SHAPES torch.Size([64, 10, 6, 64, 64]) torch.Size([26, 6, 64, 64])\n",
      "SHAPES torch.Size([64, 10, 6, 64, 64]) torch.Size([26, 6, 64, 64])\n",
      "SHAPES torch.Size([64, 10, 6, 64, 64]) torch.Size([26, 6, 64, 64])\n",
      "SHAPES torch.Size([64, 10, 6, 64, 64]) torch.Size([26, 6, 64, 64])\n",
      "SHAPES torch.Size([64, 10, 6, 64, 64]) torch.Size([26, 6, 64, 64])\n",
      "SHAPES torch.Size([64, 10, 6, 64, 64]) torch.Size([26, 6, 64, 64])\n",
      "SHAPES torch.Size([64, 10, 6, 64, 64]) torch.Size([26, 6, 64, 64])\n"
     ]
    },
    {
     "data": {
      "application/vnd.jupyter.widget-view+json": {
       "model_id": "",
       "version_major": 2,
       "version_minor": 0
      },
      "text/plain": [
       "HBox(children=(FloatProgress(value=1.0, bar_style='info', description='Validating', layout=Layout(flex='2'), m…"
      ]
     },
     "metadata": {},
     "output_type": "display_data"
    },
    {
     "name": "stdout",
     "output_type": "stream",
     "text": [
      "SHAPES torch.Size([64, 10, 6, 64, 64]) torch.Size([26, 6, 64, 64])\n",
      "SHAPES torch.Size([64, 10, 6, 64, 64]) torch.Size([26, 6, 64, 64])\n",
      "SHAPES torch.Size([64, 10, 6, 64, 64]) torch.Size([26, 6, 64, 64])\n",
      "SHAPES torch.Size([64, 10, 6, 64, 64]) torch.Size([26, 6, 64, 64])\n",
      "SHAPES torch.Size([24, 10, 6, 64, 64]) torch.Size([26, 6, 64, 64])\n",
      "SHAPES torch.Size([64, 10, 6, 64, 64]) torch.Size([26, 6, 64, 64])\n",
      "SHAPES torch.Size([64, 10, 6, 64, 64]) torch.Size([26, 6, 64, 64])\n",
      "SHAPES torch.Size([64, 10, 6, 64, 64]) torch.Size([26, 6, 64, 64])\n",
      "SHAPES torch.Size([64, 10, 6, 64, 64]) torch.Size([26, 6, 64, 64])\n",
      "SHAPES torch.Size([64, 10, 6, 64, 64]) torch.Size([26, 6, 64, 64])\n",
      "SHAPES torch.Size([64, 10, 6, 64, 64]) torch.Size([26, 6, 64, 64])\n",
      "SHAPES torch.Size([64, 10, 6, 64, 64]) torch.Size([26, 6, 64, 64])\n",
      "SHAPES torch.Size([64, 10, 6, 64, 64]) torch.Size([26, 6, 64, 64])\n",
      "SHAPES torch.Size([64, 10, 6, 64, 64]) torch.Size([26, 6, 64, 64])\n",
      "SHAPES torch.Size([64, 10, 6, 64, 64]) torch.Size([26, 6, 64, 64])\n",
      "SHAPES torch.Size([64, 10, 6, 64, 64]) torch.Size([26, 6, 64, 64])\n",
      "SHAPES torch.Size([64, 10, 6, 64, 64]) torch.Size([26, 6, 64, 64])\n",
      "SHAPES torch.Size([64, 10, 6, 64, 64]) torch.Size([26, 6, 64, 64])\n",
      "SHAPES torch.Size([64, 10, 6, 64, 64]) torch.Size([26, 6, 64, 64])\n",
      "SHAPES torch.Size([64, 10, 6, 64, 64]) torch.Size([26, 6, 64, 64])\n",
      "SHAPES torch.Size([64, 10, 6, 64, 64]) torch.Size([26, 6, 64, 64])\n",
      "SHAPES torch.Size([64, 10, 6, 64, 64]) torch.Size([26, 6, 64, 64])\n",
      "SHAPES torch.Size([64, 10, 6, 64, 64]) torch.Size([26, 6, 64, 64])\n",
      "SHAPES torch.Size([64, 10, 6, 64, 64]) torch.Size([26, 6, 64, 64])\n",
      "SHAPES torch.Size([64, 10, 6, 64, 64]) torch.Size([26, 6, 64, 64])\n",
      "SHAPES torch.Size([64, 10, 6, 64, 64]) torch.Size([26, 6, 64, 64])\n",
      "SHAPES torch.Size([64, 10, 6, 64, 64]) torch.Size([26, 6, 64, 64])\n",
      "SHAPES torch.Size([64, 10, 6, 64, 64]) torch.Size([26, 6, 64, 64])\n",
      "SHAPES torch.Size([64, 10, 6, 64, 64]) torch.Size([26, 6, 64, 64])\n",
      "SHAPES torch.Size([64, 10, 6, 64, 64]) torch.Size([26, 6, 64, 64])\n",
      "SHAPES torch.Size([64, 10, 6, 64, 64]) torch.Size([26, 6, 64, 64])\n",
      "SHAPES torch.Size([64, 10, 6, 64, 64]) torch.Size([26, 6, 64, 64])\n",
      "SHAPES torch.Size([64, 10, 6, 64, 64]) torch.Size([26, 6, 64, 64])\n",
      "SHAPES torch.Size([64, 10, 6, 64, 64]) torch.Size([26, 6, 64, 64])\n",
      "SHAPES torch.Size([64, 10, 6, 64, 64]) torch.Size([26, 6, 64, 64])\n",
      "SHAPES torch.Size([64, 10, 6, 64, 64]) torch.Size([26, 6, 64, 64])\n",
      "SHAPES torch.Size([64, 10, 6, 64, 64]) torch.Size([26, 6, 64, 64])\n",
      "SHAPES torch.Size([64, 10, 6, 64, 64]) torch.Size([26, 6, 64, 64])\n",
      "SHAPES torch.Size([64, 10, 6, 64, 64]) torch.Size([26, 6, 64, 64])\n",
      "SHAPES torch.Size([64, 10, 6, 64, 64]) torch.Size([26, 6, 64, 64])\n"
     ]
    },
    {
     "data": {
      "application/vnd.jupyter.widget-view+json": {
       "model_id": "",
       "version_major": 2,
       "version_minor": 0
      },
      "text/plain": [
       "HBox(children=(FloatProgress(value=1.0, bar_style='info', description='Validating', layout=Layout(flex='2'), m…"
      ]
     },
     "metadata": {},
     "output_type": "display_data"
    },
    {
     "name": "stdout",
     "output_type": "stream",
     "text": [
      "SHAPES torch.Size([64, 10, 6, 64, 64]) torch.Size([26, 6, 64, 64])\n",
      "SHAPES torch.Size([64, 10, 6, 64, 64]) torch.Size([26, 6, 64, 64])\n",
      "SHAPES torch.Size([64, 10, 6, 64, 64]) torch.Size([26, 6, 64, 64])\n",
      "SHAPES torch.Size([64, 10, 6, 64, 64]) torch.Size([26, 6, 64, 64])\n",
      "SHAPES torch.Size([24, 10, 6, 64, 64]) torch.Size([26, 6, 64, 64])\n",
      "SHAPES torch.Size([64, 10, 6, 64, 64]) torch.Size([26, 6, 64, 64])\n",
      "SHAPES torch.Size([64, 10, 6, 64, 64]) torch.Size([26, 6, 64, 64])\n",
      "SHAPES torch.Size([64, 10, 6, 64, 64]) torch.Size([26, 6, 64, 64])\n",
      "SHAPES torch.Size([64, 10, 6, 64, 64]) torch.Size([26, 6, 64, 64])\n",
      "SHAPES torch.Size([64, 10, 6, 64, 64]) torch.Size([26, 6, 64, 64])\n",
      "SHAPES torch.Size([64, 10, 6, 64, 64]) torch.Size([26, 6, 64, 64])\n",
      "SHAPES torch.Size([64, 10, 6, 64, 64]) torch.Size([26, 6, 64, 64])\n",
      "SHAPES torch.Size([64, 10, 6, 64, 64]) torch.Size([26, 6, 64, 64])\n",
      "SHAPES torch.Size([64, 10, 6, 64, 64]) torch.Size([26, 6, 64, 64])\n",
      "SHAPES torch.Size([64, 10, 6, 64, 64]) torch.Size([26, 6, 64, 64])\n",
      "SHAPES torch.Size([64, 10, 6, 64, 64]) torch.Size([26, 6, 64, 64])\n",
      "SHAPES torch.Size([64, 10, 6, 64, 64]) torch.Size([26, 6, 64, 64])\n",
      "SHAPES torch.Size([64, 10, 6, 64, 64]) torch.Size([26, 6, 64, 64])\n",
      "SHAPES torch.Size([64, 10, 6, 64, 64]) torch.Size([26, 6, 64, 64])\n",
      "SHAPES torch.Size([64, 10, 6, 64, 64]) torch.Size([26, 6, 64, 64])\n",
      "SHAPES torch.Size([64, 10, 6, 64, 64]) torch.Size([26, 6, 64, 64])\n",
      "SHAPES torch.Size([64, 10, 6, 64, 64]) torch.Size([26, 6, 64, 64])\n",
      "SHAPES torch.Size([64, 10, 6, 64, 64]) torch.Size([26, 6, 64, 64])\n",
      "SHAPES torch.Size([64, 10, 6, 64, 64]) torch.Size([26, 6, 64, 64])\n",
      "SHAPES torch.Size([64, 10, 6, 64, 64]) torch.Size([26, 6, 64, 64])\n",
      "SHAPES torch.Size([64, 10, 6, 64, 64]) torch.Size([26, 6, 64, 64])\n",
      "SHAPES torch.Size([64, 10, 6, 64, 64]) torch.Size([26, 6, 64, 64])\n",
      "SHAPES torch.Size([64, 10, 6, 64, 64]) torch.Size([26, 6, 64, 64])\n",
      "SHAPES torch.Size([64, 10, 6, 64, 64]) torch.Size([26, 6, 64, 64])\n",
      "SHAPES torch.Size([64, 10, 6, 64, 64]) torch.Size([26, 6, 64, 64])\n",
      "SHAPES torch.Size([64, 10, 6, 64, 64]) torch.Size([26, 6, 64, 64])\n",
      "SHAPES torch.Size([64, 10, 6, 64, 64]) torch.Size([26, 6, 64, 64])\n",
      "SHAPES torch.Size([64, 10, 6, 64, 64]) torch.Size([26, 6, 64, 64])\n",
      "SHAPES torch.Size([64, 10, 6, 64, 64]) torch.Size([26, 6, 64, 64])\n",
      "SHAPES torch.Size([64, 10, 6, 64, 64]) torch.Size([26, 6, 64, 64])\n",
      "SHAPES torch.Size([64, 10, 6, 64, 64]) torch.Size([26, 6, 64, 64])\n",
      "SHAPES torch.Size([64, 10, 6, 64, 64]) torch.Size([26, 6, 64, 64])\n",
      "SHAPES torch.Size([64, 10, 6, 64, 64]) torch.Size([26, 6, 64, 64])\n",
      "SHAPES torch.Size([64, 10, 6, 64, 64]) torch.Size([26, 6, 64, 64])\n",
      "SHAPES torch.Size([64, 10, 6, 64, 64]) torch.Size([26, 6, 64, 64])\n"
     ]
    },
    {
     "data": {
      "application/vnd.jupyter.widget-view+json": {
       "model_id": "",
       "version_major": 2,
       "version_minor": 0
      },
      "text/plain": [
       "HBox(children=(FloatProgress(value=1.0, bar_style='info', description='Validating', layout=Layout(flex='2'), m…"
      ]
     },
     "metadata": {},
     "output_type": "display_data"
    },
    {
     "name": "stdout",
     "output_type": "stream",
     "text": [
      "SHAPES torch.Size([64, 10, 6, 64, 64]) torch.Size([26, 6, 64, 64])\n",
      "SHAPES torch.Size([64, 10, 6, 64, 64]) torch.Size([26, 6, 64, 64])\n",
      "SHAPES torch.Size([64, 10, 6, 64, 64]) torch.Size([26, 6, 64, 64])\n",
      "SHAPES torch.Size([64, 10, 6, 64, 64]) torch.Size([26, 6, 64, 64])\n",
      "SHAPES torch.Size([24, 10, 6, 64, 64]) torch.Size([26, 6, 64, 64])\n",
      "SHAPES torch.Size([64, 10, 6, 64, 64]) torch.Size([26, 6, 64, 64])\n",
      "SHAPES torch.Size([64, 10, 6, 64, 64]) torch.Size([26, 6, 64, 64])\n",
      "SHAPES torch.Size([64, 10, 6, 64, 64]) torch.Size([26, 6, 64, 64])\n",
      "SHAPES torch.Size([64, 10, 6, 64, 64]) torch.Size([26, 6, 64, 64])\n",
      "SHAPES torch.Size([64, 10, 6, 64, 64]) torch.Size([26, 6, 64, 64])\n",
      "SHAPES torch.Size([64, 10, 6, 64, 64]) torch.Size([26, 6, 64, 64])\n",
      "SHAPES torch.Size([64, 10, 6, 64, 64]) torch.Size([26, 6, 64, 64])\n",
      "SHAPES torch.Size([64, 10, 6, 64, 64]) torch.Size([26, 6, 64, 64])\n",
      "SHAPES torch.Size([64, 10, 6, 64, 64]) torch.Size([26, 6, 64, 64])\n",
      "SHAPES torch.Size([64, 10, 6, 64, 64]) torch.Size([26, 6, 64, 64])\n",
      "SHAPES torch.Size([64, 10, 6, 64, 64]) torch.Size([26, 6, 64, 64])\n",
      "SHAPES torch.Size([64, 10, 6, 64, 64]) torch.Size([26, 6, 64, 64])\n",
      "SHAPES torch.Size([64, 10, 6, 64, 64]) torch.Size([26, 6, 64, 64])\n",
      "SHAPES torch.Size([64, 10, 6, 64, 64]) torch.Size([26, 6, 64, 64])\n",
      "SHAPES torch.Size([64, 10, 6, 64, 64]) torch.Size([26, 6, 64, 64])\n",
      "SHAPES torch.Size([64, 10, 6, 64, 64]) torch.Size([26, 6, 64, 64])\n",
      "SHAPES torch.Size([64, 10, 6, 64, 64]) torch.Size([26, 6, 64, 64])\n",
      "SHAPES torch.Size([64, 10, 6, 64, 64]) torch.Size([26, 6, 64, 64])\n",
      "SHAPES torch.Size([64, 10, 6, 64, 64]) torch.Size([26, 6, 64, 64])\n",
      "SHAPES torch.Size([64, 10, 6, 64, 64]) torch.Size([26, 6, 64, 64])\n",
      "SHAPES torch.Size([64, 10, 6, 64, 64]) torch.Size([26, 6, 64, 64])\n",
      "SHAPES torch.Size([64, 10, 6, 64, 64]) torch.Size([26, 6, 64, 64])\n",
      "SHAPES torch.Size([64, 10, 6, 64, 64]) torch.Size([26, 6, 64, 64])\n",
      "SHAPES torch.Size([64, 10, 6, 64, 64]) torch.Size([26, 6, 64, 64])\n",
      "SHAPES torch.Size([64, 10, 6, 64, 64]) torch.Size([26, 6, 64, 64])\n",
      "SHAPES torch.Size([64, 10, 6, 64, 64]) torch.Size([26, 6, 64, 64])\n",
      "SHAPES torch.Size([64, 10, 6, 64, 64]) torch.Size([26, 6, 64, 64])\n",
      "SHAPES torch.Size([64, 10, 6, 64, 64]) torch.Size([26, 6, 64, 64])\n",
      "SHAPES torch.Size([64, 10, 6, 64, 64]) torch.Size([26, 6, 64, 64])\n",
      "SHAPES torch.Size([64, 10, 6, 64, 64]) torch.Size([26, 6, 64, 64])\n",
      "SHAPES torch.Size([64, 10, 6, 64, 64]) torch.Size([26, 6, 64, 64])\n",
      "SHAPES torch.Size([64, 10, 6, 64, 64]) torch.Size([26, 6, 64, 64])\n",
      "SHAPES torch.Size([64, 10, 6, 64, 64]) torch.Size([26, 6, 64, 64])\n",
      "SHAPES torch.Size([64, 10, 6, 64, 64]) torch.Size([26, 6, 64, 64])\n",
      "SHAPES torch.Size([64, 10, 6, 64, 64]) torch.Size([26, 6, 64, 64])\n"
     ]
    },
    {
     "data": {
      "application/vnd.jupyter.widget-view+json": {
       "model_id": "",
       "version_major": 2,
       "version_minor": 0
      },
      "text/plain": [
       "HBox(children=(FloatProgress(value=1.0, bar_style='info', description='Validating', layout=Layout(flex='2'), m…"
      ]
     },
     "metadata": {},
     "output_type": "display_data"
    },
    {
     "name": "stdout",
     "output_type": "stream",
     "text": [
      "SHAPES torch.Size([64, 10, 6, 64, 64]) torch.Size([26, 6, 64, 64])\n",
      "SHAPES torch.Size([64, 10, 6, 64, 64]) torch.Size([26, 6, 64, 64])\n",
      "SHAPES torch.Size([64, 10, 6, 64, 64]) torch.Size([26, 6, 64, 64])\n",
      "SHAPES torch.Size([64, 10, 6, 64, 64]) torch.Size([26, 6, 64, 64])\n",
      "SHAPES torch.Size([24, 10, 6, 64, 64]) torch.Size([26, 6, 64, 64])\n",
      "SHAPES torch.Size([64, 10, 6, 64, 64]) torch.Size([26, 6, 64, 64])\n",
      "SHAPES torch.Size([64, 10, 6, 64, 64]) torch.Size([26, 6, 64, 64])\n",
      "SHAPES torch.Size([64, 10, 6, 64, 64]) torch.Size([26, 6, 64, 64])\n",
      "SHAPES torch.Size([64, 10, 6, 64, 64]) torch.Size([26, 6, 64, 64])\n",
      "SHAPES torch.Size([64, 10, 6, 64, 64]) torch.Size([26, 6, 64, 64])\n",
      "SHAPES torch.Size([64, 10, 6, 64, 64]) torch.Size([26, 6, 64, 64])\n",
      "SHAPES torch.Size([64, 10, 6, 64, 64]) torch.Size([26, 6, 64, 64])\n",
      "SHAPES torch.Size([64, 10, 6, 64, 64]) torch.Size([26, 6, 64, 64])\n",
      "SHAPES torch.Size([64, 10, 6, 64, 64]) torch.Size([26, 6, 64, 64])\n",
      "SHAPES torch.Size([64, 10, 6, 64, 64]) torch.Size([26, 6, 64, 64])\n",
      "SHAPES torch.Size([64, 10, 6, 64, 64]) torch.Size([26, 6, 64, 64])\n",
      "SHAPES torch.Size([64, 10, 6, 64, 64]) torch.Size([26, 6, 64, 64])\n",
      "SHAPES torch.Size([64, 10, 6, 64, 64]) torch.Size([26, 6, 64, 64])\n",
      "SHAPES torch.Size([64, 10, 6, 64, 64]) torch.Size([26, 6, 64, 64])\n",
      "SHAPES torch.Size([64, 10, 6, 64, 64]) torch.Size([26, 6, 64, 64])\n",
      "SHAPES torch.Size([64, 10, 6, 64, 64]) torch.Size([26, 6, 64, 64])\n",
      "SHAPES torch.Size([64, 10, 6, 64, 64]) torch.Size([26, 6, 64, 64])\n",
      "SHAPES torch.Size([64, 10, 6, 64, 64]) torch.Size([26, 6, 64, 64])\n",
      "SHAPES torch.Size([64, 10, 6, 64, 64]) torch.Size([26, 6, 64, 64])\n",
      "SHAPES torch.Size([64, 10, 6, 64, 64]) torch.Size([26, 6, 64, 64])\n",
      "SHAPES torch.Size([64, 10, 6, 64, 64]) torch.Size([26, 6, 64, 64])\n",
      "SHAPES torch.Size([64, 10, 6, 64, 64]) torch.Size([26, 6, 64, 64])\n",
      "SHAPES torch.Size([64, 10, 6, 64, 64]) torch.Size([26, 6, 64, 64])\n",
      "SHAPES torch.Size([64, 10, 6, 64, 64]) torch.Size([26, 6, 64, 64])\n",
      "SHAPES torch.Size([64, 10, 6, 64, 64]) torch.Size([26, 6, 64, 64])\n",
      "SHAPES torch.Size([64, 10, 6, 64, 64]) torch.Size([26, 6, 64, 64])\n",
      "SHAPES torch.Size([64, 10, 6, 64, 64]) torch.Size([26, 6, 64, 64])\n",
      "SHAPES torch.Size([64, 10, 6, 64, 64]) torch.Size([26, 6, 64, 64])\n",
      "SHAPES torch.Size([64, 10, 6, 64, 64]) torch.Size([26, 6, 64, 64])\n",
      "SHAPES torch.Size([64, 10, 6, 64, 64]) torch.Size([26, 6, 64, 64])\n",
      "SHAPES torch.Size([64, 10, 6, 64, 64]) torch.Size([26, 6, 64, 64])\n",
      "SHAPES torch.Size([64, 10, 6, 64, 64]) torch.Size([26, 6, 64, 64])\n",
      "SHAPES torch.Size([64, 10, 6, 64, 64]) torch.Size([26, 6, 64, 64])\n",
      "SHAPES torch.Size([64, 10, 6, 64, 64]) torch.Size([26, 6, 64, 64])\n",
      "SHAPES torch.Size([64, 10, 6, 64, 64]) torch.Size([26, 6, 64, 64])\n"
     ]
    },
    {
     "data": {
      "application/vnd.jupyter.widget-view+json": {
       "model_id": "",
       "version_major": 2,
       "version_minor": 0
      },
      "text/plain": [
       "HBox(children=(FloatProgress(value=1.0, bar_style='info', description='Validating', layout=Layout(flex='2'), m…"
      ]
     },
     "metadata": {},
     "output_type": "display_data"
    },
    {
     "name": "stdout",
     "output_type": "stream",
     "text": [
      "SHAPES torch.Size([64, 10, 6, 64, 64]) torch.Size([26, 6, 64, 64])\n",
      "SHAPES torch.Size([64, 10, 6, 64, 64]) torch.Size([26, 6, 64, 64])\n",
      "SHAPES torch.Size([64, 10, 6, 64, 64]) torch.Size([26, 6, 64, 64])\n",
      "SHAPES torch.Size([64, 10, 6, 64, 64]) torch.Size([26, 6, 64, 64])\n",
      "SHAPES torch.Size([24, 10, 6, 64, 64]) torch.Size([26, 6, 64, 64])\n",
      "SHAPES torch.Size([64, 10, 6, 64, 64]) torch.Size([26, 6, 64, 64])\n",
      "SHAPES torch.Size([64, 10, 6, 64, 64]) torch.Size([26, 6, 64, 64])\n",
      "SHAPES torch.Size([64, 10, 6, 64, 64]) torch.Size([26, 6, 64, 64])\n",
      "SHAPES torch.Size([64, 10, 6, 64, 64]) torch.Size([26, 6, 64, 64])\n",
      "SHAPES torch.Size([64, 10, 6, 64, 64]) torch.Size([26, 6, 64, 64])\n",
      "SHAPES torch.Size([64, 10, 6, 64, 64]) torch.Size([26, 6, 64, 64])\n",
      "SHAPES torch.Size([64, 10, 6, 64, 64]) torch.Size([26, 6, 64, 64])\n",
      "SHAPES torch.Size([64, 10, 6, 64, 64]) torch.Size([26, 6, 64, 64])\n",
      "SHAPES torch.Size([64, 10, 6, 64, 64]) torch.Size([26, 6, 64, 64])\n",
      "SHAPES torch.Size([64, 10, 6, 64, 64]) torch.Size([26, 6, 64, 64])\n",
      "SHAPES torch.Size([64, 10, 6, 64, 64]) torch.Size([26, 6, 64, 64])\n",
      "SHAPES torch.Size([64, 10, 6, 64, 64]) torch.Size([26, 6, 64, 64])\n",
      "SHAPES torch.Size([64, 10, 6, 64, 64]) torch.Size([26, 6, 64, 64])\n",
      "SHAPES torch.Size([64, 10, 6, 64, 64]) torch.Size([26, 6, 64, 64])\n",
      "SHAPES torch.Size([64, 10, 6, 64, 64]) torch.Size([26, 6, 64, 64])\n",
      "SHAPES torch.Size([64, 10, 6, 64, 64]) torch.Size([26, 6, 64, 64])\n",
      "SHAPES torch.Size([64, 10, 6, 64, 64]) torch.Size([26, 6, 64, 64])\n",
      "SHAPES torch.Size([64, 10, 6, 64, 64]) torch.Size([26, 6, 64, 64])\n",
      "SHAPES torch.Size([64, 10, 6, 64, 64]) torch.Size([26, 6, 64, 64])\n",
      "SHAPES torch.Size([64, 10, 6, 64, 64]) torch.Size([26, 6, 64, 64])\n",
      "SHAPES torch.Size([64, 10, 6, 64, 64]) torch.Size([26, 6, 64, 64])\n",
      "SHAPES torch.Size([64, 10, 6, 64, 64]) torch.Size([26, 6, 64, 64])\n",
      "SHAPES torch.Size([64, 10, 6, 64, 64]) torch.Size([26, 6, 64, 64])\n",
      "SHAPES torch.Size([64, 10, 6, 64, 64]) torch.Size([26, 6, 64, 64])\n",
      "SHAPES torch.Size([64, 10, 6, 64, 64]) torch.Size([26, 6, 64, 64])\n",
      "SHAPES torch.Size([64, 10, 6, 64, 64]) torch.Size([26, 6, 64, 64])\n",
      "SHAPES torch.Size([64, 10, 6, 64, 64]) torch.Size([26, 6, 64, 64])\n",
      "SHAPES torch.Size([64, 10, 6, 64, 64]) torch.Size([26, 6, 64, 64])\n",
      "SHAPES torch.Size([64, 10, 6, 64, 64]) torch.Size([26, 6, 64, 64])\n",
      "SHAPES torch.Size([64, 10, 6, 64, 64]) torch.Size([26, 6, 64, 64])\n",
      "SHAPES torch.Size([64, 10, 6, 64, 64]) torch.Size([26, 6, 64, 64])\n",
      "SHAPES torch.Size([64, 10, 6, 64, 64]) torch.Size([26, 6, 64, 64])\n",
      "SHAPES torch.Size([64, 10, 6, 64, 64]) torch.Size([26, 6, 64, 64])\n",
      "SHAPES torch.Size([64, 10, 6, 64, 64]) torch.Size([26, 6, 64, 64])\n",
      "SHAPES torch.Size([64, 10, 6, 64, 64]) torch.Size([26, 6, 64, 64])\n"
     ]
    },
    {
     "data": {
      "application/vnd.jupyter.widget-view+json": {
       "model_id": "",
       "version_major": 2,
       "version_minor": 0
      },
      "text/plain": [
       "HBox(children=(FloatProgress(value=1.0, bar_style='info', description='Validating', layout=Layout(flex='2'), m…"
      ]
     },
     "metadata": {},
     "output_type": "display_data"
    },
    {
     "name": "stdout",
     "output_type": "stream",
     "text": [
      "SHAPES torch.Size([64, 10, 6, 64, 64]) torch.Size([26, 6, 64, 64])\n",
      "SHAPES torch.Size([64, 10, 6, 64, 64]) torch.Size([26, 6, 64, 64])\n",
      "SHAPES torch.Size([64, 10, 6, 64, 64]) torch.Size([26, 6, 64, 64])\n",
      "SHAPES torch.Size([64, 10, 6, 64, 64]) torch.Size([26, 6, 64, 64])\n",
      "SHAPES torch.Size([24, 10, 6, 64, 64]) torch.Size([26, 6, 64, 64])\n",
      "SHAPES torch.Size([64, 10, 6, 64, 64]) torch.Size([26, 6, 64, 64])\n",
      "SHAPES torch.Size([64, 10, 6, 64, 64]) torch.Size([26, 6, 64, 64])\n",
      "SHAPES torch.Size([64, 10, 6, 64, 64]) torch.Size([26, 6, 64, 64])\n",
      "SHAPES torch.Size([64, 10, 6, 64, 64]) torch.Size([26, 6, 64, 64])\n",
      "SHAPES torch.Size([64, 10, 6, 64, 64]) torch.Size([26, 6, 64, 64])\n",
      "SHAPES torch.Size([64, 10, 6, 64, 64]) torch.Size([26, 6, 64, 64])\n",
      "SHAPES torch.Size([64, 10, 6, 64, 64]) torch.Size([26, 6, 64, 64])\n",
      "SHAPES torch.Size([64, 10, 6, 64, 64]) torch.Size([26, 6, 64, 64])\n",
      "SHAPES torch.Size([64, 10, 6, 64, 64]) torch.Size([26, 6, 64, 64])\n",
      "SHAPES torch.Size([64, 10, 6, 64, 64]) torch.Size([26, 6, 64, 64])\n",
      "SHAPES torch.Size([64, 10, 6, 64, 64]) torch.Size([26, 6, 64, 64])\n",
      "SHAPES torch.Size([64, 10, 6, 64, 64]) torch.Size([26, 6, 64, 64])\n",
      "SHAPES torch.Size([64, 10, 6, 64, 64]) torch.Size([26, 6, 64, 64])\n",
      "SHAPES torch.Size([64, 10, 6, 64, 64]) torch.Size([26, 6, 64, 64])\n",
      "SHAPES torch.Size([64, 10, 6, 64, 64]) torch.Size([26, 6, 64, 64])\n",
      "SHAPES torch.Size([64, 10, 6, 64, 64]) torch.Size([26, 6, 64, 64])\n",
      "SHAPES torch.Size([64, 10, 6, 64, 64]) torch.Size([26, 6, 64, 64])\n",
      "SHAPES torch.Size([64, 10, 6, 64, 64]) torch.Size([26, 6, 64, 64])\n",
      "SHAPES torch.Size([64, 10, 6, 64, 64]) torch.Size([26, 6, 64, 64])\n",
      "SHAPES torch.Size([64, 10, 6, 64, 64]) torch.Size([26, 6, 64, 64])\n",
      "SHAPES torch.Size([64, 10, 6, 64, 64]) torch.Size([26, 6, 64, 64])\n",
      "SHAPES torch.Size([64, 10, 6, 64, 64]) torch.Size([26, 6, 64, 64])\n",
      "SHAPES torch.Size([64, 10, 6, 64, 64]) torch.Size([26, 6, 64, 64])\n",
      "SHAPES torch.Size([64, 10, 6, 64, 64]) torch.Size([26, 6, 64, 64])\n",
      "SHAPES torch.Size([64, 10, 6, 64, 64]) torch.Size([26, 6, 64, 64])\n",
      "SHAPES torch.Size([64, 10, 6, 64, 64]) torch.Size([26, 6, 64, 64])\n",
      "SHAPES torch.Size([64, 10, 6, 64, 64]) torch.Size([26, 6, 64, 64])\n",
      "SHAPES torch.Size([64, 10, 6, 64, 64]) torch.Size([26, 6, 64, 64])\n",
      "SHAPES torch.Size([64, 10, 6, 64, 64]) torch.Size([26, 6, 64, 64])\n",
      "SHAPES torch.Size([64, 10, 6, 64, 64]) torch.Size([26, 6, 64, 64])\n",
      "SHAPES torch.Size([64, 10, 6, 64, 64]) torch.Size([26, 6, 64, 64])\n",
      "SHAPES torch.Size([64, 10, 6, 64, 64]) torch.Size([26, 6, 64, 64])\n",
      "SHAPES torch.Size([64, 10, 6, 64, 64]) torch.Size([26, 6, 64, 64])\n",
      "SHAPES torch.Size([64, 10, 6, 64, 64]) torch.Size([26, 6, 64, 64])\n",
      "SHAPES torch.Size([64, 10, 6, 64, 64]) torch.Size([26, 6, 64, 64])\n"
     ]
    },
    {
     "data": {
      "application/vnd.jupyter.widget-view+json": {
       "model_id": "",
       "version_major": 2,
       "version_minor": 0
      },
      "text/plain": [
       "HBox(children=(FloatProgress(value=1.0, bar_style='info', description='Validating', layout=Layout(flex='2'), m…"
      ]
     },
     "metadata": {},
     "output_type": "display_data"
    },
    {
     "name": "stdout",
     "output_type": "stream",
     "text": [
      "SHAPES torch.Size([64, 10, 6, 64, 64]) torch.Size([26, 6, 64, 64])\n",
      "SHAPES torch.Size([64, 10, 6, 64, 64]) torch.Size([26, 6, 64, 64])\n",
      "SHAPES torch.Size([64, 10, 6, 64, 64]) torch.Size([26, 6, 64, 64])\n",
      "SHAPES torch.Size([64, 10, 6, 64, 64]) torch.Size([26, 6, 64, 64])\n",
      "SHAPES torch.Size([24, 10, 6, 64, 64]) torch.Size([26, 6, 64, 64])\n",
      "SHAPES torch.Size([64, 10, 6, 64, 64]) torch.Size([26, 6, 64, 64])\n",
      "SHAPES torch.Size([64, 10, 6, 64, 64]) torch.Size([26, 6, 64, 64])\n",
      "SHAPES torch.Size([64, 10, 6, 64, 64]) torch.Size([26, 6, 64, 64])\n",
      "SHAPES torch.Size([64, 10, 6, 64, 64]) torch.Size([26, 6, 64, 64])\n",
      "SHAPES torch.Size([64, 10, 6, 64, 64]) torch.Size([26, 6, 64, 64])\n",
      "SHAPES torch.Size([64, 10, 6, 64, 64]) torch.Size([26, 6, 64, 64])\n",
      "SHAPES torch.Size([64, 10, 6, 64, 64]) torch.Size([26, 6, 64, 64])\n",
      "SHAPES torch.Size([64, 10, 6, 64, 64]) torch.Size([26, 6, 64, 64])\n",
      "SHAPES torch.Size([64, 10, 6, 64, 64]) torch.Size([26, 6, 64, 64])\n",
      "SHAPES torch.Size([64, 10, 6, 64, 64]) torch.Size([26, 6, 64, 64])\n",
      "SHAPES torch.Size([64, 10, 6, 64, 64]) torch.Size([26, 6, 64, 64])\n",
      "SHAPES torch.Size([64, 10, 6, 64, 64]) torch.Size([26, 6, 64, 64])\n",
      "SHAPES torch.Size([64, 10, 6, 64, 64]) torch.Size([26, 6, 64, 64])\n",
      "SHAPES torch.Size([64, 10, 6, 64, 64]) torch.Size([26, 6, 64, 64])\n",
      "SHAPES torch.Size([64, 10, 6, 64, 64]) torch.Size([26, 6, 64, 64])\n",
      "SHAPES torch.Size([64, 10, 6, 64, 64]) torch.Size([26, 6, 64, 64])\n",
      "SHAPES torch.Size([64, 10, 6, 64, 64]) torch.Size([26, 6, 64, 64])\n",
      "SHAPES torch.Size([64, 10, 6, 64, 64]) torch.Size([26, 6, 64, 64])\n",
      "SHAPES torch.Size([64, 10, 6, 64, 64]) torch.Size([26, 6, 64, 64])\n",
      "SHAPES torch.Size([64, 10, 6, 64, 64]) torch.Size([26, 6, 64, 64])\n",
      "SHAPES torch.Size([64, 10, 6, 64, 64]) torch.Size([26, 6, 64, 64])\n",
      "SHAPES torch.Size([64, 10, 6, 64, 64]) torch.Size([26, 6, 64, 64])\n",
      "SHAPES torch.Size([64, 10, 6, 64, 64]) torch.Size([26, 6, 64, 64])\n",
      "SHAPES torch.Size([64, 10, 6, 64, 64]) torch.Size([26, 6, 64, 64])\n",
      "SHAPES torch.Size([64, 10, 6, 64, 64]) torch.Size([26, 6, 64, 64])\n",
      "SHAPES torch.Size([64, 10, 6, 64, 64]) torch.Size([26, 6, 64, 64])\n",
      "SHAPES torch.Size([64, 10, 6, 64, 64]) torch.Size([26, 6, 64, 64])\n",
      "SHAPES torch.Size([64, 10, 6, 64, 64]) torch.Size([26, 6, 64, 64])\n",
      "SHAPES torch.Size([64, 10, 6, 64, 64]) torch.Size([26, 6, 64, 64])\n",
      "SHAPES torch.Size([64, 10, 6, 64, 64]) torch.Size([26, 6, 64, 64])\n",
      "SHAPES torch.Size([64, 10, 6, 64, 64]) torch.Size([26, 6, 64, 64])\n",
      "SHAPES torch.Size([64, 10, 6, 64, 64]) torch.Size([26, 6, 64, 64])\n",
      "SHAPES torch.Size([64, 10, 6, 64, 64]) torch.Size([26, 6, 64, 64])\n",
      "SHAPES torch.Size([64, 10, 6, 64, 64]) torch.Size([26, 6, 64, 64])\n",
      "SHAPES torch.Size([64, 10, 6, 64, 64]) torch.Size([26, 6, 64, 64])\n"
     ]
    },
    {
     "data": {
      "application/vnd.jupyter.widget-view+json": {
       "model_id": "",
       "version_major": 2,
       "version_minor": 0
      },
      "text/plain": [
       "HBox(children=(FloatProgress(value=1.0, bar_style='info', description='Validating', layout=Layout(flex='2'), m…"
      ]
     },
     "metadata": {},
     "output_type": "display_data"
    },
    {
     "name": "stdout",
     "output_type": "stream",
     "text": [
      "SHAPES torch.Size([64, 10, 6, 64, 64]) torch.Size([26, 6, 64, 64])\n",
      "SHAPES torch.Size([64, 10, 6, 64, 64]) torch.Size([26, 6, 64, 64])\n",
      "SHAPES torch.Size([64, 10, 6, 64, 64]) torch.Size([26, 6, 64, 64])\n",
      "SHAPES torch.Size([64, 10, 6, 64, 64]) torch.Size([26, 6, 64, 64])\n",
      "SHAPES torch.Size([24, 10, 6, 64, 64]) torch.Size([26, 6, 64, 64])\n",
      "SHAPES torch.Size([64, 10, 6, 64, 64]) torch.Size([26, 6, 64, 64])\n",
      "SHAPES torch.Size([64, 10, 6, 64, 64]) torch.Size([26, 6, 64, 64])\n",
      "SHAPES torch.Size([64, 10, 6, 64, 64]) torch.Size([26, 6, 64, 64])\n",
      "SHAPES torch.Size([64, 10, 6, 64, 64]) torch.Size([26, 6, 64, 64])\n",
      "SHAPES torch.Size([64, 10, 6, 64, 64]) torch.Size([26, 6, 64, 64])\n",
      "SHAPES torch.Size([64, 10, 6, 64, 64]) torch.Size([26, 6, 64, 64])\n",
      "SHAPES torch.Size([64, 10, 6, 64, 64]) torch.Size([26, 6, 64, 64])\n",
      "SHAPES torch.Size([64, 10, 6, 64, 64]) torch.Size([26, 6, 64, 64])\n",
      "SHAPES torch.Size([64, 10, 6, 64, 64]) torch.Size([26, 6, 64, 64])\n",
      "SHAPES torch.Size([64, 10, 6, 64, 64]) torch.Size([26, 6, 64, 64])\n",
      "SHAPES torch.Size([64, 10, 6, 64, 64]) torch.Size([26, 6, 64, 64])\n",
      "SHAPES torch.Size([64, 10, 6, 64, 64]) torch.Size([26, 6, 64, 64])\n",
      "SHAPES torch.Size([64, 10, 6, 64, 64]) torch.Size([26, 6, 64, 64])\n",
      "SHAPES torch.Size([64, 10, 6, 64, 64]) torch.Size([26, 6, 64, 64])\n",
      "SHAPES torch.Size([64, 10, 6, 64, 64]) torch.Size([26, 6, 64, 64])\n",
      "SHAPES torch.Size([64, 10, 6, 64, 64]) torch.Size([26, 6, 64, 64])\n",
      "SHAPES torch.Size([64, 10, 6, 64, 64]) torch.Size([26, 6, 64, 64])\n",
      "SHAPES torch.Size([64, 10, 6, 64, 64]) torch.Size([26, 6, 64, 64])\n",
      "SHAPES torch.Size([64, 10, 6, 64, 64]) torch.Size([26, 6, 64, 64])\n",
      "SHAPES torch.Size([64, 10, 6, 64, 64]) torch.Size([26, 6, 64, 64])\n",
      "SHAPES torch.Size([64, 10, 6, 64, 64]) torch.Size([26, 6, 64, 64])\n",
      "SHAPES torch.Size([64, 10, 6, 64, 64]) torch.Size([26, 6, 64, 64])\n",
      "SHAPES torch.Size([64, 10, 6, 64, 64]) torch.Size([26, 6, 64, 64])\n",
      "SHAPES torch.Size([64, 10, 6, 64, 64]) torch.Size([26, 6, 64, 64])\n",
      "SHAPES torch.Size([64, 10, 6, 64, 64]) torch.Size([26, 6, 64, 64])\n",
      "SHAPES torch.Size([64, 10, 6, 64, 64]) torch.Size([26, 6, 64, 64])\n",
      "SHAPES torch.Size([64, 10, 6, 64, 64]) torch.Size([26, 6, 64, 64])\n",
      "SHAPES torch.Size([64, 10, 6, 64, 64]) torch.Size([26, 6, 64, 64])\n",
      "SHAPES torch.Size([64, 10, 6, 64, 64]) torch.Size([26, 6, 64, 64])\n",
      "SHAPES torch.Size([64, 10, 6, 64, 64]) torch.Size([26, 6, 64, 64])\n",
      "SHAPES torch.Size([64, 10, 6, 64, 64]) torch.Size([26, 6, 64, 64])\n",
      "SHAPES torch.Size([64, 10, 6, 64, 64]) torch.Size([26, 6, 64, 64])\n",
      "SHAPES torch.Size([64, 10, 6, 64, 64]) torch.Size([26, 6, 64, 64])\n",
      "SHAPES torch.Size([64, 10, 6, 64, 64]) torch.Size([26, 6, 64, 64])\n",
      "SHAPES torch.Size([64, 10, 6, 64, 64]) torch.Size([26, 6, 64, 64])\n"
     ]
    },
    {
     "data": {
      "application/vnd.jupyter.widget-view+json": {
       "model_id": "",
       "version_major": 2,
       "version_minor": 0
      },
      "text/plain": [
       "HBox(children=(FloatProgress(value=1.0, bar_style='info', description='Validating', layout=Layout(flex='2'), m…"
      ]
     },
     "metadata": {},
     "output_type": "display_data"
    },
    {
     "name": "stdout",
     "output_type": "stream",
     "text": [
      "SHAPES torch.Size([64, 10, 6, 64, 64]) torch.Size([26, 6, 64, 64])\n",
      "SHAPES torch.Size([64, 10, 6, 64, 64]) torch.Size([26, 6, 64, 64])\n",
      "SHAPES torch.Size([64, 10, 6, 64, 64]) torch.Size([26, 6, 64, 64])\n",
      "SHAPES torch.Size([64, 10, 6, 64, 64]) torch.Size([26, 6, 64, 64])\n",
      "SHAPES torch.Size([24, 10, 6, 64, 64]) torch.Size([26, 6, 64, 64])\n",
      "\n"
     ]
    },
    {
     "name": "stderr",
     "output_type": "stream",
     "text": [
      "[I 2020-09-14 21:40:58,127] Trial 14 finished with value: 950.1677856445312 and parameters: {'nCelltypes': 26, 'kernel1': 6, 'kernel2': 10, 'nLayers': 5, 'nBlockChannels': 6, 'nonlinearity': 'leaky_relu', 'weight_decay': 0.002343118535318332}. Best is trial 14 with value: 950.167785644531.\n"
     ]
    },
    {
     "name": "stdout",
     "output_type": "stream",
     "text": [
      "https://ui.neptune.ai/tbenst/retina/e/RET-680\n"
     ]
    },
    {
     "name": "stderr",
     "output_type": "stream",
     "text": [
      "NeptuneLogger will work in online mode\n",
      "GPU available: True, used: True\n",
      "TPU available: False, using: 0 TPU cores\n",
      "CUDA_VISIBLE_DEVICES: [9]\n"
     ]
    },
    {
     "name": "stdout",
     "output_type": "stream",
     "text": [
      "SHAPES torch.Size([1, 10, 6, 64, 64]) torch.Size([19, 6, 64, 64])\n"
     ]
    },
    {
     "name": "stderr",
     "output_type": "stream",
     "text": [
      "\n",
      "  | Name   | Type        | Params | In sizes         | Out sizes     \n",
      "---------------------------------------------------------------------------\n",
      "0 | conv1  | Conv2d      | 30 K   | [1, 190, 64, 64] | [1, 2, 64, 64]\n",
      "1 | bn1    | BatchNorm2d | 4      | [1, 2, 64, 64]   | [1, 2, 64, 64]\n",
      "2 | layers | Sequential  | 2 K    | [1, 2, 64, 64]   | [1, 1, 64, 64]\n"
     ]
    },
    {
     "name": "stdout",
     "output_type": "stream",
     "text": [
      "SHAPES torch.Size([64, 10, 6, 64, 64]) torch.Size([19, 6, 64, 64])\n"
     ]
    },
    {
     "data": {
      "application/vnd.jupyter.widget-view+json": {
       "model_id": "a4fbc67172fe46dd940a6b1298281cef",
       "version_major": 2,
       "version_minor": 0
      },
      "text/plain": [
       "HBox(children=(FloatProgress(value=0.0, description='Finding best initial lr', style=ProgressStyle(description…"
      ]
     },
     "metadata": {},
     "output_type": "display_data"
    },
    {
     "name": "stdout",
     "output_type": "stream",
     "text": [
      "SHAPES torch.Size([64, 10, 6, 64, 64]) torch.Size([19, 6, 64, 64])\n",
      "SHAPES torch.Size([64, 10, 6, 64, 64]) torch.Size([19, 6, 64, 64])\n",
      "SHAPES torch.Size([64, 10, 6, 64, 64]) torch.Size([19, 6, 64, 64])\n",
      "SHAPES torch.Size([64, 10, 6, 64, 64]) torch.Size([19, 6, 64, 64])\n",
      "SHAPES torch.Size([64, 10, 6, 64, 64]) torch.Size([19, 6, 64, 64])\n",
      "SHAPES torch.Size([64, 10, 6, 64, 64]) torch.Size([19, 6, 64, 64])\n",
      "SHAPES torch.Size([64, 10, 6, 64, 64]) torch.Size([19, 6, 64, 64])\n",
      "SHAPES torch.Size([64, 10, 6, 64, 64]) torch.Size([19, 6, 64, 64])\n",
      "SHAPES torch.Size([64, 10, 6, 64, 64]) torch.Size([19, 6, 64, 64])\n",
      "SHAPES torch.Size([64, 10, 6, 64, 64]) torch.Size([19, 6, 64, 64])\n",
      "SHAPES torch.Size([64, 10, 6, 64, 64]) torch.Size([19, 6, 64, 64])\n",
      "SHAPES torch.Size([64, 10, 6, 64, 64]) torch.Size([19, 6, 64, 64])\n",
      "SHAPES torch.Size([64, 10, 6, 64, 64]) torch.Size([19, 6, 64, 64])\n",
      "SHAPES torch.Size([64, 10, 6, 64, 64]) torch.Size([19, 6, 64, 64])\n",
      "SHAPES torch.Size([64, 10, 6, 64, 64]) torch.Size([19, 6, 64, 64])\n",
      "SHAPES torch.Size([64, 10, 6, 64, 64]) torch.Size([19, 6, 64, 64])\n",
      "SHAPES torch.Size([64, 10, 6, 64, 64]) torch.Size([19, 6, 64, 64])\n",
      "SHAPES torch.Size([64, 10, 6, 64, 64]) torch.Size([19, 6, 64, 64])\n",
      "SHAPES torch.Size([64, 10, 6, 64, 64]) torch.Size([19, 6, 64, 64])\n",
      "SHAPES torch.Size([64, 10, 6, 64, 64]) torch.Size([19, 6, 64, 64])\n",
      "SHAPES torch.Size([64, 10, 6, 64, 64]) torch.Size([19, 6, 64, 64])\n",
      "SHAPES torch.Size([64, 10, 6, 64, 64]) torch.Size([19, 6, 64, 64])\n",
      "SHAPES torch.Size([64, 10, 6, 64, 64]) torch.Size([19, 6, 64, 64])\n",
      "SHAPES torch.Size([64, 10, 6, 64, 64]) torch.Size([19, 6, 64, 64])\n",
      "SHAPES torch.Size([64, 10, 6, 64, 64]) torch.Size([19, 6, 64, 64])\n",
      "SHAPES torch.Size([64, 10, 6, 64, 64]) torch.Size([19, 6, 64, 64])\n",
      "SHAPES torch.Size([64, 10, 6, 64, 64]) torch.Size([19, 6, 64, 64])\n",
      "SHAPES torch.Size([64, 10, 6, 64, 64]) torch.Size([19, 6, 64, 64])\n",
      "SHAPES torch.Size([64, 10, 6, 64, 64]) torch.Size([19, 6, 64, 64])\n",
      "SHAPES torch.Size([64, 10, 6, 64, 64]) torch.Size([19, 6, 64, 64])\n",
      "SHAPES torch.Size([64, 10, 6, 64, 64]) torch.Size([19, 6, 64, 64])\n",
      "SHAPES torch.Size([64, 10, 6, 64, 64]) torch.Size([19, 6, 64, 64])\n",
      "SHAPES torch.Size([64, 10, 6, 64, 64]) torch.Size([19, 6, 64, 64])\n",
      "SHAPES torch.Size([64, 10, 6, 64, 64]) torch.Size([19, 6, 64, 64])\n",
      "SHAPES torch.Size([64, 10, 6, 64, 64]) torch.Size([19, 6, 64, 64])\n",
      "SHAPES torch.Size([64, 10, 6, 64, 64]) torch.Size([19, 6, 64, 64])\n",
      "SHAPES torch.Size([64, 10, 6, 64, 64]) torch.Size([19, 6, 64, 64])\n",
      "SHAPES torch.Size([64, 10, 6, 64, 64]) torch.Size([19, 6, 64, 64])\n",
      "SHAPES torch.Size([64, 10, 6, 64, 64]) torch.Size([19, 6, 64, 64])\n",
      "SHAPES torch.Size([24, 10, 6, 64, 64]) torch.Size([19, 6, 64, 64])\n",
      "SHAPES torch.Size([64, 10, 6, 64, 64]) torch.Size([19, 6, 64, 64])\n",
      "SHAPES torch.Size([64, 10, 6, 64, 64]) torch.Size([19, 6, 64, 64])\n",
      "SHAPES torch.Size([64, 10, 6, 64, 64]) torch.Size([19, 6, 64, 64])\n",
      "SHAPES torch.Size([64, 10, 6, 64, 64]) torch.Size([19, 6, 64, 64])\n",
      "SHAPES torch.Size([64, 10, 6, 64, 64]) torch.Size([19, 6, 64, 64])\n",
      "SHAPES torch.Size([64, 10, 6, 64, 64]) torch.Size([19, 6, 64, 64])\n",
      "SHAPES torch.Size([64, 10, 6, 64, 64]) torch.Size([19, 6, 64, 64])\n",
      "SHAPES torch.Size([64, 10, 6, 64, 64]) torch.Size([19, 6, 64, 64])\n",
      "SHAPES torch.Size([64, 10, 6, 64, 64]) torch.Size([19, 6, 64, 64])\n",
      "SHAPES torch.Size([64, 10, 6, 64, 64]) torch.Size([19, 6, 64, 64])\n",
      "SHAPES torch.Size([64, 10, 6, 64, 64]) torch.Size([19, 6, 64, 64])\n",
      "SHAPES torch.Size([64, 10, 6, 64, 64]) torch.Size([19, 6, 64, 64])\n",
      "SHAPES torch.Size([64, 10, 6, 64, 64]) torch.Size([19, 6, 64, 64])\n",
      "SHAPES torch.Size([64, 10, 6, 64, 64]) torch.Size([19, 6, 64, 64])\n",
      "SHAPES torch.Size([64, 10, 6, 64, 64]) torch.Size([19, 6, 64, 64])\n",
      "SHAPES torch.Size([64, 10, 6, 64, 64]) torch.Size([19, 6, 64, 64])\n",
      "SHAPES torch.Size([64, 10, 6, 64, 64]) torch.Size([19, 6, 64, 64])\n",
      "SHAPES torch.Size([64, 10, 6, 64, 64]) torch.Size([19, 6, 64, 64])\n",
      "SHAPES torch.Size([64, 10, 6, 64, 64]) torch.Size([19, 6, 64, 64])\n",
      "SHAPES torch.Size([64, 10, 6, 64, 64]) torch.Size([19, 6, 64, 64])\n",
      "SHAPES torch.Size([64, 10, 6, 64, 64]) torch.Size([19, 6, 64, 64])\n",
      "SHAPES torch.Size([64, 10, 6, 64, 64]) torch.Size([19, 6, 64, 64])\n",
      "SHAPES torch.Size([64, 10, 6, 64, 64]) torch.Size([19, 6, 64, 64])\n",
      "SHAPES torch.Size([64, 10, 6, 64, 64]) torch.Size([19, 6, 64, 64])\n",
      "SHAPES torch.Size([64, 10, 6, 64, 64]) torch.Size([19, 6, 64, 64])\n",
      "SHAPES torch.Size([64, 10, 6, 64, 64]) torch.Size([19, 6, 64, 64])\n",
      "SHAPES torch.Size([64, 10, 6, 64, 64]) torch.Size([19, 6, 64, 64])\n",
      "SHAPES torch.Size([64, 10, 6, 64, 64]) torch.Size([19, 6, 64, 64])\n",
      "SHAPES torch.Size([64, 10, 6, 64, 64]) torch.Size([19, 6, 64, 64])\n",
      "SHAPES torch.Size([64, 10, 6, 64, 64]) torch.Size([19, 6, 64, 64])\n",
      "SHAPES torch.Size([64, 10, 6, 64, 64]) torch.Size([19, 6, 64, 64])\n",
      "SHAPES torch.Size([64, 10, 6, 64, 64]) torch.Size([19, 6, 64, 64])\n",
      "SHAPES torch.Size([64, 10, 6, 64, 64]) torch.Size([19, 6, 64, 64])\n",
      "SHAPES torch.Size([64, 10, 6, 64, 64]) torch.Size([19, 6, 64, 64])\n",
      "SHAPES torch.Size([64, 10, 6, 64, 64]) torch.Size([19, 6, 64, 64])\n",
      "SHAPES torch.Size([64, 10, 6, 64, 64]) torch.Size([19, 6, 64, 64])\n",
      "SHAPES torch.Size([64, 10, 6, 64, 64]) torch.Size([19, 6, 64, 64])\n",
      "SHAPES torch.Size([64, 10, 6, 64, 64]) torch.Size([19, 6, 64, 64])\n",
      "SHAPES torch.Size([64, 10, 6, 64, 64]) torch.Size([19, 6, 64, 64])\n",
      "SHAPES torch.Size([24, 10, 6, 64, 64]) torch.Size([19, 6, 64, 64])\n",
      "SHAPES torch.Size([64, 10, 6, 64, 64]) torch.Size([19, 6, 64, 64])\n",
      "SHAPES torch.Size([64, 10, 6, 64, 64]) torch.Size([19, 6, 64, 64])\n",
      "SHAPES torch.Size([64, 10, 6, 64, 64]) torch.Size([19, 6, 64, 64])\n",
      "SHAPES torch.Size([64, 10, 6, 64, 64]) torch.Size([19, 6, 64, 64])\n",
      "SHAPES torch.Size([64, 10, 6, 64, 64]) torch.Size([19, 6, 64, 64])\n",
      "SHAPES torch.Size([64, 10, 6, 64, 64]) torch.Size([19, 6, 64, 64])\n",
      "SHAPES torch.Size([64, 10, 6, 64, 64]) torch.Size([19, 6, 64, 64])\n",
      "SHAPES torch.Size([64, 10, 6, 64, 64]) torch.Size([19, 6, 64, 64])\n",
      "SHAPES torch.Size([64, 10, 6, 64, 64]) torch.Size([19, 6, 64, 64])\n",
      "SHAPES torch.Size([64, 10, 6, 64, 64]) torch.Size([19, 6, 64, 64])\n",
      "SHAPES torch.Size([64, 10, 6, 64, 64]) torch.Size([19, 6, 64, 64])\n",
      "SHAPES torch.Size([64, 10, 6, 64, 64]) torch.Size([19, 6, 64, 64])\n",
      "SHAPES torch.Size([64, 10, 6, 64, 64]) torch.Size([19, 6, 64, 64])\n",
      "SHAPES torch.Size([64, 10, 6, 64, 64]) torch.Size([19, 6, 64, 64])\n",
      "SHAPES torch.Size([64, 10, 6, 64, 64]) torch.Size([19, 6, 64, 64])\n",
      "SHAPES torch.Size([64, 10, 6, 64, 64]) torch.Size([19, 6, 64, 64])\n",
      "SHAPES torch.Size([64, 10, 6, 64, 64]) torch.Size([19, 6, 64, 64])\n",
      "SHAPES torch.Size([64, 10, 6, 64, 64]) torch.Size([19, 6, 64, 64])\n",
      "SHAPES torch.Size([64, 10, 6, 64, 64]) torch.Size([19, 6, 64, 64])\n",
      "SHAPES torch.Size([64, 10, 6, 64, 64]) torch.Size([19, 6, 64, 64])\n",
      "SHAPES torch.Size([64, 10, 6, 64, 64]) torch.Size([19, 6, 64, 64])\n",
      "SHAPES torch.Size([64, 10, 6, 64, 64]) torch.Size([19, 6, 64, 64])\n",
      "SHAPES torch.Size([64, 10, 6, 64, 64]) torch.Size([19, 6, 64, 64])\n",
      "SHAPES torch.Size([64, 10, 6, 64, 64]) torch.Size([19, 6, 64, 64])\n",
      "SHAPES torch.Size([64, 10, 6, 64, 64]) torch.Size([19, 6, 64, 64])\n",
      "SHAPES torch.Size([64, 10, 6, 64, 64]) torch.Size([19, 6, 64, 64])\n",
      "SHAPES torch.Size([64, 10, 6, 64, 64]) torch.Size([19, 6, 64, 64])\n",
      "SHAPES torch.Size([64, 10, 6, 64, 64]) torch.Size([19, 6, 64, 64])\n",
      "SHAPES torch.Size([64, 10, 6, 64, 64]) torch.Size([19, 6, 64, 64])\n",
      "SHAPES torch.Size([64, 10, 6, 64, 64]) torch.Size([19, 6, 64, 64])\n"
     ]
    },
    {
     "name": "stderr",
     "output_type": "stream",
     "text": [
      "Saving latest checkpoint..\n",
      "Learning rate set to 0.006918309709189364\n"
     ]
    },
    {
     "name": "stdout",
     "output_type": "stream",
     "text": [
      "SHAPES torch.Size([1, 10, 6, 64, 64]) torch.Size([19, 6, 64, 64])\n"
     ]
    },
    {
     "name": "stderr",
     "output_type": "stream",
     "text": [
      "\n",
      "  | Name   | Type        | Params | In sizes         | Out sizes     \n",
      "---------------------------------------------------------------------------\n",
      "0 | conv1  | Conv2d      | 30 K   | [1, 190, 64, 64] | [1, 2, 64, 64]\n",
      "1 | bn1    | BatchNorm2d | 4      | [1, 2, 64, 64]   | [1, 2, 64, 64]\n",
      "2 | layers | Sequential  | 2 K    | [1, 2, 64, 64]   | [1, 1, 64, 64]\n"
     ]
    },
    {
     "data": {
      "application/vnd.jupyter.widget-view+json": {
       "model_id": "",
       "version_major": 2,
       "version_minor": 0
      },
      "text/plain": [
       "HBox(children=(FloatProgress(value=1.0, bar_style='info', description='Validation sanity check', layout=Layout…"
      ]
     },
     "metadata": {},
     "output_type": "display_data"
    },
    {
     "name": "stdout",
     "output_type": "stream",
     "text": [
      "SHAPES torch.Size([64, 10, 6, 64, 64]) torch.Size([19, 6, 64, 64])\n"
     ]
    },
    {
     "data": {
      "application/vnd.jupyter.widget-view+json": {
       "model_id": "2641464dca4f49108b0d9b3cf9019908",
       "version_major": 2,
       "version_minor": 0
      },
      "text/plain": [
       "HBox(children=(FloatProgress(value=1.0, bar_style='info', description='Training', layout=Layout(flex='2'), max…"
      ]
     },
     "metadata": {},
     "output_type": "display_data"
    },
    {
     "name": "stdout",
     "output_type": "stream",
     "text": [
      "SHAPES torch.Size([64, 10, 6, 64, 64]) torch.Size([19, 6, 64, 64])\n",
      "SHAPES torch.Size([64, 10, 6, 64, 64]) torch.Size([19, 6, 64, 64])\n",
      "SHAPES torch.Size([64, 10, 6, 64, 64]) torch.Size([19, 6, 64, 64])\n",
      "SHAPES torch.Size([64, 10, 6, 64, 64]) torch.Size([19, 6, 64, 64])\n",
      "SHAPES torch.Size([64, 10, 6, 64, 64]) torch.Size([19, 6, 64, 64])\n",
      "SHAPES torch.Size([64, 10, 6, 64, 64]) torch.Size([19, 6, 64, 64])\n",
      "SHAPES torch.Size([64, 10, 6, 64, 64]) torch.Size([19, 6, 64, 64])\n",
      "SHAPES torch.Size([64, 10, 6, 64, 64]) torch.Size([19, 6, 64, 64])\n",
      "SHAPES torch.Size([64, 10, 6, 64, 64]) torch.Size([19, 6, 64, 64])\n",
      "SHAPES torch.Size([64, 10, 6, 64, 64]) torch.Size([19, 6, 64, 64])\n",
      "SHAPES torch.Size([64, 10, 6, 64, 64]) torch.Size([19, 6, 64, 64])\n",
      "SHAPES torch.Size([64, 10, 6, 64, 64]) torch.Size([19, 6, 64, 64])\n",
      "SHAPES torch.Size([64, 10, 6, 64, 64]) torch.Size([19, 6, 64, 64])\n",
      "SHAPES torch.Size([64, 10, 6, 64, 64]) torch.Size([19, 6, 64, 64])\n",
      "SHAPES torch.Size([64, 10, 6, 64, 64]) torch.Size([19, 6, 64, 64])\n",
      "SHAPES torch.Size([64, 10, 6, 64, 64]) torch.Size([19, 6, 64, 64])\n",
      "SHAPES torch.Size([64, 10, 6, 64, 64]) torch.Size([19, 6, 64, 64])\n",
      "SHAPES torch.Size([64, 10, 6, 64, 64]) torch.Size([19, 6, 64, 64])\n",
      "SHAPES torch.Size([64, 10, 6, 64, 64]) torch.Size([19, 6, 64, 64])\n",
      "SHAPES torch.Size([64, 10, 6, 64, 64]) torch.Size([19, 6, 64, 64])\n",
      "SHAPES torch.Size([64, 10, 6, 64, 64]) torch.Size([19, 6, 64, 64])\n",
      "SHAPES torch.Size([64, 10, 6, 64, 64]) torch.Size([19, 6, 64, 64])\n",
      "SHAPES torch.Size([64, 10, 6, 64, 64]) torch.Size([19, 6, 64, 64])\n",
      "SHAPES torch.Size([64, 10, 6, 64, 64]) torch.Size([19, 6, 64, 64])\n",
      "SHAPES torch.Size([64, 10, 6, 64, 64]) torch.Size([19, 6, 64, 64])\n",
      "SHAPES torch.Size([64, 10, 6, 64, 64]) torch.Size([19, 6, 64, 64])\n",
      "SHAPES torch.Size([64, 10, 6, 64, 64]) torch.Size([19, 6, 64, 64])\n",
      "SHAPES torch.Size([64, 10, 6, 64, 64]) torch.Size([19, 6, 64, 64])\n",
      "SHAPES torch.Size([64, 10, 6, 64, 64]) torch.Size([19, 6, 64, 64])\n",
      "SHAPES torch.Size([64, 10, 6, 64, 64]) torch.Size([19, 6, 64, 64])\n",
      "SHAPES torch.Size([64, 10, 6, 64, 64]) torch.Size([19, 6, 64, 64])\n",
      "SHAPES torch.Size([64, 10, 6, 64, 64]) torch.Size([19, 6, 64, 64])\n",
      "SHAPES torch.Size([64, 10, 6, 64, 64]) torch.Size([19, 6, 64, 64])\n",
      "SHAPES torch.Size([64, 10, 6, 64, 64]) torch.Size([19, 6, 64, 64])\n",
      "SHAPES torch.Size([64, 10, 6, 64, 64]) torch.Size([19, 6, 64, 64])\n"
     ]
    },
    {
     "data": {
      "application/vnd.jupyter.widget-view+json": {
       "model_id": "",
       "version_major": 2,
       "version_minor": 0
      },
      "text/plain": [
       "HBox(children=(FloatProgress(value=1.0, bar_style='info', description='Validating', layout=Layout(flex='2'), m…"
      ]
     },
     "metadata": {},
     "output_type": "display_data"
    },
    {
     "name": "stdout",
     "output_type": "stream",
     "text": [
      "SHAPES torch.Size([64, 10, 6, 64, 64]) torch.Size([19, 6, 64, 64])\n",
      "SHAPES torch.Size([64, 10, 6, 64, 64]) torch.Size([19, 6, 64, 64])\n",
      "SHAPES torch.Size([64, 10, 6, 64, 64]) torch.Size([19, 6, 64, 64])\n",
      "SHAPES torch.Size([64, 10, 6, 64, 64]) torch.Size([19, 6, 64, 64])\n",
      "SHAPES torch.Size([24, 10, 6, 64, 64]) torch.Size([19, 6, 64, 64])\n",
      "\n",
      "SHAPES torch.Size([64, 10, 6, 64, 64]) torch.Size([19, 6, 64, 64])\n",
      "SHAPES torch.Size([64, 10, 6, 64, 64]) torch.Size([19, 6, 64, 64])\n",
      "SHAPES torch.Size([64, 10, 6, 64, 64]) torch.Size([19, 6, 64, 64])\n",
      "SHAPES torch.Size([64, 10, 6, 64, 64]) torch.Size([19, 6, 64, 64])\n",
      "SHAPES torch.Size([64, 10, 6, 64, 64]) torch.Size([19, 6, 64, 64])\n",
      "SHAPES torch.Size([64, 10, 6, 64, 64]) torch.Size([19, 6, 64, 64])\n",
      "SHAPES torch.Size([64, 10, 6, 64, 64]) torch.Size([19, 6, 64, 64])\n",
      "SHAPES torch.Size([64, 10, 6, 64, 64]) torch.Size([19, 6, 64, 64])\n",
      "SHAPES torch.Size([64, 10, 6, 64, 64]) torch.Size([19, 6, 64, 64])\n",
      "SHAPES torch.Size([64, 10, 6, 64, 64]) torch.Size([19, 6, 64, 64])\n",
      "SHAPES torch.Size([64, 10, 6, 64, 64]) torch.Size([19, 6, 64, 64])\n",
      "SHAPES torch.Size([64, 10, 6, 64, 64]) torch.Size([19, 6, 64, 64])\n",
      "SHAPES torch.Size([64, 10, 6, 64, 64]) torch.Size([19, 6, 64, 64])\n",
      "SHAPES torch.Size([64, 10, 6, 64, 64]) torch.Size([19, 6, 64, 64])\n",
      "SHAPES torch.Size([64, 10, 6, 64, 64]) torch.Size([19, 6, 64, 64])\n",
      "SHAPES torch.Size([64, 10, 6, 64, 64]) torch.Size([19, 6, 64, 64])\n",
      "SHAPES torch.Size([64, 10, 6, 64, 64]) torch.Size([19, 6, 64, 64])\n",
      "SHAPES torch.Size([64, 10, 6, 64, 64]) torch.Size([19, 6, 64, 64])\n",
      "SHAPES torch.Size([64, 10, 6, 64, 64]) torch.Size([19, 6, 64, 64])\n",
      "SHAPES torch.Size([64, 10, 6, 64, 64]) torch.Size([19, 6, 64, 64])\n",
      "SHAPES torch.Size([64, 10, 6, 64, 64]) torch.Size([19, 6, 64, 64])\n",
      "SHAPES torch.Size([64, 10, 6, 64, 64]) torch.Size([19, 6, 64, 64])\n",
      "SHAPES torch.Size([64, 10, 6, 64, 64]) torch.Size([19, 6, 64, 64])\n",
      "SHAPES torch.Size([64, 10, 6, 64, 64]) torch.Size([19, 6, 64, 64])\n",
      "SHAPES torch.Size([64, 10, 6, 64, 64]) torch.Size([19, 6, 64, 64])\n",
      "SHAPES torch.Size([64, 10, 6, 64, 64]) torch.Size([19, 6, 64, 64])\n",
      "SHAPES torch.Size([64, 10, 6, 64, 64]) torch.Size([19, 6, 64, 64])\n",
      "SHAPES torch.Size([64, 10, 6, 64, 64]) torch.Size([19, 6, 64, 64])\n",
      "SHAPES torch.Size([64, 10, 6, 64, 64]) torch.Size([19, 6, 64, 64])\n",
      "SHAPES torch.Size([64, 10, 6, 64, 64]) torch.Size([19, 6, 64, 64])\n",
      "SHAPES torch.Size([64, 10, 6, 64, 64]) torch.Size([19, 6, 64, 64])\n",
      "SHAPES torch.Size([64, 10, 6, 64, 64]) torch.Size([19, 6, 64, 64])\n",
      "SHAPES torch.Size([64, 10, 6, 64, 64]) torch.Size([19, 6, 64, 64])\n",
      "SHAPES torch.Size([64, 10, 6, 64, 64]) torch.Size([19, 6, 64, 64])\n",
      "SHAPES torch.Size([64, 10, 6, 64, 64]) torch.Size([19, 6, 64, 64])\n"
     ]
    },
    {
     "data": {
      "application/vnd.jupyter.widget-view+json": {
       "model_id": "",
       "version_major": 2,
       "version_minor": 0
      },
      "text/plain": [
       "HBox(children=(FloatProgress(value=1.0, bar_style='info', description='Validating', layout=Layout(flex='2'), m…"
      ]
     },
     "metadata": {},
     "output_type": "display_data"
    },
    {
     "name": "stdout",
     "output_type": "stream",
     "text": [
      "SHAPES torch.Size([64, 10, 6, 64, 64]) torch.Size([19, 6, 64, 64])\n",
      "SHAPES torch.Size([64, 10, 6, 64, 64]) torch.Size([19, 6, 64, 64])\n",
      "SHAPES torch.Size([64, 10, 6, 64, 64]) torch.Size([19, 6, 64, 64])\n",
      "SHAPES torch.Size([64, 10, 6, 64, 64]) torch.Size([19, 6, 64, 64])\n",
      "SHAPES torch.Size([24, 10, 6, 64, 64]) torch.Size([19, 6, 64, 64])\n",
      "SHAPES torch.Size([64, 10, 6, 64, 64]) torch.Size([19, 6, 64, 64])\n",
      "SHAPES torch.Size([64, 10, 6, 64, 64]) torch.Size([19, 6, 64, 64])\n",
      "SHAPES torch.Size([64, 10, 6, 64, 64]) torch.Size([19, 6, 64, 64])\n",
      "SHAPES torch.Size([64, 10, 6, 64, 64]) torch.Size([19, 6, 64, 64])\n",
      "SHAPES torch.Size([64, 10, 6, 64, 64]) torch.Size([19, 6, 64, 64])\n",
      "SHAPES torch.Size([64, 10, 6, 64, 64]) torch.Size([19, 6, 64, 64])\n",
      "SHAPES torch.Size([64, 10, 6, 64, 64]) torch.Size([19, 6, 64, 64])\n",
      "SHAPES torch.Size([64, 10, 6, 64, 64]) torch.Size([19, 6, 64, 64])\n",
      "SHAPES torch.Size([64, 10, 6, 64, 64]) torch.Size([19, 6, 64, 64])\n",
      "SHAPES torch.Size([64, 10, 6, 64, 64]) torch.Size([19, 6, 64, 64])\n",
      "SHAPES torch.Size([64, 10, 6, 64, 64]) torch.Size([19, 6, 64, 64])\n",
      "SHAPES torch.Size([64, 10, 6, 64, 64]) torch.Size([19, 6, 64, 64])\n",
      "SHAPES torch.Size([64, 10, 6, 64, 64]) torch.Size([19, 6, 64, 64])\n",
      "SHAPES torch.Size([64, 10, 6, 64, 64]) torch.Size([19, 6, 64, 64])\n",
      "SHAPES torch.Size([64, 10, 6, 64, 64]) torch.Size([19, 6, 64, 64])\n",
      "SHAPES torch.Size([64, 10, 6, 64, 64]) torch.Size([19, 6, 64, 64])\n",
      "SHAPES torch.Size([64, 10, 6, 64, 64]) torch.Size([19, 6, 64, 64])\n",
      "SHAPES torch.Size([64, 10, 6, 64, 64]) torch.Size([19, 6, 64, 64])\n",
      "SHAPES torch.Size([64, 10, 6, 64, 64]) torch.Size([19, 6, 64, 64])\n",
      "SHAPES torch.Size([64, 10, 6, 64, 64]) torch.Size([19, 6, 64, 64])\n",
      "SHAPES torch.Size([64, 10, 6, 64, 64]) torch.Size([19, 6, 64, 64])\n",
      "SHAPES torch.Size([64, 10, 6, 64, 64]) torch.Size([19, 6, 64, 64])\n",
      "SHAPES torch.Size([64, 10, 6, 64, 64]) torch.Size([19, 6, 64, 64])\n",
      "SHAPES torch.Size([64, 10, 6, 64, 64]) torch.Size([19, 6, 64, 64])\n",
      "SHAPES torch.Size([64, 10, 6, 64, 64]) torch.Size([19, 6, 64, 64])\n",
      "SHAPES torch.Size([64, 10, 6, 64, 64]) torch.Size([19, 6, 64, 64])\n",
      "SHAPES torch.Size([64, 10, 6, 64, 64]) torch.Size([19, 6, 64, 64])\n",
      "SHAPES torch.Size([64, 10, 6, 64, 64]) torch.Size([19, 6, 64, 64])\n",
      "SHAPES torch.Size([64, 10, 6, 64, 64]) torch.Size([19, 6, 64, 64])\n",
      "SHAPES torch.Size([64, 10, 6, 64, 64]) torch.Size([19, 6, 64, 64])\n",
      "SHAPES torch.Size([64, 10, 6, 64, 64]) torch.Size([19, 6, 64, 64])\n",
      "SHAPES torch.Size([64, 10, 6, 64, 64]) torch.Size([19, 6, 64, 64])\n",
      "SHAPES torch.Size([64, 10, 6, 64, 64]) torch.Size([19, 6, 64, 64])\n",
      "SHAPES torch.Size([64, 10, 6, 64, 64]) torch.Size([19, 6, 64, 64])\n",
      "SHAPES torch.Size([64, 10, 6, 64, 64]) torch.Size([19, 6, 64, 64])\n"
     ]
    },
    {
     "data": {
      "application/vnd.jupyter.widget-view+json": {
       "model_id": "",
       "version_major": 2,
       "version_minor": 0
      },
      "text/plain": [
       "HBox(children=(FloatProgress(value=1.0, bar_style='info', description='Validating', layout=Layout(flex='2'), m…"
      ]
     },
     "metadata": {},
     "output_type": "display_data"
    },
    {
     "name": "stdout",
     "output_type": "stream",
     "text": [
      "SHAPES torch.Size([64, 10, 6, 64, 64]) torch.Size([19, 6, 64, 64])\n",
      "SHAPES torch.Size([64, 10, 6, 64, 64]) torch.Size([19, 6, 64, 64])\n",
      "SHAPES torch.Size([64, 10, 6, 64, 64]) torch.Size([19, 6, 64, 64])\n",
      "SHAPES torch.Size([64, 10, 6, 64, 64]) torch.Size([19, 6, 64, 64])\n",
      "SHAPES torch.Size([24, 10, 6, 64, 64]) torch.Size([19, 6, 64, 64])\n",
      "SHAPES torch.Size([64, 10, 6, 64, 64]) torch.Size([19, 6, 64, 64])\n",
      "SHAPES torch.Size([64, 10, 6, 64, 64]) torch.Size([19, 6, 64, 64])\n",
      "SHAPES torch.Size([64, 10, 6, 64, 64]) torch.Size([19, 6, 64, 64])\n",
      "SHAPES torch.Size([64, 10, 6, 64, 64]) torch.Size([19, 6, 64, 64])\n",
      "SHAPES torch.Size([64, 10, 6, 64, 64]) torch.Size([19, 6, 64, 64])\n",
      "SHAPES torch.Size([64, 10, 6, 64, 64]) torch.Size([19, 6, 64, 64])\n",
      "SHAPES torch.Size([64, 10, 6, 64, 64]) torch.Size([19, 6, 64, 64])\n",
      "SHAPES torch.Size([64, 10, 6, 64, 64]) torch.Size([19, 6, 64, 64])\n",
      "SHAPES torch.Size([64, 10, 6, 64, 64]) torch.Size([19, 6, 64, 64])\n",
      "SHAPES torch.Size([64, 10, 6, 64, 64]) torch.Size([19, 6, 64, 64])\n",
      "SHAPES torch.Size([64, 10, 6, 64, 64]) torch.Size([19, 6, 64, 64])\n",
      "SHAPES torch.Size([64, 10, 6, 64, 64]) torch.Size([19, 6, 64, 64])\n",
      "SHAPES torch.Size([64, 10, 6, 64, 64]) torch.Size([19, 6, 64, 64])\n",
      "SHAPES torch.Size([64, 10, 6, 64, 64]) torch.Size([19, 6, 64, 64])\n",
      "SHAPES torch.Size([64, 10, 6, 64, 64]) torch.Size([19, 6, 64, 64])\n",
      "SHAPES torch.Size([64, 10, 6, 64, 64]) torch.Size([19, 6, 64, 64])\n",
      "SHAPES torch.Size([64, 10, 6, 64, 64]) torch.Size([19, 6, 64, 64])\n",
      "SHAPES torch.Size([64, 10, 6, 64, 64]) torch.Size([19, 6, 64, 64])\n",
      "SHAPES torch.Size([64, 10, 6, 64, 64]) torch.Size([19, 6, 64, 64])\n",
      "SHAPES torch.Size([64, 10, 6, 64, 64]) torch.Size([19, 6, 64, 64])\n",
      "SHAPES torch.Size([64, 10, 6, 64, 64]) torch.Size([19, 6, 64, 64])\n",
      "SHAPES torch.Size([64, 10, 6, 64, 64]) torch.Size([19, 6, 64, 64])\n",
      "SHAPES torch.Size([64, 10, 6, 64, 64]) torch.Size([19, 6, 64, 64])\n",
      "SHAPES torch.Size([64, 10, 6, 64, 64]) torch.Size([19, 6, 64, 64])\n",
      "SHAPES torch.Size([64, 10, 6, 64, 64]) torch.Size([19, 6, 64, 64])\n",
      "SHAPES torch.Size([64, 10, 6, 64, 64]) torch.Size([19, 6, 64, 64])\n",
      "SHAPES torch.Size([64, 10, 6, 64, 64]) torch.Size([19, 6, 64, 64])\n",
      "SHAPES torch.Size([64, 10, 6, 64, 64]) torch.Size([19, 6, 64, 64])\n",
      "SHAPES torch.Size([64, 10, 6, 64, 64]) torch.Size([19, 6, 64, 64])\n",
      "SHAPES torch.Size([64, 10, 6, 64, 64]) torch.Size([19, 6, 64, 64])\n",
      "SHAPES torch.Size([64, 10, 6, 64, 64]) torch.Size([19, 6, 64, 64])\n",
      "SHAPES torch.Size([64, 10, 6, 64, 64]) torch.Size([19, 6, 64, 64])\n",
      "SHAPES torch.Size([64, 10, 6, 64, 64]) torch.Size([19, 6, 64, 64])\n",
      "SHAPES torch.Size([64, 10, 6, 64, 64]) torch.Size([19, 6, 64, 64])\n",
      "SHAPES torch.Size([64, 10, 6, 64, 64]) torch.Size([19, 6, 64, 64])\n"
     ]
    },
    {
     "data": {
      "application/vnd.jupyter.widget-view+json": {
       "model_id": "",
       "version_major": 2,
       "version_minor": 0
      },
      "text/plain": [
       "HBox(children=(FloatProgress(value=1.0, bar_style='info', description='Validating', layout=Layout(flex='2'), m…"
      ]
     },
     "metadata": {},
     "output_type": "display_data"
    },
    {
     "name": "stdout",
     "output_type": "stream",
     "text": [
      "SHAPES torch.Size([64, 10, 6, 64, 64]) torch.Size([19, 6, 64, 64])\n",
      "SHAPES torch.Size([64, 10, 6, 64, 64]) torch.Size([19, 6, 64, 64])\n",
      "SHAPES torch.Size([64, 10, 6, 64, 64]) torch.Size([19, 6, 64, 64])\n",
      "SHAPES torch.Size([64, 10, 6, 64, 64]) torch.Size([19, 6, 64, 64])\n",
      "SHAPES torch.Size([24, 10, 6, 64, 64]) torch.Size([19, 6, 64, 64])\n",
      "SHAPES torch.Size([64, 10, 6, 64, 64]) torch.Size([19, 6, 64, 64])\n",
      "SHAPES torch.Size([64, 10, 6, 64, 64]) torch.Size([19, 6, 64, 64])\n",
      "SHAPES torch.Size([64, 10, 6, 64, 64]) torch.Size([19, 6, 64, 64])\n",
      "SHAPES torch.Size([64, 10, 6, 64, 64]) torch.Size([19, 6, 64, 64])\n",
      "SHAPES torch.Size([64, 10, 6, 64, 64]) torch.Size([19, 6, 64, 64])\n",
      "SHAPES torch.Size([64, 10, 6, 64, 64]) torch.Size([19, 6, 64, 64])\n",
      "SHAPES torch.Size([64, 10, 6, 64, 64]) torch.Size([19, 6, 64, 64])\n",
      "SHAPES torch.Size([64, 10, 6, 64, 64]) torch.Size([19, 6, 64, 64])\n",
      "SHAPES torch.Size([64, 10, 6, 64, 64]) torch.Size([19, 6, 64, 64])\n",
      "SHAPES torch.Size([64, 10, 6, 64, 64]) torch.Size([19, 6, 64, 64])\n",
      "SHAPES torch.Size([64, 10, 6, 64, 64]) torch.Size([19, 6, 64, 64])\n",
      "SHAPES torch.Size([64, 10, 6, 64, 64]) torch.Size([19, 6, 64, 64])\n",
      "SHAPES torch.Size([64, 10, 6, 64, 64]) torch.Size([19, 6, 64, 64])\n",
      "SHAPES torch.Size([64, 10, 6, 64, 64]) torch.Size([19, 6, 64, 64])\n",
      "SHAPES torch.Size([64, 10, 6, 64, 64]) torch.Size([19, 6, 64, 64])\n",
      "SHAPES torch.Size([64, 10, 6, 64, 64]) torch.Size([19, 6, 64, 64])\n",
      "SHAPES torch.Size([64, 10, 6, 64, 64]) torch.Size([19, 6, 64, 64])\n",
      "SHAPES torch.Size([64, 10, 6, 64, 64]) torch.Size([19, 6, 64, 64])\n",
      "SHAPES torch.Size([64, 10, 6, 64, 64]) torch.Size([19, 6, 64, 64])\n",
      "SHAPES torch.Size([64, 10, 6, 64, 64]) torch.Size([19, 6, 64, 64])\n",
      "SHAPES torch.Size([64, 10, 6, 64, 64]) torch.Size([19, 6, 64, 64])\n",
      "SHAPES torch.Size([64, 10, 6, 64, 64]) torch.Size([19, 6, 64, 64])\n",
      "SHAPES torch.Size([64, 10, 6, 64, 64]) torch.Size([19, 6, 64, 64])\n",
      "SHAPES torch.Size([64, 10, 6, 64, 64]) torch.Size([19, 6, 64, 64])\n",
      "SHAPES torch.Size([64, 10, 6, 64, 64]) torch.Size([19, 6, 64, 64])\n",
      "SHAPES torch.Size([64, 10, 6, 64, 64]) torch.Size([19, 6, 64, 64])\n",
      "SHAPES torch.Size([64, 10, 6, 64, 64]) torch.Size([19, 6, 64, 64])\n",
      "SHAPES torch.Size([64, 10, 6, 64, 64]) torch.Size([19, 6, 64, 64])\n",
      "SHAPES torch.Size([64, 10, 6, 64, 64]) torch.Size([19, 6, 64, 64])\n",
      "SHAPES torch.Size([64, 10, 6, 64, 64]) torch.Size([19, 6, 64, 64])\n",
      "SHAPES torch.Size([64, 10, 6, 64, 64]) torch.Size([19, 6, 64, 64])\n",
      "SHAPES torch.Size([64, 10, 6, 64, 64]) torch.Size([19, 6, 64, 64])\n",
      "SHAPES torch.Size([64, 10, 6, 64, 64]) torch.Size([19, 6, 64, 64])\n",
      "SHAPES torch.Size([64, 10, 6, 64, 64]) torch.Size([19, 6, 64, 64])\n",
      "SHAPES torch.Size([64, 10, 6, 64, 64]) torch.Size([19, 6, 64, 64])\n"
     ]
    },
    {
     "data": {
      "application/vnd.jupyter.widget-view+json": {
       "model_id": "",
       "version_major": 2,
       "version_minor": 0
      },
      "text/plain": [
       "HBox(children=(FloatProgress(value=1.0, bar_style='info', description='Validating', layout=Layout(flex='2'), m…"
      ]
     },
     "metadata": {},
     "output_type": "display_data"
    },
    {
     "name": "stdout",
     "output_type": "stream",
     "text": [
      "SHAPES torch.Size([64, 10, 6, 64, 64]) torch.Size([19, 6, 64, 64])\n",
      "SHAPES torch.Size([64, 10, 6, 64, 64]) torch.Size([19, 6, 64, 64])\n",
      "SHAPES torch.Size([64, 10, 6, 64, 64]) torch.Size([19, 6, 64, 64])\n",
      "SHAPES torch.Size([64, 10, 6, 64, 64]) torch.Size([19, 6, 64, 64])\n",
      "SHAPES torch.Size([24, 10, 6, 64, 64]) torch.Size([19, 6, 64, 64])\n",
      "SHAPES torch.Size([64, 10, 6, 64, 64]) torch.Size([19, 6, 64, 64])\n",
      "SHAPES torch.Size([64, 10, 6, 64, 64]) torch.Size([19, 6, 64, 64])\n",
      "SHAPES torch.Size([64, 10, 6, 64, 64]) torch.Size([19, 6, 64, 64])\n",
      "SHAPES torch.Size([64, 10, 6, 64, 64]) torch.Size([19, 6, 64, 64])\n",
      "SHAPES torch.Size([64, 10, 6, 64, 64]) torch.Size([19, 6, 64, 64])\n",
      "SHAPES torch.Size([64, 10, 6, 64, 64]) torch.Size([19, 6, 64, 64])\n",
      "SHAPES torch.Size([64, 10, 6, 64, 64]) torch.Size([19, 6, 64, 64])\n",
      "SHAPES torch.Size([64, 10, 6, 64, 64]) torch.Size([19, 6, 64, 64])\n",
      "SHAPES torch.Size([64, 10, 6, 64, 64]) torch.Size([19, 6, 64, 64])\n",
      "SHAPES torch.Size([64, 10, 6, 64, 64]) torch.Size([19, 6, 64, 64])\n",
      "SHAPES torch.Size([64, 10, 6, 64, 64]) torch.Size([19, 6, 64, 64])\n",
      "SHAPES torch.Size([64, 10, 6, 64, 64]) torch.Size([19, 6, 64, 64])\n",
      "SHAPES torch.Size([64, 10, 6, 64, 64]) torch.Size([19, 6, 64, 64])\n",
      "SHAPES torch.Size([64, 10, 6, 64, 64]) torch.Size([19, 6, 64, 64])\n",
      "SHAPES torch.Size([64, 10, 6, 64, 64]) torch.Size([19, 6, 64, 64])\n",
      "SHAPES torch.Size([64, 10, 6, 64, 64]) torch.Size([19, 6, 64, 64])\n",
      "SHAPES torch.Size([64, 10, 6, 64, 64]) torch.Size([19, 6, 64, 64])\n",
      "SHAPES torch.Size([64, 10, 6, 64, 64]) torch.Size([19, 6, 64, 64])\n",
      "SHAPES torch.Size([64, 10, 6, 64, 64]) torch.Size([19, 6, 64, 64])\n",
      "SHAPES torch.Size([64, 10, 6, 64, 64]) torch.Size([19, 6, 64, 64])\n",
      "SHAPES torch.Size([64, 10, 6, 64, 64]) torch.Size([19, 6, 64, 64])\n",
      "SHAPES torch.Size([64, 10, 6, 64, 64]) torch.Size([19, 6, 64, 64])\n",
      "SHAPES torch.Size([64, 10, 6, 64, 64]) torch.Size([19, 6, 64, 64])\n",
      "SHAPES torch.Size([64, 10, 6, 64, 64]) torch.Size([19, 6, 64, 64])\n",
      "SHAPES torch.Size([64, 10, 6, 64, 64]) torch.Size([19, 6, 64, 64])\n",
      "SHAPES torch.Size([64, 10, 6, 64, 64]) torch.Size([19, 6, 64, 64])\n",
      "SHAPES torch.Size([64, 10, 6, 64, 64]) torch.Size([19, 6, 64, 64])\n",
      "SHAPES torch.Size([64, 10, 6, 64, 64]) torch.Size([19, 6, 64, 64])\n",
      "SHAPES torch.Size([64, 10, 6, 64, 64]) torch.Size([19, 6, 64, 64])\n",
      "SHAPES torch.Size([64, 10, 6, 64, 64]) torch.Size([19, 6, 64, 64])\n",
      "SHAPES torch.Size([64, 10, 6, 64, 64]) torch.Size([19, 6, 64, 64])\n",
      "SHAPES torch.Size([64, 10, 6, 64, 64]) torch.Size([19, 6, 64, 64])\n",
      "SHAPES torch.Size([64, 10, 6, 64, 64]) torch.Size([19, 6, 64, 64])\n",
      "SHAPES torch.Size([64, 10, 6, 64, 64]) torch.Size([19, 6, 64, 64])\n",
      "SHAPES torch.Size([64, 10, 6, 64, 64]) torch.Size([19, 6, 64, 64])\n"
     ]
    },
    {
     "data": {
      "application/vnd.jupyter.widget-view+json": {
       "model_id": "",
       "version_major": 2,
       "version_minor": 0
      },
      "text/plain": [
       "HBox(children=(FloatProgress(value=1.0, bar_style='info', description='Validating', layout=Layout(flex='2'), m…"
      ]
     },
     "metadata": {},
     "output_type": "display_data"
    },
    {
     "name": "stdout",
     "output_type": "stream",
     "text": [
      "SHAPES torch.Size([64, 10, 6, 64, 64]) torch.Size([19, 6, 64, 64])\n",
      "SHAPES torch.Size([64, 10, 6, 64, 64]) torch.Size([19, 6, 64, 64])\n",
      "SHAPES torch.Size([64, 10, 6, 64, 64]) torch.Size([19, 6, 64, 64])\n",
      "SHAPES torch.Size([64, 10, 6, 64, 64]) torch.Size([19, 6, 64, 64])\n",
      "SHAPES torch.Size([24, 10, 6, 64, 64]) torch.Size([19, 6, 64, 64])\n",
      "SHAPES torch.Size([64, 10, 6, 64, 64]) torch.Size([19, 6, 64, 64])\n",
      "SHAPES torch.Size([64, 10, 6, 64, 64]) torch.Size([19, 6, 64, 64])\n",
      "SHAPES torch.Size([64, 10, 6, 64, 64]) torch.Size([19, 6, 64, 64])\n",
      "SHAPES torch.Size([64, 10, 6, 64, 64]) torch.Size([19, 6, 64, 64])\n",
      "SHAPES torch.Size([64, 10, 6, 64, 64]) torch.Size([19, 6, 64, 64])\n",
      "SHAPES torch.Size([64, 10, 6, 64, 64]) torch.Size([19, 6, 64, 64])\n",
      "SHAPES torch.Size([64, 10, 6, 64, 64]) torch.Size([19, 6, 64, 64])\n",
      "SHAPES torch.Size([64, 10, 6, 64, 64]) torch.Size([19, 6, 64, 64])\n",
      "SHAPES torch.Size([64, 10, 6, 64, 64]) torch.Size([19, 6, 64, 64])\n",
      "SHAPES torch.Size([64, 10, 6, 64, 64]) torch.Size([19, 6, 64, 64])\n",
      "SHAPES torch.Size([64, 10, 6, 64, 64]) torch.Size([19, 6, 64, 64])\n",
      "SHAPES torch.Size([64, 10, 6, 64, 64]) torch.Size([19, 6, 64, 64])\n",
      "SHAPES torch.Size([64, 10, 6, 64, 64]) torch.Size([19, 6, 64, 64])\n",
      "SHAPES torch.Size([64, 10, 6, 64, 64]) torch.Size([19, 6, 64, 64])\n",
      "SHAPES torch.Size([64, 10, 6, 64, 64]) torch.Size([19, 6, 64, 64])\n",
      "SHAPES torch.Size([64, 10, 6, 64, 64]) torch.Size([19, 6, 64, 64])\n",
      "SHAPES torch.Size([64, 10, 6, 64, 64]) torch.Size([19, 6, 64, 64])\n",
      "SHAPES torch.Size([64, 10, 6, 64, 64]) torch.Size([19, 6, 64, 64])\n",
      "SHAPES torch.Size([64, 10, 6, 64, 64]) torch.Size([19, 6, 64, 64])\n",
      "SHAPES torch.Size([64, 10, 6, 64, 64]) torch.Size([19, 6, 64, 64])\n",
      "SHAPES torch.Size([64, 10, 6, 64, 64]) torch.Size([19, 6, 64, 64])\n",
      "SHAPES torch.Size([64, 10, 6, 64, 64]) torch.Size([19, 6, 64, 64])\n",
      "SHAPES torch.Size([64, 10, 6, 64, 64]) torch.Size([19, 6, 64, 64])\n",
      "SHAPES torch.Size([64, 10, 6, 64, 64]) torch.Size([19, 6, 64, 64])\n",
      "SHAPES torch.Size([64, 10, 6, 64, 64]) torch.Size([19, 6, 64, 64])\n",
      "SHAPES torch.Size([64, 10, 6, 64, 64]) torch.Size([19, 6, 64, 64])\n",
      "SHAPES torch.Size([64, 10, 6, 64, 64]) torch.Size([19, 6, 64, 64])\n",
      "SHAPES torch.Size([64, 10, 6, 64, 64]) torch.Size([19, 6, 64, 64])\n",
      "SHAPES torch.Size([64, 10, 6, 64, 64]) torch.Size([19, 6, 64, 64])\n",
      "SHAPES torch.Size([64, 10, 6, 64, 64]) torch.Size([19, 6, 64, 64])\n",
      "SHAPES torch.Size([64, 10, 6, 64, 64]) torch.Size([19, 6, 64, 64])\n",
      "SHAPES torch.Size([64, 10, 6, 64, 64]) torch.Size([19, 6, 64, 64])\n",
      "SHAPES torch.Size([64, 10, 6, 64, 64]) torch.Size([19, 6, 64, 64])\n",
      "SHAPES torch.Size([64, 10, 6, 64, 64]) torch.Size([19, 6, 64, 64])\n",
      "SHAPES torch.Size([64, 10, 6, 64, 64]) torch.Size([19, 6, 64, 64])\n"
     ]
    },
    {
     "data": {
      "application/vnd.jupyter.widget-view+json": {
       "model_id": "",
       "version_major": 2,
       "version_minor": 0
      },
      "text/plain": [
       "HBox(children=(FloatProgress(value=1.0, bar_style='info', description='Validating', layout=Layout(flex='2'), m…"
      ]
     },
     "metadata": {},
     "output_type": "display_data"
    },
    {
     "name": "stdout",
     "output_type": "stream",
     "text": [
      "SHAPES torch.Size([64, 10, 6, 64, 64]) torch.Size([19, 6, 64, 64])\n",
      "SHAPES torch.Size([64, 10, 6, 64, 64]) torch.Size([19, 6, 64, 64])\n",
      "SHAPES torch.Size([64, 10, 6, 64, 64]) torch.Size([19, 6, 64, 64])\n",
      "SHAPES torch.Size([64, 10, 6, 64, 64]) torch.Size([19, 6, 64, 64])\n",
      "SHAPES torch.Size([24, 10, 6, 64, 64]) torch.Size([19, 6, 64, 64])\n",
      "SHAPES torch.Size([64, 10, 6, 64, 64]) torch.Size([19, 6, 64, 64])\n",
      "SHAPES torch.Size([64, 10, 6, 64, 64]) torch.Size([19, 6, 64, 64])\n",
      "SHAPES torch.Size([64, 10, 6, 64, 64]) torch.Size([19, 6, 64, 64])\n",
      "SHAPES torch.Size([64, 10, 6, 64, 64]) torch.Size([19, 6, 64, 64])\n",
      "SHAPES torch.Size([64, 10, 6, 64, 64]) torch.Size([19, 6, 64, 64])\n",
      "SHAPES torch.Size([64, 10, 6, 64, 64]) torch.Size([19, 6, 64, 64])\n",
      "SHAPES torch.Size([64, 10, 6, 64, 64]) torch.Size([19, 6, 64, 64])\n",
      "SHAPES torch.Size([64, 10, 6, 64, 64]) torch.Size([19, 6, 64, 64])\n",
      "SHAPES torch.Size([64, 10, 6, 64, 64]) torch.Size([19, 6, 64, 64])\n",
      "SHAPES torch.Size([64, 10, 6, 64, 64]) torch.Size([19, 6, 64, 64])\n",
      "SHAPES torch.Size([64, 10, 6, 64, 64]) torch.Size([19, 6, 64, 64])\n",
      "SHAPES torch.Size([64, 10, 6, 64, 64]) torch.Size([19, 6, 64, 64])\n",
      "SHAPES torch.Size([64, 10, 6, 64, 64]) torch.Size([19, 6, 64, 64])\n",
      "SHAPES torch.Size([64, 10, 6, 64, 64]) torch.Size([19, 6, 64, 64])\n",
      "SHAPES torch.Size([64, 10, 6, 64, 64]) torch.Size([19, 6, 64, 64])\n",
      "SHAPES torch.Size([64, 10, 6, 64, 64]) torch.Size([19, 6, 64, 64])\n",
      "SHAPES torch.Size([64, 10, 6, 64, 64]) torch.Size([19, 6, 64, 64])\n",
      "SHAPES torch.Size([64, 10, 6, 64, 64]) torch.Size([19, 6, 64, 64])\n",
      "SHAPES torch.Size([64, 10, 6, 64, 64]) torch.Size([19, 6, 64, 64])\n",
      "SHAPES torch.Size([64, 10, 6, 64, 64]) torch.Size([19, 6, 64, 64])\n",
      "SHAPES torch.Size([64, 10, 6, 64, 64]) torch.Size([19, 6, 64, 64])\n",
      "SHAPES torch.Size([64, 10, 6, 64, 64]) torch.Size([19, 6, 64, 64])\n",
      "SHAPES torch.Size([64, 10, 6, 64, 64]) torch.Size([19, 6, 64, 64])\n",
      "SHAPES torch.Size([64, 10, 6, 64, 64]) torch.Size([19, 6, 64, 64])\n",
      "SHAPES torch.Size([64, 10, 6, 64, 64]) torch.Size([19, 6, 64, 64])\n",
      "SHAPES torch.Size([64, 10, 6, 64, 64]) torch.Size([19, 6, 64, 64])\n",
      "SHAPES torch.Size([64, 10, 6, 64, 64]) torch.Size([19, 6, 64, 64])\n",
      "SHAPES torch.Size([64, 10, 6, 64, 64]) torch.Size([19, 6, 64, 64])\n",
      "SHAPES torch.Size([64, 10, 6, 64, 64]) torch.Size([19, 6, 64, 64])\n",
      "SHAPES torch.Size([64, 10, 6, 64, 64]) torch.Size([19, 6, 64, 64])\n",
      "SHAPES torch.Size([64, 10, 6, 64, 64]) torch.Size([19, 6, 64, 64])\n",
      "SHAPES torch.Size([64, 10, 6, 64, 64]) torch.Size([19, 6, 64, 64])\n",
      "SHAPES torch.Size([64, 10, 6, 64, 64]) torch.Size([19, 6, 64, 64])\n",
      "SHAPES torch.Size([64, 10, 6, 64, 64]) torch.Size([19, 6, 64, 64])\n",
      "SHAPES torch.Size([64, 10, 6, 64, 64]) torch.Size([19, 6, 64, 64])\n"
     ]
    },
    {
     "data": {
      "application/vnd.jupyter.widget-view+json": {
       "model_id": "",
       "version_major": 2,
       "version_minor": 0
      },
      "text/plain": [
       "HBox(children=(FloatProgress(value=1.0, bar_style='info', description='Validating', layout=Layout(flex='2'), m…"
      ]
     },
     "metadata": {},
     "output_type": "display_data"
    },
    {
     "name": "stdout",
     "output_type": "stream",
     "text": [
      "SHAPES torch.Size([64, 10, 6, 64, 64]) torch.Size([19, 6, 64, 64])\n",
      "SHAPES torch.Size([64, 10, 6, 64, 64]) torch.Size([19, 6, 64, 64])\n",
      "SHAPES torch.Size([64, 10, 6, 64, 64]) torch.Size([19, 6, 64, 64])\n",
      "SHAPES torch.Size([64, 10, 6, 64, 64]) torch.Size([19, 6, 64, 64])\n",
      "SHAPES torch.Size([24, 10, 6, 64, 64]) torch.Size([19, 6, 64, 64])\n",
      "SHAPES torch.Size([64, 10, 6, 64, 64]) torch.Size([19, 6, 64, 64])\n",
      "SHAPES torch.Size([64, 10, 6, 64, 64]) torch.Size([19, 6, 64, 64])\n",
      "SHAPES torch.Size([64, 10, 6, 64, 64]) torch.Size([19, 6, 64, 64])\n",
      "SHAPES torch.Size([64, 10, 6, 64, 64]) torch.Size([19, 6, 64, 64])\n",
      "SHAPES torch.Size([64, 10, 6, 64, 64]) torch.Size([19, 6, 64, 64])\n",
      "SHAPES torch.Size([64, 10, 6, 64, 64]) torch.Size([19, 6, 64, 64])\n",
      "SHAPES torch.Size([64, 10, 6, 64, 64]) torch.Size([19, 6, 64, 64])\n",
      "SHAPES torch.Size([64, 10, 6, 64, 64]) torch.Size([19, 6, 64, 64])\n",
      "SHAPES torch.Size([64, 10, 6, 64, 64]) torch.Size([19, 6, 64, 64])\n",
      "SHAPES torch.Size([64, 10, 6, 64, 64]) torch.Size([19, 6, 64, 64])\n",
      "SHAPES torch.Size([64, 10, 6, 64, 64]) torch.Size([19, 6, 64, 64])\n",
      "SHAPES torch.Size([64, 10, 6, 64, 64]) torch.Size([19, 6, 64, 64])\n",
      "SHAPES torch.Size([64, 10, 6, 64, 64]) torch.Size([19, 6, 64, 64])\n",
      "SHAPES torch.Size([64, 10, 6, 64, 64]) torch.Size([19, 6, 64, 64])\n",
      "SHAPES torch.Size([64, 10, 6, 64, 64]) torch.Size([19, 6, 64, 64])\n",
      "SHAPES torch.Size([64, 10, 6, 64, 64]) torch.Size([19, 6, 64, 64])\n",
      "SHAPES torch.Size([64, 10, 6, 64, 64]) torch.Size([19, 6, 64, 64])\n",
      "SHAPES torch.Size([64, 10, 6, 64, 64]) torch.Size([19, 6, 64, 64])\n",
      "SHAPES torch.Size([64, 10, 6, 64, 64]) torch.Size([19, 6, 64, 64])\n",
      "SHAPES torch.Size([64, 10, 6, 64, 64]) torch.Size([19, 6, 64, 64])\n",
      "SHAPES torch.Size([64, 10, 6, 64, 64]) torch.Size([19, 6, 64, 64])\n",
      "SHAPES torch.Size([64, 10, 6, 64, 64]) torch.Size([19, 6, 64, 64])\n",
      "SHAPES torch.Size([64, 10, 6, 64, 64]) torch.Size([19, 6, 64, 64])\n",
      "SHAPES torch.Size([64, 10, 6, 64, 64]) torch.Size([19, 6, 64, 64])\n",
      "SHAPES torch.Size([64, 10, 6, 64, 64]) torch.Size([19, 6, 64, 64])\n",
      "SHAPES torch.Size([64, 10, 6, 64, 64]) torch.Size([19, 6, 64, 64])\n",
      "SHAPES torch.Size([64, 10, 6, 64, 64]) torch.Size([19, 6, 64, 64])\n",
      "SHAPES torch.Size([64, 10, 6, 64, 64]) torch.Size([19, 6, 64, 64])\n",
      "SHAPES torch.Size([64, 10, 6, 64, 64]) torch.Size([19, 6, 64, 64])\n",
      "SHAPES torch.Size([64, 10, 6, 64, 64]) torch.Size([19, 6, 64, 64])\n",
      "SHAPES torch.Size([64, 10, 6, 64, 64]) torch.Size([19, 6, 64, 64])\n",
      "SHAPES torch.Size([64, 10, 6, 64, 64]) torch.Size([19, 6, 64, 64])\n",
      "SHAPES torch.Size([64, 10, 6, 64, 64]) torch.Size([19, 6, 64, 64])\n",
      "SHAPES torch.Size([64, 10, 6, 64, 64]) torch.Size([19, 6, 64, 64])\n",
      "SHAPES torch.Size([64, 10, 6, 64, 64]) torch.Size([19, 6, 64, 64])\n"
     ]
    },
    {
     "data": {
      "application/vnd.jupyter.widget-view+json": {
       "model_id": "",
       "version_major": 2,
       "version_minor": 0
      },
      "text/plain": [
       "HBox(children=(FloatProgress(value=1.0, bar_style='info', description='Validating', layout=Layout(flex='2'), m…"
      ]
     },
     "metadata": {},
     "output_type": "display_data"
    },
    {
     "name": "stdout",
     "output_type": "stream",
     "text": [
      "SHAPES torch.Size([64, 10, 6, 64, 64]) torch.Size([19, 6, 64, 64])\n",
      "SHAPES torch.Size([64, 10, 6, 64, 64]) torch.Size([19, 6, 64, 64])\n",
      "SHAPES torch.Size([64, 10, 6, 64, 64]) torch.Size([19, 6, 64, 64])\n",
      "SHAPES torch.Size([64, 10, 6, 64, 64]) torch.Size([19, 6, 64, 64])\n",
      "SHAPES torch.Size([24, 10, 6, 64, 64]) torch.Size([19, 6, 64, 64])\n",
      "SHAPES torch.Size([64, 10, 6, 64, 64]) torch.Size([19, 6, 64, 64])\n",
      "SHAPES torch.Size([64, 10, 6, 64, 64]) torch.Size([19, 6, 64, 64])\n",
      "SHAPES torch.Size([64, 10, 6, 64, 64]) torch.Size([19, 6, 64, 64])\n",
      "SHAPES torch.Size([64, 10, 6, 64, 64]) torch.Size([19, 6, 64, 64])\n",
      "SHAPES torch.Size([64, 10, 6, 64, 64]) torch.Size([19, 6, 64, 64])\n",
      "SHAPES torch.Size([64, 10, 6, 64, 64]) torch.Size([19, 6, 64, 64])\n",
      "SHAPES torch.Size([64, 10, 6, 64, 64]) torch.Size([19, 6, 64, 64])\n",
      "SHAPES torch.Size([64, 10, 6, 64, 64]) torch.Size([19, 6, 64, 64])\n",
      "SHAPES torch.Size([64, 10, 6, 64, 64]) torch.Size([19, 6, 64, 64])\n",
      "SHAPES torch.Size([64, 10, 6, 64, 64]) torch.Size([19, 6, 64, 64])\n",
      "SHAPES torch.Size([64, 10, 6, 64, 64]) torch.Size([19, 6, 64, 64])\n",
      "SHAPES torch.Size([64, 10, 6, 64, 64]) torch.Size([19, 6, 64, 64])\n",
      "SHAPES torch.Size([64, 10, 6, 64, 64]) torch.Size([19, 6, 64, 64])\n",
      "SHAPES torch.Size([64, 10, 6, 64, 64]) torch.Size([19, 6, 64, 64])\n",
      "SHAPES torch.Size([64, 10, 6, 64, 64]) torch.Size([19, 6, 64, 64])\n",
      "SHAPES torch.Size([64, 10, 6, 64, 64]) torch.Size([19, 6, 64, 64])\n",
      "SHAPES torch.Size([64, 10, 6, 64, 64]) torch.Size([19, 6, 64, 64])\n",
      "SHAPES torch.Size([64, 10, 6, 64, 64]) torch.Size([19, 6, 64, 64])\n",
      "SHAPES torch.Size([64, 10, 6, 64, 64]) torch.Size([19, 6, 64, 64])\n",
      "SHAPES torch.Size([64, 10, 6, 64, 64]) torch.Size([19, 6, 64, 64])\n",
      "SHAPES torch.Size([64, 10, 6, 64, 64]) torch.Size([19, 6, 64, 64])\n",
      "SHAPES torch.Size([64, 10, 6, 64, 64]) torch.Size([19, 6, 64, 64])\n",
      "SHAPES torch.Size([64, 10, 6, 64, 64]) torch.Size([19, 6, 64, 64])\n",
      "SHAPES torch.Size([64, 10, 6, 64, 64]) torch.Size([19, 6, 64, 64])\n",
      "SHAPES torch.Size([64, 10, 6, 64, 64]) torch.Size([19, 6, 64, 64])\n",
      "SHAPES torch.Size([64, 10, 6, 64, 64]) torch.Size([19, 6, 64, 64])\n",
      "SHAPES torch.Size([64, 10, 6, 64, 64]) torch.Size([19, 6, 64, 64])\n",
      "SHAPES torch.Size([64, 10, 6, 64, 64]) torch.Size([19, 6, 64, 64])\n",
      "SHAPES torch.Size([64, 10, 6, 64, 64]) torch.Size([19, 6, 64, 64])\n",
      "SHAPES torch.Size([64, 10, 6, 64, 64]) torch.Size([19, 6, 64, 64])\n",
      "SHAPES torch.Size([64, 10, 6, 64, 64]) torch.Size([19, 6, 64, 64])\n",
      "SHAPES torch.Size([64, 10, 6, 64, 64]) torch.Size([19, 6, 64, 64])\n",
      "SHAPES torch.Size([64, 10, 6, 64, 64]) torch.Size([19, 6, 64, 64])\n",
      "SHAPES torch.Size([64, 10, 6, 64, 64]) torch.Size([19, 6, 64, 64])\n",
      "SHAPES torch.Size([64, 10, 6, 64, 64]) torch.Size([19, 6, 64, 64])\n"
     ]
    },
    {
     "data": {
      "application/vnd.jupyter.widget-view+json": {
       "model_id": "",
       "version_major": 2,
       "version_minor": 0
      },
      "text/plain": [
       "HBox(children=(FloatProgress(value=1.0, bar_style='info', description='Validating', layout=Layout(flex='2'), m…"
      ]
     },
     "metadata": {},
     "output_type": "display_data"
    },
    {
     "name": "stdout",
     "output_type": "stream",
     "text": [
      "SHAPES torch.Size([64, 10, 6, 64, 64]) torch.Size([19, 6, 64, 64])\n",
      "SHAPES torch.Size([64, 10, 6, 64, 64]) torch.Size([19, 6, 64, 64])\n",
      "SHAPES torch.Size([64, 10, 6, 64, 64]) torch.Size([19, 6, 64, 64])\n",
      "SHAPES torch.Size([64, 10, 6, 64, 64]) torch.Size([19, 6, 64, 64])\n",
      "SHAPES torch.Size([24, 10, 6, 64, 64]) torch.Size([19, 6, 64, 64])\n",
      "SHAPES torch.Size([64, 10, 6, 64, 64]) torch.Size([19, 6, 64, 64])\n",
      "SHAPES torch.Size([64, 10, 6, 64, 64]) torch.Size([19, 6, 64, 64])\n",
      "SHAPES torch.Size([64, 10, 6, 64, 64]) torch.Size([19, 6, 64, 64])\n",
      "SHAPES torch.Size([64, 10, 6, 64, 64]) torch.Size([19, 6, 64, 64])\n",
      "SHAPES torch.Size([64, 10, 6, 64, 64]) torch.Size([19, 6, 64, 64])\n",
      "SHAPES torch.Size([64, 10, 6, 64, 64]) torch.Size([19, 6, 64, 64])\n",
      "SHAPES torch.Size([64, 10, 6, 64, 64]) torch.Size([19, 6, 64, 64])\n",
      "SHAPES torch.Size([64, 10, 6, 64, 64]) torch.Size([19, 6, 64, 64])\n",
      "SHAPES torch.Size([64, 10, 6, 64, 64]) torch.Size([19, 6, 64, 64])\n",
      "SHAPES torch.Size([64, 10, 6, 64, 64]) torch.Size([19, 6, 64, 64])\n",
      "SHAPES torch.Size([64, 10, 6, 64, 64]) torch.Size([19, 6, 64, 64])\n",
      "SHAPES torch.Size([64, 10, 6, 64, 64]) torch.Size([19, 6, 64, 64])\n",
      "SHAPES torch.Size([64, 10, 6, 64, 64]) torch.Size([19, 6, 64, 64])\n",
      "SHAPES torch.Size([64, 10, 6, 64, 64]) torch.Size([19, 6, 64, 64])\n",
      "SHAPES torch.Size([64, 10, 6, 64, 64]) torch.Size([19, 6, 64, 64])\n",
      "SHAPES torch.Size([64, 10, 6, 64, 64]) torch.Size([19, 6, 64, 64])\n",
      "SHAPES torch.Size([64, 10, 6, 64, 64]) torch.Size([19, 6, 64, 64])\n",
      "SHAPES torch.Size([64, 10, 6, 64, 64]) torch.Size([19, 6, 64, 64])\n",
      "SHAPES torch.Size([64, 10, 6, 64, 64]) torch.Size([19, 6, 64, 64])\n",
      "SHAPES torch.Size([64, 10, 6, 64, 64]) torch.Size([19, 6, 64, 64])\n",
      "SHAPES torch.Size([64, 10, 6, 64, 64]) torch.Size([19, 6, 64, 64])\n",
      "SHAPES torch.Size([64, 10, 6, 64, 64]) torch.Size([19, 6, 64, 64])\n",
      "SHAPES torch.Size([64, 10, 6, 64, 64]) torch.Size([19, 6, 64, 64])\n",
      "SHAPES torch.Size([64, 10, 6, 64, 64]) torch.Size([19, 6, 64, 64])\n",
      "SHAPES torch.Size([64, 10, 6, 64, 64]) torch.Size([19, 6, 64, 64])\n",
      "SHAPES torch.Size([64, 10, 6, 64, 64]) torch.Size([19, 6, 64, 64])\n",
      "SHAPES torch.Size([64, 10, 6, 64, 64]) torch.Size([19, 6, 64, 64])\n",
      "SHAPES torch.Size([64, 10, 6, 64, 64]) torch.Size([19, 6, 64, 64])\n",
      "SHAPES torch.Size([64, 10, 6, 64, 64]) torch.Size([19, 6, 64, 64])\n",
      "SHAPES torch.Size([64, 10, 6, 64, 64]) torch.Size([19, 6, 64, 64])\n",
      "SHAPES torch.Size([64, 10, 6, 64, 64]) torch.Size([19, 6, 64, 64])\n",
      "SHAPES torch.Size([64, 10, 6, 64, 64]) torch.Size([19, 6, 64, 64])\n",
      "SHAPES torch.Size([64, 10, 6, 64, 64]) torch.Size([19, 6, 64, 64])\n",
      "SHAPES torch.Size([64, 10, 6, 64, 64]) torch.Size([19, 6, 64, 64])\n",
      "SHAPES torch.Size([64, 10, 6, 64, 64]) torch.Size([19, 6, 64, 64])\n"
     ]
    },
    {
     "data": {
      "application/vnd.jupyter.widget-view+json": {
       "model_id": "",
       "version_major": 2,
       "version_minor": 0
      },
      "text/plain": [
       "HBox(children=(FloatProgress(value=1.0, bar_style='info', description='Validating', layout=Layout(flex='2'), m…"
      ]
     },
     "metadata": {},
     "output_type": "display_data"
    },
    {
     "name": "stdout",
     "output_type": "stream",
     "text": [
      "SHAPES torch.Size([64, 10, 6, 64, 64]) torch.Size([19, 6, 64, 64])\n",
      "SHAPES torch.Size([64, 10, 6, 64, 64]) torch.Size([19, 6, 64, 64])\n",
      "SHAPES torch.Size([64, 10, 6, 64, 64]) torch.Size([19, 6, 64, 64])\n",
      "SHAPES torch.Size([64, 10, 6, 64, 64]) torch.Size([19, 6, 64, 64])\n",
      "SHAPES torch.Size([24, 10, 6, 64, 64]) torch.Size([19, 6, 64, 64])\n",
      "SHAPES torch.Size([64, 10, 6, 64, 64]) torch.Size([19, 6, 64, 64])\n",
      "SHAPES torch.Size([64, 10, 6, 64, 64]) torch.Size([19, 6, 64, 64])\n",
      "SHAPES torch.Size([64, 10, 6, 64, 64]) torch.Size([19, 6, 64, 64])\n",
      "SHAPES torch.Size([64, 10, 6, 64, 64]) torch.Size([19, 6, 64, 64])\n",
      "SHAPES torch.Size([64, 10, 6, 64, 64]) torch.Size([19, 6, 64, 64])\n",
      "SHAPES torch.Size([64, 10, 6, 64, 64]) torch.Size([19, 6, 64, 64])\n",
      "SHAPES torch.Size([64, 10, 6, 64, 64]) torch.Size([19, 6, 64, 64])\n",
      "SHAPES torch.Size([64, 10, 6, 64, 64]) torch.Size([19, 6, 64, 64])\n",
      "SHAPES torch.Size([64, 10, 6, 64, 64]) torch.Size([19, 6, 64, 64])\n",
      "SHAPES torch.Size([64, 10, 6, 64, 64]) torch.Size([19, 6, 64, 64])\n",
      "SHAPES torch.Size([64, 10, 6, 64, 64]) torch.Size([19, 6, 64, 64])\n",
      "SHAPES torch.Size([64, 10, 6, 64, 64]) torch.Size([19, 6, 64, 64])\n",
      "SHAPES torch.Size([64, 10, 6, 64, 64]) torch.Size([19, 6, 64, 64])\n",
      "SHAPES torch.Size([64, 10, 6, 64, 64]) torch.Size([19, 6, 64, 64])\n",
      "SHAPES torch.Size([64, 10, 6, 64, 64]) torch.Size([19, 6, 64, 64])\n",
      "SHAPES torch.Size([64, 10, 6, 64, 64]) torch.Size([19, 6, 64, 64])\n",
      "SHAPES torch.Size([64, 10, 6, 64, 64]) torch.Size([19, 6, 64, 64])\n",
      "SHAPES torch.Size([64, 10, 6, 64, 64]) torch.Size([19, 6, 64, 64])\n",
      "SHAPES torch.Size([64, 10, 6, 64, 64]) torch.Size([19, 6, 64, 64])\n",
      "SHAPES torch.Size([64, 10, 6, 64, 64]) torch.Size([19, 6, 64, 64])\n",
      "SHAPES torch.Size([64, 10, 6, 64, 64]) torch.Size([19, 6, 64, 64])\n",
      "SHAPES torch.Size([64, 10, 6, 64, 64]) torch.Size([19, 6, 64, 64])\n",
      "SHAPES torch.Size([64, 10, 6, 64, 64]) torch.Size([19, 6, 64, 64])\n",
      "SHAPES torch.Size([64, 10, 6, 64, 64]) torch.Size([19, 6, 64, 64])\n",
      "SHAPES torch.Size([64, 10, 6, 64, 64]) torch.Size([19, 6, 64, 64])\n",
      "SHAPES torch.Size([64, 10, 6, 64, 64]) torch.Size([19, 6, 64, 64])\n",
      "SHAPES torch.Size([64, 10, 6, 64, 64]) torch.Size([19, 6, 64, 64])\n",
      "SHAPES torch.Size([64, 10, 6, 64, 64]) torch.Size([19, 6, 64, 64])\n",
      "SHAPES torch.Size([64, 10, 6, 64, 64]) torch.Size([19, 6, 64, 64])\n",
      "SHAPES torch.Size([64, 10, 6, 64, 64]) torch.Size([19, 6, 64, 64])\n",
      "SHAPES torch.Size([64, 10, 6, 64, 64]) torch.Size([19, 6, 64, 64])\n",
      "SHAPES torch.Size([64, 10, 6, 64, 64]) torch.Size([19, 6, 64, 64])\n",
      "SHAPES torch.Size([64, 10, 6, 64, 64]) torch.Size([19, 6, 64, 64])\n",
      "SHAPES torch.Size([64, 10, 6, 64, 64]) torch.Size([19, 6, 64, 64])\n",
      "SHAPES torch.Size([64, 10, 6, 64, 64]) torch.Size([19, 6, 64, 64])\n"
     ]
    },
    {
     "data": {
      "application/vnd.jupyter.widget-view+json": {
       "model_id": "",
       "version_major": 2,
       "version_minor": 0
      },
      "text/plain": [
       "HBox(children=(FloatProgress(value=1.0, bar_style='info', description='Validating', layout=Layout(flex='2'), m…"
      ]
     },
     "metadata": {},
     "output_type": "display_data"
    },
    {
     "name": "stdout",
     "output_type": "stream",
     "text": [
      "SHAPES torch.Size([64, 10, 6, 64, 64]) torch.Size([19, 6, 64, 64])\n",
      "SHAPES torch.Size([64, 10, 6, 64, 64]) torch.Size([19, 6, 64, 64])\n",
      "SHAPES torch.Size([64, 10, 6, 64, 64]) torch.Size([19, 6, 64, 64])\n",
      "SHAPES torch.Size([64, 10, 6, 64, 64]) torch.Size([19, 6, 64, 64])\n",
      "SHAPES torch.Size([24, 10, 6, 64, 64]) torch.Size([19, 6, 64, 64])\n",
      "SHAPES torch.Size([64, 10, 6, 64, 64]) torch.Size([19, 6, 64, 64])\n",
      "SHAPES torch.Size([64, 10, 6, 64, 64]) torch.Size([19, 6, 64, 64])\n",
      "SHAPES torch.Size([64, 10, 6, 64, 64]) torch.Size([19, 6, 64, 64])\n",
      "SHAPES torch.Size([64, 10, 6, 64, 64]) torch.Size([19, 6, 64, 64])\n",
      "SHAPES torch.Size([64, 10, 6, 64, 64]) torch.Size([19, 6, 64, 64])\n",
      "SHAPES torch.Size([64, 10, 6, 64, 64]) torch.Size([19, 6, 64, 64])\n",
      "SHAPES torch.Size([64, 10, 6, 64, 64]) torch.Size([19, 6, 64, 64])\n",
      "SHAPES torch.Size([64, 10, 6, 64, 64]) torch.Size([19, 6, 64, 64])\n",
      "SHAPES torch.Size([64, 10, 6, 64, 64]) torch.Size([19, 6, 64, 64])\n",
      "SHAPES torch.Size([64, 10, 6, 64, 64]) torch.Size([19, 6, 64, 64])\n",
      "SHAPES torch.Size([64, 10, 6, 64, 64]) torch.Size([19, 6, 64, 64])\n",
      "SHAPES torch.Size([64, 10, 6, 64, 64]) torch.Size([19, 6, 64, 64])\n",
      "SHAPES torch.Size([64, 10, 6, 64, 64]) torch.Size([19, 6, 64, 64])\n",
      "SHAPES torch.Size([64, 10, 6, 64, 64]) torch.Size([19, 6, 64, 64])\n",
      "SHAPES torch.Size([64, 10, 6, 64, 64]) torch.Size([19, 6, 64, 64])\n",
      "SHAPES torch.Size([64, 10, 6, 64, 64]) torch.Size([19, 6, 64, 64])\n",
      "SHAPES torch.Size([64, 10, 6, 64, 64]) torch.Size([19, 6, 64, 64])\n",
      "SHAPES torch.Size([64, 10, 6, 64, 64]) torch.Size([19, 6, 64, 64])\n",
      "SHAPES torch.Size([64, 10, 6, 64, 64]) torch.Size([19, 6, 64, 64])\n",
      "SHAPES torch.Size([64, 10, 6, 64, 64]) torch.Size([19, 6, 64, 64])\n",
      "SHAPES torch.Size([64, 10, 6, 64, 64]) torch.Size([19, 6, 64, 64])\n",
      "SHAPES torch.Size([64, 10, 6, 64, 64]) torch.Size([19, 6, 64, 64])\n",
      "SHAPES torch.Size([64, 10, 6, 64, 64]) torch.Size([19, 6, 64, 64])\n",
      "SHAPES torch.Size([64, 10, 6, 64, 64]) torch.Size([19, 6, 64, 64])\n",
      "SHAPES torch.Size([64, 10, 6, 64, 64]) torch.Size([19, 6, 64, 64])\n",
      "SHAPES torch.Size([64, 10, 6, 64, 64]) torch.Size([19, 6, 64, 64])\n",
      "SHAPES torch.Size([64, 10, 6, 64, 64]) torch.Size([19, 6, 64, 64])\n",
      "SHAPES torch.Size([64, 10, 6, 64, 64]) torch.Size([19, 6, 64, 64])\n",
      "SHAPES torch.Size([64, 10, 6, 64, 64]) torch.Size([19, 6, 64, 64])\n",
      "SHAPES torch.Size([64, 10, 6, 64, 64]) torch.Size([19, 6, 64, 64])\n",
      "SHAPES torch.Size([64, 10, 6, 64, 64]) torch.Size([19, 6, 64, 64])\n",
      "SHAPES torch.Size([64, 10, 6, 64, 64]) torch.Size([19, 6, 64, 64])\n",
      "SHAPES torch.Size([64, 10, 6, 64, 64]) torch.Size([19, 6, 64, 64])\n",
      "SHAPES torch.Size([64, 10, 6, 64, 64]) torch.Size([19, 6, 64, 64])\n",
      "SHAPES torch.Size([64, 10, 6, 64, 64]) torch.Size([19, 6, 64, 64])\n"
     ]
    },
    {
     "data": {
      "application/vnd.jupyter.widget-view+json": {
       "model_id": "",
       "version_major": 2,
       "version_minor": 0
      },
      "text/plain": [
       "HBox(children=(FloatProgress(value=1.0, bar_style='info', description='Validating', layout=Layout(flex='2'), m…"
      ]
     },
     "metadata": {},
     "output_type": "display_data"
    },
    {
     "name": "stdout",
     "output_type": "stream",
     "text": [
      "SHAPES torch.Size([64, 10, 6, 64, 64]) torch.Size([19, 6, 64, 64])\n",
      "SHAPES torch.Size([64, 10, 6, 64, 64]) torch.Size([19, 6, 64, 64])\n",
      "SHAPES torch.Size([64, 10, 6, 64, 64]) torch.Size([19, 6, 64, 64])\n",
      "SHAPES torch.Size([64, 10, 6, 64, 64]) torch.Size([19, 6, 64, 64])\n",
      "SHAPES torch.Size([24, 10, 6, 64, 64]) torch.Size([19, 6, 64, 64])\n",
      "SHAPES torch.Size([64, 10, 6, 64, 64]) torch.Size([19, 6, 64, 64])\n",
      "SHAPES torch.Size([64, 10, 6, 64, 64]) torch.Size([19, 6, 64, 64])\n",
      "SHAPES torch.Size([64, 10, 6, 64, 64]) torch.Size([19, 6, 64, 64])\n",
      "SHAPES torch.Size([64, 10, 6, 64, 64]) torch.Size([19, 6, 64, 64])\n",
      "SHAPES torch.Size([64, 10, 6, 64, 64]) torch.Size([19, 6, 64, 64])\n",
      "SHAPES torch.Size([64, 10, 6, 64, 64]) torch.Size([19, 6, 64, 64])\n",
      "SHAPES torch.Size([64, 10, 6, 64, 64]) torch.Size([19, 6, 64, 64])\n",
      "SHAPES torch.Size([64, 10, 6, 64, 64]) torch.Size([19, 6, 64, 64])\n",
      "SHAPES torch.Size([64, 10, 6, 64, 64]) torch.Size([19, 6, 64, 64])\n",
      "SHAPES torch.Size([64, 10, 6, 64, 64]) torch.Size([19, 6, 64, 64])\n",
      "SHAPES torch.Size([64, 10, 6, 64, 64]) torch.Size([19, 6, 64, 64])\n",
      "SHAPES torch.Size([64, 10, 6, 64, 64]) torch.Size([19, 6, 64, 64])\n",
      "SHAPES torch.Size([64, 10, 6, 64, 64]) torch.Size([19, 6, 64, 64])\n",
      "SHAPES torch.Size([64, 10, 6, 64, 64]) torch.Size([19, 6, 64, 64])\n",
      "SHAPES torch.Size([64, 10, 6, 64, 64]) torch.Size([19, 6, 64, 64])\n",
      "SHAPES torch.Size([64, 10, 6, 64, 64]) torch.Size([19, 6, 64, 64])\n",
      "SHAPES torch.Size([64, 10, 6, 64, 64]) torch.Size([19, 6, 64, 64])\n",
      "SHAPES torch.Size([64, 10, 6, 64, 64]) torch.Size([19, 6, 64, 64])\n",
      "SHAPES torch.Size([64, 10, 6, 64, 64]) torch.Size([19, 6, 64, 64])\n",
      "SHAPES torch.Size([64, 10, 6, 64, 64]) torch.Size([19, 6, 64, 64])\n",
      "SHAPES torch.Size([64, 10, 6, 64, 64]) torch.Size([19, 6, 64, 64])\n",
      "SHAPES torch.Size([64, 10, 6, 64, 64]) torch.Size([19, 6, 64, 64])\n",
      "SHAPES torch.Size([64, 10, 6, 64, 64]) torch.Size([19, 6, 64, 64])\n",
      "SHAPES torch.Size([64, 10, 6, 64, 64]) torch.Size([19, 6, 64, 64])\n",
      "SHAPES torch.Size([64, 10, 6, 64, 64]) torch.Size([19, 6, 64, 64])\n",
      "SHAPES torch.Size([64, 10, 6, 64, 64]) torch.Size([19, 6, 64, 64])\n",
      "SHAPES torch.Size([64, 10, 6, 64, 64]) torch.Size([19, 6, 64, 64])\n",
      "SHAPES torch.Size([64, 10, 6, 64, 64]) torch.Size([19, 6, 64, 64])\n",
      "SHAPES torch.Size([64, 10, 6, 64, 64]) torch.Size([19, 6, 64, 64])\n",
      "SHAPES torch.Size([64, 10, 6, 64, 64]) torch.Size([19, 6, 64, 64])\n",
      "SHAPES torch.Size([64, 10, 6, 64, 64]) torch.Size([19, 6, 64, 64])\n",
      "SHAPES torch.Size([64, 10, 6, 64, 64]) torch.Size([19, 6, 64, 64])\n",
      "SHAPES torch.Size([64, 10, 6, 64, 64]) torch.Size([19, 6, 64, 64])\n",
      "SHAPES torch.Size([64, 10, 6, 64, 64]) torch.Size([19, 6, 64, 64])\n",
      "SHAPES torch.Size([64, 10, 6, 64, 64]) torch.Size([19, 6, 64, 64])\n"
     ]
    },
    {
     "data": {
      "application/vnd.jupyter.widget-view+json": {
       "model_id": "",
       "version_major": 2,
       "version_minor": 0
      },
      "text/plain": [
       "HBox(children=(FloatProgress(value=1.0, bar_style='info', description='Validating', layout=Layout(flex='2'), m…"
      ]
     },
     "metadata": {},
     "output_type": "display_data"
    },
    {
     "name": "stdout",
     "output_type": "stream",
     "text": [
      "SHAPES torch.Size([64, 10, 6, 64, 64]) torch.Size([19, 6, 64, 64])\n",
      "SHAPES torch.Size([64, 10, 6, 64, 64]) torch.Size([19, 6, 64, 64])\n",
      "SHAPES torch.Size([64, 10, 6, 64, 64]) torch.Size([19, 6, 64, 64])\n",
      "SHAPES torch.Size([64, 10, 6, 64, 64]) torch.Size([19, 6, 64, 64])\n",
      "SHAPES torch.Size([24, 10, 6, 64, 64]) torch.Size([19, 6, 64, 64])\n",
      "SHAPES torch.Size([64, 10, 6, 64, 64]) torch.Size([19, 6, 64, 64])\n",
      "SHAPES torch.Size([64, 10, 6, 64, 64]) torch.Size([19, 6, 64, 64])\n",
      "SHAPES torch.Size([64, 10, 6, 64, 64]) torch.Size([19, 6, 64, 64])\n",
      "SHAPES torch.Size([64, 10, 6, 64, 64]) torch.Size([19, 6, 64, 64])\n",
      "SHAPES torch.Size([64, 10, 6, 64, 64]) torch.Size([19, 6, 64, 64])\n",
      "SHAPES torch.Size([64, 10, 6, 64, 64]) torch.Size([19, 6, 64, 64])\n",
      "SHAPES torch.Size([64, 10, 6, 64, 64]) torch.Size([19, 6, 64, 64])\n",
      "SHAPES torch.Size([64, 10, 6, 64, 64]) torch.Size([19, 6, 64, 64])\n",
      "SHAPES torch.Size([64, 10, 6, 64, 64]) torch.Size([19, 6, 64, 64])\n",
      "SHAPES torch.Size([64, 10, 6, 64, 64]) torch.Size([19, 6, 64, 64])\n",
      "SHAPES torch.Size([64, 10, 6, 64, 64]) torch.Size([19, 6, 64, 64])\n",
      "SHAPES torch.Size([64, 10, 6, 64, 64]) torch.Size([19, 6, 64, 64])\n",
      "SHAPES torch.Size([64, 10, 6, 64, 64]) torch.Size([19, 6, 64, 64])\n",
      "SHAPES torch.Size([64, 10, 6, 64, 64]) torch.Size([19, 6, 64, 64])\n",
      "SHAPES torch.Size([64, 10, 6, 64, 64]) torch.Size([19, 6, 64, 64])\n",
      "SHAPES torch.Size([64, 10, 6, 64, 64]) torch.Size([19, 6, 64, 64])\n",
      "SHAPES torch.Size([64, 10, 6, 64, 64]) torch.Size([19, 6, 64, 64])\n",
      "SHAPES torch.Size([64, 10, 6, 64, 64]) torch.Size([19, 6, 64, 64])\n",
      "SHAPES torch.Size([64, 10, 6, 64, 64]) torch.Size([19, 6, 64, 64])\n",
      "SHAPES torch.Size([64, 10, 6, 64, 64]) torch.Size([19, 6, 64, 64])\n",
      "SHAPES torch.Size([64, 10, 6, 64, 64]) torch.Size([19, 6, 64, 64])\n",
      "SHAPES torch.Size([64, 10, 6, 64, 64]) torch.Size([19, 6, 64, 64])\n",
      "SHAPES torch.Size([64, 10, 6, 64, 64]) torch.Size([19, 6, 64, 64])\n",
      "SHAPES torch.Size([64, 10, 6, 64, 64]) torch.Size([19, 6, 64, 64])\n",
      "SHAPES torch.Size([64, 10, 6, 64, 64]) torch.Size([19, 6, 64, 64])\n",
      "SHAPES torch.Size([64, 10, 6, 64, 64]) torch.Size([19, 6, 64, 64])\n",
      "SHAPES torch.Size([64, 10, 6, 64, 64]) torch.Size([19, 6, 64, 64])\n",
      "SHAPES torch.Size([64, 10, 6, 64, 64]) torch.Size([19, 6, 64, 64])\n",
      "SHAPES torch.Size([64, 10, 6, 64, 64]) torch.Size([19, 6, 64, 64])\n",
      "SHAPES torch.Size([64, 10, 6, 64, 64]) torch.Size([19, 6, 64, 64])\n",
      "SHAPES torch.Size([64, 10, 6, 64, 64]) torch.Size([19, 6, 64, 64])\n",
      "SHAPES torch.Size([64, 10, 6, 64, 64]) torch.Size([19, 6, 64, 64])\n",
      "SHAPES torch.Size([64, 10, 6, 64, 64]) torch.Size([19, 6, 64, 64])\n",
      "SHAPES torch.Size([64, 10, 6, 64, 64]) torch.Size([19, 6, 64, 64])\n",
      "SHAPES torch.Size([64, 10, 6, 64, 64]) torch.Size([19, 6, 64, 64])\n"
     ]
    },
    {
     "data": {
      "application/vnd.jupyter.widget-view+json": {
       "model_id": "",
       "version_major": 2,
       "version_minor": 0
      },
      "text/plain": [
       "HBox(children=(FloatProgress(value=1.0, bar_style='info', description='Validating', layout=Layout(flex='2'), m…"
      ]
     },
     "metadata": {},
     "output_type": "display_data"
    },
    {
     "name": "stdout",
     "output_type": "stream",
     "text": [
      "SHAPES torch.Size([64, 10, 6, 64, 64]) torch.Size([19, 6, 64, 64])\n",
      "SHAPES torch.Size([64, 10, 6, 64, 64]) torch.Size([19, 6, 64, 64])\n",
      "SHAPES torch.Size([64, 10, 6, 64, 64]) torch.Size([19, 6, 64, 64])\n",
      "SHAPES torch.Size([64, 10, 6, 64, 64]) torch.Size([19, 6, 64, 64])\n",
      "SHAPES torch.Size([24, 10, 6, 64, 64]) torch.Size([19, 6, 64, 64])\n",
      "SHAPES torch.Size([64, 10, 6, 64, 64]) torch.Size([19, 6, 64, 64])\n",
      "SHAPES torch.Size([64, 10, 6, 64, 64]) torch.Size([19, 6, 64, 64])\n",
      "SHAPES torch.Size([64, 10, 6, 64, 64]) torch.Size([19, 6, 64, 64])\n",
      "SHAPES torch.Size([64, 10, 6, 64, 64]) torch.Size([19, 6, 64, 64])\n",
      "SHAPES torch.Size([64, 10, 6, 64, 64]) torch.Size([19, 6, 64, 64])\n",
      "SHAPES torch.Size([64, 10, 6, 64, 64]) torch.Size([19, 6, 64, 64])\n",
      "SHAPES torch.Size([64, 10, 6, 64, 64]) torch.Size([19, 6, 64, 64])\n",
      "SHAPES torch.Size([64, 10, 6, 64, 64]) torch.Size([19, 6, 64, 64])\n",
      "SHAPES torch.Size([64, 10, 6, 64, 64]) torch.Size([19, 6, 64, 64])\n",
      "SHAPES torch.Size([64, 10, 6, 64, 64]) torch.Size([19, 6, 64, 64])\n",
      "SHAPES torch.Size([64, 10, 6, 64, 64]) torch.Size([19, 6, 64, 64])\n",
      "SHAPES torch.Size([64, 10, 6, 64, 64]) torch.Size([19, 6, 64, 64])\n",
      "SHAPES torch.Size([64, 10, 6, 64, 64]) torch.Size([19, 6, 64, 64])\n",
      "SHAPES torch.Size([64, 10, 6, 64, 64]) torch.Size([19, 6, 64, 64])\n",
      "SHAPES torch.Size([64, 10, 6, 64, 64]) torch.Size([19, 6, 64, 64])\n",
      "SHAPES torch.Size([64, 10, 6, 64, 64]) torch.Size([19, 6, 64, 64])\n",
      "SHAPES torch.Size([64, 10, 6, 64, 64]) torch.Size([19, 6, 64, 64])\n",
      "SHAPES torch.Size([64, 10, 6, 64, 64]) torch.Size([19, 6, 64, 64])\n",
      "SHAPES torch.Size([64, 10, 6, 64, 64]) torch.Size([19, 6, 64, 64])\n",
      "SHAPES torch.Size([64, 10, 6, 64, 64]) torch.Size([19, 6, 64, 64])\n",
      "SHAPES torch.Size([64, 10, 6, 64, 64]) torch.Size([19, 6, 64, 64])\n",
      "SHAPES torch.Size([64, 10, 6, 64, 64]) torch.Size([19, 6, 64, 64])\n",
      "SHAPES torch.Size([64, 10, 6, 64, 64]) torch.Size([19, 6, 64, 64])\n",
      "SHAPES torch.Size([64, 10, 6, 64, 64]) torch.Size([19, 6, 64, 64])\n",
      "SHAPES torch.Size([64, 10, 6, 64, 64]) torch.Size([19, 6, 64, 64])\n",
      "SHAPES torch.Size([64, 10, 6, 64, 64]) torch.Size([19, 6, 64, 64])\n",
      "SHAPES torch.Size([64, 10, 6, 64, 64]) torch.Size([19, 6, 64, 64])\n",
      "SHAPES torch.Size([64, 10, 6, 64, 64]) torch.Size([19, 6, 64, 64])\n",
      "SHAPES torch.Size([64, 10, 6, 64, 64]) torch.Size([19, 6, 64, 64])\n",
      "SHAPES torch.Size([64, 10, 6, 64, 64]) torch.Size([19, 6, 64, 64])\n",
      "SHAPES torch.Size([64, 10, 6, 64, 64]) torch.Size([19, 6, 64, 64])\n",
      "SHAPES torch.Size([64, 10, 6, 64, 64]) torch.Size([19, 6, 64, 64])\n",
      "SHAPES torch.Size([64, 10, 6, 64, 64]) torch.Size([19, 6, 64, 64])\n",
      "SHAPES torch.Size([64, 10, 6, 64, 64]) torch.Size([19, 6, 64, 64])\n",
      "SHAPES torch.Size([64, 10, 6, 64, 64]) torch.Size([19, 6, 64, 64])\n"
     ]
    },
    {
     "data": {
      "application/vnd.jupyter.widget-view+json": {
       "model_id": "",
       "version_major": 2,
       "version_minor": 0
      },
      "text/plain": [
       "HBox(children=(FloatProgress(value=1.0, bar_style='info', description='Validating', layout=Layout(flex='2'), m…"
      ]
     },
     "metadata": {},
     "output_type": "display_data"
    },
    {
     "name": "stdout",
     "output_type": "stream",
     "text": [
      "SHAPES torch.Size([64, 10, 6, 64, 64]) torch.Size([19, 6, 64, 64])\n",
      "SHAPES torch.Size([64, 10, 6, 64, 64]) torch.Size([19, 6, 64, 64])\n",
      "SHAPES torch.Size([64, 10, 6, 64, 64]) torch.Size([19, 6, 64, 64])\n",
      "SHAPES torch.Size([64, 10, 6, 64, 64]) torch.Size([19, 6, 64, 64])\n",
      "SHAPES torch.Size([24, 10, 6, 64, 64]) torch.Size([19, 6, 64, 64])\n",
      "SHAPES torch.Size([64, 10, 6, 64, 64]) torch.Size([19, 6, 64, 64])\n",
      "SHAPES torch.Size([64, 10, 6, 64, 64]) torch.Size([19, 6, 64, 64])\n",
      "SHAPES torch.Size([64, 10, 6, 64, 64]) torch.Size([19, 6, 64, 64])\n",
      "SHAPES torch.Size([64, 10, 6, 64, 64]) torch.Size([19, 6, 64, 64])\n",
      "SHAPES torch.Size([64, 10, 6, 64, 64]) torch.Size([19, 6, 64, 64])\n",
      "SHAPES torch.Size([64, 10, 6, 64, 64]) torch.Size([19, 6, 64, 64])\n",
      "SHAPES torch.Size([64, 10, 6, 64, 64]) torch.Size([19, 6, 64, 64])\n",
      "SHAPES torch.Size([64, 10, 6, 64, 64]) torch.Size([19, 6, 64, 64])\n",
      "SHAPES torch.Size([64, 10, 6, 64, 64]) torch.Size([19, 6, 64, 64])\n",
      "SHAPES torch.Size([64, 10, 6, 64, 64]) torch.Size([19, 6, 64, 64])\n",
      "SHAPES torch.Size([64, 10, 6, 64, 64]) torch.Size([19, 6, 64, 64])\n",
      "SHAPES torch.Size([64, 10, 6, 64, 64]) torch.Size([19, 6, 64, 64])\n",
      "SHAPES torch.Size([64, 10, 6, 64, 64]) torch.Size([19, 6, 64, 64])\n",
      "SHAPES torch.Size([64, 10, 6, 64, 64]) torch.Size([19, 6, 64, 64])\n",
      "SHAPES torch.Size([64, 10, 6, 64, 64]) torch.Size([19, 6, 64, 64])\n",
      "SHAPES torch.Size([64, 10, 6, 64, 64]) torch.Size([19, 6, 64, 64])\n",
      "SHAPES torch.Size([64, 10, 6, 64, 64]) torch.Size([19, 6, 64, 64])\n",
      "SHAPES torch.Size([64, 10, 6, 64, 64]) torch.Size([19, 6, 64, 64])\n",
      "SHAPES torch.Size([64, 10, 6, 64, 64]) torch.Size([19, 6, 64, 64])\n",
      "SHAPES torch.Size([64, 10, 6, 64, 64]) torch.Size([19, 6, 64, 64])\n",
      "SHAPES torch.Size([64, 10, 6, 64, 64]) torch.Size([19, 6, 64, 64])\n",
      "SHAPES torch.Size([64, 10, 6, 64, 64]) torch.Size([19, 6, 64, 64])\n",
      "SHAPES torch.Size([64, 10, 6, 64, 64]) torch.Size([19, 6, 64, 64])\n",
      "SHAPES torch.Size([64, 10, 6, 64, 64]) torch.Size([19, 6, 64, 64])\n",
      "SHAPES torch.Size([64, 10, 6, 64, 64]) torch.Size([19, 6, 64, 64])\n",
      "SHAPES torch.Size([64, 10, 6, 64, 64]) torch.Size([19, 6, 64, 64])\n",
      "SHAPES torch.Size([64, 10, 6, 64, 64]) torch.Size([19, 6, 64, 64])\n",
      "SHAPES torch.Size([64, 10, 6, 64, 64]) torch.Size([19, 6, 64, 64])\n",
      "SHAPES torch.Size([64, 10, 6, 64, 64]) torch.Size([19, 6, 64, 64])\n",
      "SHAPES torch.Size([64, 10, 6, 64, 64]) torch.Size([19, 6, 64, 64])\n",
      "SHAPES torch.Size([64, 10, 6, 64, 64]) torch.Size([19, 6, 64, 64])\n",
      "SHAPES torch.Size([64, 10, 6, 64, 64]) torch.Size([19, 6, 64, 64])\n",
      "SHAPES torch.Size([64, 10, 6, 64, 64]) torch.Size([19, 6, 64, 64])\n",
      "SHAPES torch.Size([64, 10, 6, 64, 64]) torch.Size([19, 6, 64, 64])\n",
      "SHAPES torch.Size([64, 10, 6, 64, 64]) torch.Size([19, 6, 64, 64])\n"
     ]
    },
    {
     "data": {
      "application/vnd.jupyter.widget-view+json": {
       "model_id": "",
       "version_major": 2,
       "version_minor": 0
      },
      "text/plain": [
       "HBox(children=(FloatProgress(value=1.0, bar_style='info', description='Validating', layout=Layout(flex='2'), m…"
      ]
     },
     "metadata": {},
     "output_type": "display_data"
    },
    {
     "name": "stdout",
     "output_type": "stream",
     "text": [
      "SHAPES torch.Size([64, 10, 6, 64, 64]) torch.Size([19, 6, 64, 64])\n",
      "SHAPES torch.Size([64, 10, 6, 64, 64]) torch.Size([19, 6, 64, 64])\n",
      "SHAPES torch.Size([64, 10, 6, 64, 64]) torch.Size([19, 6, 64, 64])\n",
      "SHAPES torch.Size([64, 10, 6, 64, 64]) torch.Size([19, 6, 64, 64])\n",
      "SHAPES torch.Size([24, 10, 6, 64, 64]) torch.Size([19, 6, 64, 64])\n",
      "SHAPES torch.Size([64, 10, 6, 64, 64]) torch.Size([19, 6, 64, 64])\n",
      "SHAPES torch.Size([64, 10, 6, 64, 64]) torch.Size([19, 6, 64, 64])\n",
      "SHAPES torch.Size([64, 10, 6, 64, 64]) torch.Size([19, 6, 64, 64])\n",
      "SHAPES torch.Size([64, 10, 6, 64, 64]) torch.Size([19, 6, 64, 64])\n",
      "SHAPES torch.Size([64, 10, 6, 64, 64]) torch.Size([19, 6, 64, 64])\n",
      "SHAPES torch.Size([64, 10, 6, 64, 64]) torch.Size([19, 6, 64, 64])\n",
      "SHAPES torch.Size([64, 10, 6, 64, 64]) torch.Size([19, 6, 64, 64])\n",
      "SHAPES torch.Size([64, 10, 6, 64, 64]) torch.Size([19, 6, 64, 64])\n",
      "SHAPES torch.Size([64, 10, 6, 64, 64]) torch.Size([19, 6, 64, 64])\n",
      "SHAPES torch.Size([64, 10, 6, 64, 64]) torch.Size([19, 6, 64, 64])\n",
      "SHAPES torch.Size([64, 10, 6, 64, 64]) torch.Size([19, 6, 64, 64])\n",
      "SHAPES torch.Size([64, 10, 6, 64, 64]) torch.Size([19, 6, 64, 64])\n",
      "SHAPES torch.Size([64, 10, 6, 64, 64]) torch.Size([19, 6, 64, 64])\n",
      "SHAPES torch.Size([64, 10, 6, 64, 64]) torch.Size([19, 6, 64, 64])\n",
      "SHAPES torch.Size([64, 10, 6, 64, 64]) torch.Size([19, 6, 64, 64])\n",
      "SHAPES torch.Size([64, 10, 6, 64, 64]) torch.Size([19, 6, 64, 64])\n",
      "SHAPES torch.Size([64, 10, 6, 64, 64]) torch.Size([19, 6, 64, 64])\n",
      "SHAPES torch.Size([64, 10, 6, 64, 64]) torch.Size([19, 6, 64, 64])\n",
      "SHAPES torch.Size([64, 10, 6, 64, 64]) torch.Size([19, 6, 64, 64])\n",
      "SHAPES torch.Size([64, 10, 6, 64, 64]) torch.Size([19, 6, 64, 64])\n",
      "SHAPES torch.Size([64, 10, 6, 64, 64]) torch.Size([19, 6, 64, 64])\n",
      "SHAPES torch.Size([64, 10, 6, 64, 64]) torch.Size([19, 6, 64, 64])\n",
      "SHAPES torch.Size([64, 10, 6, 64, 64]) torch.Size([19, 6, 64, 64])\n",
      "SHAPES torch.Size([64, 10, 6, 64, 64]) torch.Size([19, 6, 64, 64])\n",
      "SHAPES torch.Size([64, 10, 6, 64, 64]) torch.Size([19, 6, 64, 64])\n",
      "SHAPES torch.Size([64, 10, 6, 64, 64]) torch.Size([19, 6, 64, 64])\n",
      "SHAPES torch.Size([64, 10, 6, 64, 64]) torch.Size([19, 6, 64, 64])\n",
      "SHAPES torch.Size([64, 10, 6, 64, 64]) torch.Size([19, 6, 64, 64])\n",
      "SHAPES torch.Size([64, 10, 6, 64, 64]) torch.Size([19, 6, 64, 64])\n",
      "SHAPES torch.Size([64, 10, 6, 64, 64]) torch.Size([19, 6, 64, 64])\n",
      "SHAPES torch.Size([64, 10, 6, 64, 64]) torch.Size([19, 6, 64, 64])\n",
      "SHAPES torch.Size([64, 10, 6, 64, 64]) torch.Size([19, 6, 64, 64])\n",
      "SHAPES torch.Size([64, 10, 6, 64, 64]) torch.Size([19, 6, 64, 64])\n",
      "SHAPES torch.Size([64, 10, 6, 64, 64]) torch.Size([19, 6, 64, 64])\n",
      "SHAPES torch.Size([64, 10, 6, 64, 64]) torch.Size([19, 6, 64, 64])\n"
     ]
    },
    {
     "data": {
      "application/vnd.jupyter.widget-view+json": {
       "model_id": "fea9401829f14ffd89b91f52e5992ff7",
       "version_major": 2,
       "version_minor": 0
      },
      "text/plain": [
       "HBox(children=(FloatProgress(value=1.0, bar_style='info', description='Validating', layout=Layout(flex='2'), m…"
      ]
     },
     "metadata": {},
     "output_type": "display_data"
    },
    {
     "name": "stdout",
     "output_type": "stream",
     "text": [
      "SHAPES torch.Size([64, 10, 6, 64, 64]) torch.Size([19, 6, 64, 64])\n",
      "SHAPES torch.Size([64, 10, 6, 64, 64]) torch.Size([19, 6, 64, 64])\n",
      "SHAPES torch.Size([64, 10, 6, 64, 64]) torch.Size([19, 6, 64, 64])\n",
      "SHAPES torch.Size([64, 10, 6, 64, 64]) torch.Size([19, 6, 64, 64])\n",
      "SHAPES torch.Size([24, 10, 6, 64, 64]) torch.Size([19, 6, 64, 64])\n"
     ]
    }
   ],
   "source": [
    "# TODO add args\n",
    "# MODEL_NAME = \"VAE\"\n",
    "# from models.vae import sample_model\n",
    "# study_name = \"2020-09-14_FEI_VAE\"\n",
    "\n",
    "# study_name = \"2020-09-14_FEI_conv-eigsum\"\n",
    "# MODEL_NAME = \"conv-eigsum\"\n",
    "# from models.conv_eigsum import sample_model\n",
    "\n",
    "study_name = \"2020-09-14_FEI_resnet-eigsum\"\n",
    "MODEL_NAME = \"resnet-eigsum\"\n",
    "# from models.resnet_eigsum import sample_model\n",
    "\n",
    "def objective(trial, tags, save_dir, max_train_iter, datamodule,\n",
    "        monitor='val_mse_loss', gpus=[0]):\n",
    "    \"Optuna objective\"\n",
    "    # gc.collect()\n",
    "    # torch.cuda.empty_cache()\n",
    "    save_dir = os.path.join(save_dir, f\"trial_{trial.number}\")\n",
    "    model, datamodule = sample_model(trial, datamodule, save_dir)\n",
    "    save_name = MODEL_NAME+\"_{epoch}_{\"+monitor+\":.2f}\"\n",
    "    checkpoint_callback = pl.callbacks.ModelCheckpoint(\n",
    "        filepath=os.path.join(save_dir,save_name),\n",
    "        save_top_k=1,\n",
    "        verbose=False,\n",
    "        monitor=monitor,\n",
    "        mode='min',\n",
    "        prefix=''\n",
    "    )\n",
    "\n",
    "    neptune_logger = NeptuneLogger(\n",
    "        api_key=os.environ[\"NEPTUNE_API_TOKEN\"],\n",
    "        project_name=\"tbenst/retina\",\n",
    "        params=model.hparams,\n",
    "        experiment_name=MODEL_NAME,  # Optional,\n",
    "        tags=[\"optuna-trial\"] + tags\n",
    "    )\n",
    "    trainer = pl.Trainer(gpus=gpus, gradient_clip_val=0.5,\n",
    "        logger=neptune_logger, checkpoint_callback=checkpoint_callback,\n",
    "        early_stop_callback=PyTorchLightningPruningCallback(trial, monitor=monitor),\n",
    "        max_epochs=max_train_iter, auto_lr_find=True,\n",
    "        default_root_dir=save_dir)\n",
    "    # https://pytorch-lightning.readthedocs.io/en/latest/api/pytorch_lightning.trainer.html#weights-save-path\n",
    "    #     weights_save_path=save_dir)\n",
    "    #                      logger=mlf_logger)\n",
    "    # trainer = pl.Trainer(num_processes=1, gradient_clip_val=0.5)\n",
    "    trainer.fit(model, datamodule)\n",
    "    \n",
    "    return trainer.logged_metrics[monitor]\n",
    "\n",
    "nSamples = len(retina_dset)\n",
    "train_idx = [i for i in range(nSamples) if (i+1)%5 != 0]\n",
    "val_idx = np.arange(nSamples)[slice(4,nSamples,10)]\n",
    "test_idx = np.arange(nSamples)[slice(9,nSamples,10)]\n",
    "dm = ImageRetina(image_dset, retina_dset,batch_size=64,\n",
    "                 tvt_idxs=(train_idx, val_idx, test_idx))\n",
    "\n",
    "assert os.path.exists(model_base_dir)\n",
    "now_str = datetime.now().isoformat()\n",
    "save_dir = os.path.join(model_base_dir,\n",
    "    now_str + \"-optuna\")\n",
    "\n",
    "tags = [MODEL_NAME, now_str+\"-optuna\"]\n",
    "\n",
    "# worthless for distributed training...\n",
    "# neptune.init(project_qualified_name='tbenst/retina')\n",
    "# neptune.create_experiment('optuna', tags=[\"optuna-master\"] + tags)\n",
    "# neptune_callback = optuna_utils.NeptuneCallback()\n",
    "\n",
    "max_train_iter = 25\n",
    "storage = f'postgresql://{user}:{pw}@{server}:{port}/optuna'\n",
    "pruner = optuna.pruners.HyperbandPruner(\n",
    "    min_resource=1,\n",
    "    max_resource=max_train_iter,\n",
    "    reduction_factor=3\n",
    ")\n",
    "\n",
    "study = optuna.create_study(direction='minimize',\n",
    "   study_name=study_name, pruner=pruner,\n",
    "    storage=storage, load_if_exists=True\n",
    ")\n",
    "    \n",
    "# catch RuntimeError ie CUDA error: device-side assert triggered\n",
    "# TODO not a good idea...?\n",
    "study.optimize(partial(objective, tags=tags, save_dir=save_dir,\n",
    "        max_train_iter=max_train_iter, datamodule=dm, gpus=gpus),\n",
    "    # callbacks=[neptune_callback],\n",
    "    timeout=60*60*8, gc_after_trial=True)\n",
    "# optuna_utils.log_study(study)"
   ]
  },
  {
   "cell_type": "code",
   "execution_count": null,
   "metadata": {},
   "outputs": [],
   "source": []
  }
 ],
 "metadata": {
  "kernelspec": {
   "display_name": "Python 3",
   "language": "python",
   "name": "python3"
  },
  "language_info": {
   "codemirror_mode": {
    "name": "ipython",
    "version": 3
   },
   "file_extension": ".py",
   "mimetype": "text/x-python",
   "name": "python",
   "nbconvert_exporter": "python",
   "pygments_lexer": "ipython3",
   "version": "3.8.5"
  }
 },
 "nbformat": 4,
 "nbformat_minor": 4
}
